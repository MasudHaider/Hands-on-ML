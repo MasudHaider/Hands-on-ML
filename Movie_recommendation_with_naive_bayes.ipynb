{
 "cells": [
  {
   "cell_type": "code",
   "execution_count": 1,
   "id": "1a8ea92a",
   "metadata": {},
   "outputs": [],
   "source": [
    "import numpy as np\n",
    "X_train = np.array([\n",
    "    [0, 1, 1],\n",
    "    [0, 0, 1],\n",
    "    [0, 0, 0],\n",
    "    [1, 1, 0]\n",
    "])\n",
    "Y_train = ['Y', 'N', 'Y', 'Y']\n",
    "X_test = np.array([[1, 1, 0]])"
   ]
  },
  {
   "cell_type": "markdown",
   "id": "1b5ba0d3",
   "metadata": {},
   "source": [
    "#### starting with prior, first group the data by label and record their indices by classes"
   ]
  },
  {
   "cell_type": "code",
   "execution_count": 2,
   "id": "aa36716b",
   "metadata": {},
   "outputs": [],
   "source": [
    "def get_label_indices(labels):\n",
    "    \"\"\"\n",
    "    @param labels: list of labels\n",
    "    @return: dict, {class1: [indices], class2: [indices]}\n",
    "    \"\"\"\n",
    "    \n",
    "    from collections import defaultdict\n",
    "    label_indices = defaultdict(list)\n",
    "    for index, label in enumerate(labels):\n",
    "        label_indices[label].append(index)\n",
    "    return label_indices"
   ]
  },
  {
   "cell_type": "code",
   "execution_count": 3,
   "id": "2f556590",
   "metadata": {},
   "outputs": [
    {
     "name": "stdout",
     "output_type": "stream",
     "text": [
      "label_indices:\n",
      " defaultdict(<class 'list'>, {'Y': [0, 2, 3], 'N': [1]})\n"
     ]
    }
   ],
   "source": [
    "# test the function\n",
    "label_indices = get_label_indices(Y_train)\n",
    "print('label_indices:\\n', label_indices)"
   ]
  },
  {
   "cell_type": "code",
   "execution_count": 4,
   "id": "90fb24d7",
   "metadata": {},
   "outputs": [],
   "source": [
    "# with label_indices, next calculate the prior\n",
    "def get_prior(label_indices):\n",
    "    \"\"\"\n",
    "    Compute prior based on training samples\n",
    "    @param label_indices: grouped sample indices by class\n",
    "    @return: dictionary, with class label as key, corresponding \n",
    "    prior as the value\n",
    "    \"\"\"\n",
    "    prior = {label: len(indices) for label, indices in label_indices.items()}\n",
    "    total_count = sum(prior.values())\n",
    "    for label in prior:\n",
    "        prior[label] /= total_count\n",
    "    return prior"
   ]
  },
  {
   "cell_type": "code",
   "execution_count": 5,
   "id": "c672d632",
   "metadata": {},
   "outputs": [
    {
     "name": "stdout",
     "output_type": "stream",
     "text": [
      "Prior: {'Y': 0.75, 'N': 0.25}\n"
     ]
    }
   ],
   "source": [
    "# look at computed prior\n",
    "prior = get_prior(label_indices)\n",
    "print('Prior:', prior)"
   ]
  },
  {
   "cell_type": "code",
   "execution_count": 6,
   "id": "5e446853",
   "metadata": {},
   "outputs": [],
   "source": [
    "# likelihood. (conditional probability, P(feature | class))\n",
    "def get_likelihood(features, label_indices, smoothing=0):\n",
    "        \n",
    "    \"\"\"\n",
    "    Compute likelihood based on training samples\n",
    "    @param features: matrix of features\n",
    "    @param label_indices: grouped sample indices by class\n",
    "    @param smoothing: integer, additive smoothing parameter\n",
    "    @return: dictionary, with class as key, corresponding \n",
    "    conditional probability P(feature|class) vector \n",
    "    as value\n",
    "    \"\"\"\n",
    "    \n",
    "    likelihood = {}\n",
    "    for label, indices in label_indices.items():\n",
    "        likelihood[label] = features[indices, :].sum(axis=0) + smoothing\n",
    "        total_count = len(indices)\n",
    "        likelihood[label] = likelihood[label] / (total_count + 2 * smoothing)\n",
    "    \n",
    "    return likelihood"
   ]
  },
  {
   "cell_type": "code",
   "execution_count": 7,
   "id": "39ed0626",
   "metadata": {},
   "outputs": [
    {
     "name": "stdout",
     "output_type": "stream",
     "text": [
      "Likelihood:\n",
      " {'Y': array([0.4, 0.6, 0.4]), 'N': array([0.33333333, 0.33333333, 0.66666667])}\n"
     ]
    }
   ],
   "source": [
    "smoothing = 1\n",
    "likelihood = get_likelihood(X_train, label_indices, smoothing)\n",
    "print('Likelihood:\\n', likelihood)"
   ]
  },
  {
   "cell_type": "code",
   "execution_count": 8,
   "id": "c94ea30e",
   "metadata": {},
   "outputs": [],
   "source": [
    "# with prior and likelihood we can compute posterior\n",
    "def get_posterior(X, prior, likelihood):\n",
    "    \"\"\"\n",
    "        Compute posterior of testing samples, based on prior and \n",
    "        likelihood\n",
    "        @param X: testing samples\n",
    "        @param prior: dictionary, with class label as key, \n",
    "        corresponding prior as the value\n",
    "        @param likelihood: dictionary, with class label as key, \n",
    "        corresponding conditional probability\n",
    "        vector as value\n",
    "        @return: dictionary, with class label as key, corresponding \n",
    "        posterior as value\n",
    "    \"\"\"\n",
    "    posteriors = []\n",
    "    for x in X:\n",
    "        # posterior is proportional to prior * likelihood\n",
    "        posterior = prior.copy()\n",
    "        for label, likelihood_label in likelihood.items():\n",
    "            for index, bool_value, in enumerate(x):\n",
    "                posterior[label] *= likelihood_label[index] if bool_value else (1 - likelihood_label[index])\n",
    "        # normalize so that all sums upto 1\n",
    "        sum_posterior = sum(posterior.values())\n",
    "        for label in posterior:\n",
    "            if posterior[label] == float('inf'):\n",
    "                posterior[label] = 1.0\n",
    "            else:\n",
    "                posterior[label] /= sum_posterior\n",
    "            posteriors.append(posterior.copy())\n",
    "        return posteriors"
   ]
  },
  {
   "cell_type": "code",
   "execution_count": 9,
   "id": "e51a334f",
   "metadata": {},
   "outputs": [
    {
     "name": "stdout",
     "output_type": "stream",
     "text": [
      "Posterior:\n",
      " [{'Y': 0.9210360075805433, 'N': 0.00925925925925926}, {'Y': 0.9210360075805433, 'N': 0.07896399241945673}]\n"
     ]
    }
   ],
   "source": [
    "posterior = get_posterior(X_test, prior, likelihood)\n",
    "print('Posterior:\\n', posterior)"
   ]
  },
  {
   "cell_type": "markdown",
   "id": "6bb49f61",
   "metadata": {},
   "source": [
    "#### Implementing naive bayes with scikit-learn"
   ]
  },
  {
   "cell_type": "code",
   "execution_count": 10,
   "id": "cb37ef8f",
   "metadata": {},
   "outputs": [],
   "source": [
    "from sklearn.naive_bayes import BernoulliNB"
   ]
  },
  {
   "cell_type": "code",
   "execution_count": 11,
   "id": "5683193d",
   "metadata": {},
   "outputs": [],
   "source": [
    "# initialize model with smoothing=1 (alpha in sklearn) and prior learned \n",
    "# from training set (fit_prior=True in sklearn)\n",
    "clf = BernoulliNB(alpha=1.0, fit_prior=True)"
   ]
  },
  {
   "cell_type": "code",
   "execution_count": 12,
   "id": "b1ea68e2",
   "metadata": {},
   "outputs": [
    {
     "data": {
      "text/plain": [
       "BernoulliNB()"
      ]
     },
     "execution_count": 12,
     "metadata": {},
     "output_type": "execute_result"
    }
   ],
   "source": [
    "clf.fit(X_train, Y_train)"
   ]
  },
  {
   "cell_type": "code",
   "execution_count": 13,
   "id": "441337f6",
   "metadata": {},
   "outputs": [
    {
     "name": "stdout",
     "output_type": "stream",
     "text": [
      "[scikit-learn] Predicted probabilities:\n",
      " [[0.07896399 0.92103601]]\n"
     ]
    }
   ],
   "source": [
    "# predicted probability results with predict proba method\n",
    "pred_prob = clf.predict_proba(X_test)\n",
    "print('[scikit-learn] Predicted probabilities:\\n', pred_prob)"
   ]
  },
  {
   "cell_type": "code",
   "execution_count": 14,
   "id": "4b4a8b8a",
   "metadata": {},
   "outputs": [
    {
     "name": "stdout",
     "output_type": "stream",
     "text": [
      "[scikit-learn] Prediction: ['Y']\n"
     ]
    }
   ],
   "source": [
    "# directly acquire the predicted class with predict method (0.5 is deafult threshold)\n",
    "pred = clf.predict(X_test)\n",
    "print('[scikit-learn] Prediction:', pred)"
   ]
  },
  {
   "cell_type": "markdown",
   "id": "17eb1c5a",
   "metadata": {},
   "source": [
    "### building a movie recommendation system with naive bayes"
   ]
  },
  {
   "cell_type": "code",
   "execution_count": 34,
   "id": "2244dd54",
   "metadata": {},
   "outputs": [],
   "source": [
    "# import necessary modules\n",
    "import numpy as np\n",
    "from collections import defaultdict\n",
    "data_path = 'D:/ml-1m/ml-1m/ratings.dat'\n",
    "n_users = 6040\n",
    "n_movies = 3706"
   ]
  },
  {
   "cell_type": "code",
   "execution_count": 35,
   "id": "f152c63c",
   "metadata": {},
   "outputs": [
    {
     "name": "stdout",
     "output_type": "stream",
     "text": [
      "(6040, 3706)\n"
     ]
    }
   ],
   "source": [
    "data = np.zeros([n_users, n_movies], dtype=np.float32)\n",
    "print(data.shape)"
   ]
  },
  {
   "cell_type": "code",
   "execution_count": 44,
   "id": "092242eb",
   "metadata": {},
   "outputs": [],
   "source": [
    "# function to load rating data\n",
    "def load_rating_data(data_path, n_users, n_movies):\n",
    "    \"\"\"\n",
    "    Load rating data from file and also return the number of \n",
    "    ratings for each movie and movie_id index mapping\n",
    "    @param data_path: path of the rating data file\n",
    "    @param n_users: number of users\n",
    "    @param n_movies: number of movies that have ratings\n",
    "    @return: rating data in the numpy array of [user, movie]; \n",
    "    movie_n_rating, {movie_id: number of ratings};\n",
    "    movie_id_mapping, {movie_id: column index in \n",
    "    rating data}\n",
    "    \"\"\"\n",
    "    data = np.zeros([n_users, n_movies], dtype=np.float32)\n",
    "    movie_id_mapping = {}\n",
    "    movie_n_rating = defaultdict(int)\n",
    "    \n",
    "    with open(data_path, 'r') as file:\n",
    "        for line in file.readlines()[1:]:\n",
    "            user_id, movie_id, rating, _ = line.split(\"::\")\n",
    "            user_id = int(user_id) - 1\n",
    "            if movie_id not in movie_id_mapping:\n",
    "                movie_id_mapping[movie_id] = len(movie_id_mapping)\n",
    "            rating = int(float(rating))\n",
    "            data[user_id, movie_id_mapping[movie_id]] = rating\n",
    "            if rating > 0:\n",
    "                movie_n_rating[movie_id] += 1\n",
    "    return data, movie_n_rating, movie_id_mapping"
   ]
  },
  {
   "cell_type": "code",
   "execution_count": 45,
   "id": "15662b86",
   "metadata": {},
   "outputs": [],
   "source": [
    "# load data using this function\n",
    "data, movie_n_rating, movie_id_mapping = load_rating_data(data_path, n_users, n_movies)"
   ]
  },
  {
   "cell_type": "code",
   "execution_count": 46,
   "id": "1346e75b",
   "metadata": {},
   "outputs": [],
   "source": [
    "# analyze data distribution\n",
    "def display_distribution(data):\n",
    "    values, counts = np.unique(data, return_counts=True)\n",
    "    for value, count in zip(values, counts):\n",
    "        print(f'Number of rating {int(value)}: {count}')"
   ]
  },
  {
   "cell_type": "code",
   "execution_count": 47,
   "id": "57f697c4",
   "metadata": {},
   "outputs": [
    {
     "name": "stdout",
     "output_type": "stream",
     "text": [
      "Number of rating 0: 21384032\n",
      "Number of rating 1: 56174\n",
      "Number of rating 2: 107557\n",
      "Number of rating 3: 261197\n",
      "Number of rating 4: 348971\n",
      "Number of rating 5: 226309\n"
     ]
    }
   ],
   "source": [
    "display_distribution(data)"
   ]
  },
  {
   "cell_type": "markdown",
   "id": "0f367d63",
   "metadata": {},
   "source": [
    "###### since most ratings are unknown, we take movie with most known ratings as our target movie"
   ]
  },
  {
   "cell_type": "code",
   "execution_count": 48,
   "id": "781d7b65",
   "metadata": {},
   "outputs": [
    {
     "name": "stdout",
     "output_type": "stream",
     "text": [
      "Movie ID 2858 has 3428 ratings\n"
     ]
    }
   ],
   "source": [
    "movie_id_most, n_rating_most = sorted(movie_n_rating.items(), key=lambda d: d[1], reverse=True)[0]\n",
    "print(f'Movie ID {movie_id_most} has {n_rating_most} ratings')"
   ]
  },
  {
   "cell_type": "markdown",
   "id": "323c8ddb",
   "metadata": {},
   "source": [
    "###### movie id 260 is the target movie, ratings of rest of the movies are signals. we construct the dataset accordingly"
   ]
  },
  {
   "cell_type": "code",
   "execution_count": 49,
   "id": "1e533d16",
   "metadata": {},
   "outputs": [],
   "source": [
    "X_raw = np.delete(data, movie_id_mapping[movie_id_most], axis=1)\n",
    "Y_raw = data[:, movie_id_mapping[movie_id_most]]"
   ]
  },
  {
   "cell_type": "markdown",
   "id": "d872e550",
   "metadata": {},
   "source": [
    "###### if samples with movie id 260 doesn't have ratings, discard those"
   ]
  },
  {
   "cell_type": "code",
   "execution_count": 50,
   "id": "ea2cbc98",
   "metadata": {},
   "outputs": [
    {
     "name": "stdout",
     "output_type": "stream",
     "text": [
      "Shape of X: (3428, 3705)\n",
      "Shape of Y: (3428,)\n"
     ]
    }
   ],
   "source": [
    "X = X_raw[Y_raw > 0]\n",
    "Y = Y_raw[Y_raw > 0]\n",
    "print(\"Shape of X:\", X.shape)\n",
    "print('Shape of Y:', Y.shape)"
   ]
  },
  {
   "cell_type": "markdown",
   "id": "abcf013d",
   "metadata": {},
   "source": [
    "###### distribution of the target movie ratings"
   ]
  },
  {
   "cell_type": "code",
   "execution_count": 51,
   "id": "92566ffe",
   "metadata": {},
   "outputs": [
    {
     "name": "stdout",
     "output_type": "stream",
     "text": [
      "Number of rating 1: 83\n",
      "Number of rating 2: 134\n",
      "Number of rating 3: 358\n",
      "Number of rating 4: 890\n",
      "Number of rating 5: 1963\n"
     ]
    }
   ],
   "source": [
    "display_distribution(Y)"
   ]
  },
  {
   "cell_type": "markdown",
   "id": "837e10c5",
   "metadata": {},
   "source": [
    "###### movies with rating > 3 are considered as recommended"
   ]
  },
  {
   "cell_type": "code",
   "execution_count": 52,
   "id": "702c76ce",
   "metadata": {},
   "outputs": [
    {
     "name": "stdout",
     "output_type": "stream",
     "text": [
      "2853 positive samples and 575 negative samples\n"
     ]
    }
   ],
   "source": [
    "recommend = 3\n",
    "Y[Y <= recommend] = 0\n",
    "Y[Y > recommend] = 1\n",
    "n_pos = (Y == 1).sum()\n",
    "n_neg = (Y == 0).sum()\n",
    "print(f'{n_pos} positive samples and {n_neg} negative samples')"
   ]
  },
  {
   "cell_type": "markdown",
   "id": "ee8a9cee",
   "metadata": {},
   "source": [
    "###### split the dataset "
   ]
  },
  {
   "cell_type": "code",
   "execution_count": 53,
   "id": "85adc1cc",
   "metadata": {},
   "outputs": [],
   "source": [
    "from sklearn.model_selection import train_test_split\n",
    "X_train, X_test, Y_train, Y_test = train_test_split(X, Y, test_size=0.2, random_state=42)"
   ]
  },
  {
   "cell_type": "code",
   "execution_count": 54,
   "id": "df8061ff",
   "metadata": {},
   "outputs": [
    {
     "name": "stdout",
     "output_type": "stream",
     "text": [
      "2742 686\n"
     ]
    }
   ],
   "source": [
    "print(len(Y_train), len(Y_test))"
   ]
  },
  {
   "cell_type": "markdown",
   "id": "57c701f2",
   "metadata": {},
   "source": [
    "###### MultinomialNB works well with integers"
   ]
  },
  {
   "cell_type": "code",
   "execution_count": 55,
   "id": "17cc8784",
   "metadata": {},
   "outputs": [
    {
     "data": {
      "text/plain": [
       "MultinomialNB()"
      ]
     },
     "execution_count": 55,
     "metadata": {},
     "output_type": "execute_result"
    }
   ],
   "source": [
    "from sklearn.naive_bayes import MultinomialNB\n",
    "clf = MultinomialNB(alpha=1.0, fit_prior=True)\n",
    "clf.fit(X_train, Y_train)"
   ]
  },
  {
   "cell_type": "code",
   "execution_count": 56,
   "id": "51bafd71",
   "metadata": {},
   "outputs": [
    {
     "name": "stdout",
     "output_type": "stream",
     "text": [
      "[[7.50487439e-23 1.00000000e+00]\n",
      " [1.01806208e-01 8.98193792e-01]\n",
      " [3.57740570e-10 1.00000000e+00]\n",
      " [1.00000000e+00 2.94095407e-16]\n",
      " [1.00000000e+00 2.49760836e-25]\n",
      " [7.62630220e-01 2.37369780e-01]\n",
      " [3.47479627e-05 9.99965252e-01]\n",
      " [2.66075292e-11 1.00000000e+00]\n",
      " [5.88493563e-10 9.99999999e-01]\n",
      " [9.71326867e-09 9.99999990e-01]]\n"
     ]
    }
   ],
   "source": [
    "prediction_prob = clf.predict_proba(X_test)\n",
    "print(prediction_prob[0:10])"
   ]
  },
  {
   "cell_type": "code",
   "execution_count": 57,
   "id": "0bb88c21",
   "metadata": {},
   "outputs": [
    {
     "name": "stdout",
     "output_type": "stream",
     "text": [
      "[1. 1. 1. 0. 0. 0. 1. 1. 1. 1.]\n"
     ]
    }
   ],
   "source": [
    "prediction = clf.predict(X_test)\n",
    "print(prediction[:10])"
   ]
  },
  {
   "cell_type": "code",
   "execution_count": 58,
   "id": "76979168",
   "metadata": {},
   "outputs": [
    {
     "name": "stdout",
     "output_type": "stream",
     "text": [
      "The accuracy is: 71.6%\n"
     ]
    }
   ],
   "source": [
    "accuracy = clf.score(X_test, Y_test)\n",
    "print(f'The accuracy is: {accuracy*100:.1f}%')"
   ]
  },
  {
   "cell_type": "markdown",
   "id": "fe8e6ca1",
   "metadata": {},
   "source": [
    "#### Evaluating classification performance"
   ]
  },
  {
   "cell_type": "code",
   "execution_count": 59,
   "id": "2b4c1d86",
   "metadata": {},
   "outputs": [
    {
     "name": "stdout",
     "output_type": "stream",
     "text": [
      "[[ 60  47]\n",
      " [148 431]]\n"
     ]
    }
   ],
   "source": [
    "# confusion matrix\n",
    "from sklearn.metrics import confusion_matrix\n",
    "print(confusion_matrix(Y_test, prediction, labels=[0, 1]))"
   ]
  },
  {
   "cell_type": "code",
   "execution_count": 63,
   "id": "1e55df62",
   "metadata": {},
   "outputs": [
    {
     "data": {
      "text/plain": [
       "0.9016736401673641"
      ]
     },
     "execution_count": 63,
     "metadata": {},
     "output_type": "execute_result"
    }
   ],
   "source": [
    "# precision, recall, f1 score\n",
    "from sklearn.metrics import precision_score, recall_score, f1_score\n",
    "precision_score(Y_test, prediction, pos_label=1)"
   ]
  },
  {
   "cell_type": "code",
   "execution_count": 61,
   "id": "7e5adf0f",
   "metadata": {},
   "outputs": [
    {
     "data": {
      "text/plain": [
       "0.7443868739205527"
      ]
     },
     "execution_count": 61,
     "metadata": {},
     "output_type": "execute_result"
    }
   ],
   "source": [
    "recall_score(Y_test, prediction, pos_label=1)"
   ]
  },
  {
   "cell_type": "code",
   "execution_count": 62,
   "id": "a9adb343",
   "metadata": {},
   "outputs": [
    {
     "data": {
      "text/plain": [
       "0.815515610217597"
      ]
     },
     "execution_count": 62,
     "metadata": {},
     "output_type": "execute_result"
    }
   ],
   "source": [
    "f1_score(Y_test, prediction, pos_label=1)"
   ]
  },
  {
   "cell_type": "markdown",
   "id": "e761bb22",
   "metadata": {},
   "source": [
    "###### obtain precision, recall and f1 score for each class"
   ]
  },
  {
   "cell_type": "code",
   "execution_count": 65,
   "id": "93ed8518",
   "metadata": {},
   "outputs": [
    {
     "name": "stdout",
     "output_type": "stream",
     "text": [
      "              precision    recall  f1-score   support\n",
      "\n",
      "         0.0       0.29      0.56      0.38       107\n",
      "         1.0       0.90      0.74      0.82       579\n",
      "\n",
      "    accuracy                           0.72       686\n",
      "   macro avg       0.60      0.65      0.60       686\n",
      "weighted avg       0.81      0.72      0.75       686\n",
      "\n"
     ]
    }
   ],
   "source": [
    "from sklearn.metrics import classification_report\n",
    "report = classification_report(Y_test, prediction)\n",
    "print(report)"
   ]
  },
  {
   "cell_type": "markdown",
   "id": "8426f7a8",
   "metadata": {},
   "source": [
    "###### ROC curve"
   ]
  },
  {
   "cell_type": "code",
   "execution_count": 66,
   "id": "eca8131e",
   "metadata": {},
   "outputs": [],
   "source": [
    "pos_prob = prediction_prob[:, 1]\n",
    "thresholds = np.arange(0.0, 1.1, 0.05)\n",
    "true_pos, false_pos = [0]*len(thresholds), [0]*len(thresholds)\n",
    "for pred, y in zip(pos_prob, Y_test):\n",
    "    for i, threshold in enumerate(thresholds):\n",
    "        if pred >= threshold:\n",
    "            # if truth and prediction are both 1\n",
    "            if y == 1:\n",
    "                true_pos[i] += 1\n",
    "            # if truth is 0 while prediction is 1\n",
    "            else:\n",
    "                false_pos[i] += 1\n",
    "        else:\n",
    "            break"
   ]
  },
  {
   "cell_type": "markdown",
   "id": "70f39214",
   "metadata": {},
   "source": [
    "###### calculate the true and false positive rates"
   ]
  },
  {
   "cell_type": "code",
   "execution_count": 67,
   "id": "2912086e",
   "metadata": {},
   "outputs": [],
   "source": [
    "n_pos_test = (Y_test == 1).sum()\n",
    "n_neg_test = (Y_test == 0).sum()\n",
    "true_pos_rate = [tp / n_pos_test for tp in true_pos]\n",
    "false_pos_rate = [fp / n_neg_test for fp in false_pos]"
   ]
  },
  {
   "cell_type": "markdown",
   "id": "8c284513",
   "metadata": {},
   "source": [
    "###### plot ROC curve with matplotlib"
   ]
  },
  {
   "cell_type": "code",
   "execution_count": 68,
   "id": "6820209b",
   "metadata": {},
   "outputs": [
    {
     "name": "stderr",
     "output_type": "stream",
     "text": [
      "No handles with labels found to put in legend.\n"
     ]
    },
    {
     "data": {
      "image/png": "[encoded data removed]",
      "text/plain": [
       "<Figure size 432x288 with 1 Axes>"
      ]
     },
     "metadata": {
      "needs_background": "light"
     },
     "output_type": "display_data"
    }
   ],
   "source": [
    "import matplotlib.pyplot as plt\n",
    "plt.figure()\n",
    "lw = 2\n",
    "plt.plot(false_pos_rate, true_pos_rate, \n",
    "color='darkorange', lw=lw)\n",
    "plt.plot([0, 1], [0, 1], color='navy', lw=lw, linestyle='--')\n",
    "plt.xlim([0.0, 1.0])\n",
    "plt.ylim([0.0, 1.05])\n",
    "plt.xlabel('False Positive Rate')\n",
    "plt.ylabel('True Positive Rate')\n",
    "plt.title('Receiver Operating Characteristic')\n",
    "plt.legend(loc=\"lower right\")\n",
    "plt.show()"
   ]
  },
  {
   "cell_type": "markdown",
   "id": "309fbd56",
   "metadata": {},
   "source": [
    "###### Exact AUC of our model"
   ]
  },
  {
   "cell_type": "code",
   "execution_count": 69,
   "id": "2cb131eb",
   "metadata": {},
   "outputs": [
    {
     "data": {
      "text/plain": [
       "0.6857375752586637"
      ]
     },
     "execution_count": 69,
     "metadata": {},
     "output_type": "execute_result"
    }
   ],
   "source": [
    "from sklearn.metrics import roc_auc_score\n",
    "roc_auc_score(Y_test, pos_prob)"
   ]
  },
  {
   "cell_type": "markdown",
   "id": "2c08fe81",
   "metadata": {},
   "source": [
    "#### Tuning Model"
   ]
  },
  {
   "cell_type": "code",
   "execution_count": 71,
   "id": "23acf55b",
   "metadata": {},
   "outputs": [],
   "source": [
    "# split() method from StratifiedKFold divides the data in chunks with preserved class distribution\n",
    "from sklearn.model_selection import StratifiedKFold\n",
    "k = 5\n",
    "k_fold = StratifiedKFold(n_splits=k, random_state=None)"
   ]
  },
  {
   "cell_type": "code",
   "execution_count": 72,
   "id": "bb82df68",
   "metadata": {},
   "outputs": [],
   "source": [
    "smoothing_factor_option = [1, 2, 3, 4, 5, 6]\n",
    "fit_prior_option = [True, False]\n",
    "auc_record = {}"
   ]
  },
  {
   "cell_type": "code",
   "execution_count": 74,
   "id": "6b6b6aff",
   "metadata": {},
   "outputs": [],
   "source": [
    "for train_indices, test_indices in k_fold.split(X, Y):\n",
    "    X_train, X_test = X[train_indices], X[test_indices]\n",
    "    Y_train, Y_test = Y[train_indices], Y[test_indices]\n",
    "    for alpha in smoothing_factor_option:\n",
    "        if alpha not in auc_record:\n",
    "            auc_record[alpha] = {}\n",
    "        for fit_prior in fit_prior_option:\n",
    "            clf = MultinomialNB(alpha=alpha, fit_prior=fit_prior)\n",
    "            clf.fit(X_train, Y_train)\n",
    "            prediction_prob = clf.predict_proba(X_test)\n",
    "            pos_prob = prediction_prob[:, 1]\n",
    "            auc = roc_auc_score(Y_test, pos_prob)\n",
    "            auc_record[alpha][fit_prior] = auc + auc_record[alpha].get(fit_prior, 0.0)"
   ]
  },
  {
   "cell_type": "markdown",
   "id": "35fec506",
   "metadata": {},
   "source": [
    "###### Results"
   ]
  },
  {
   "cell_type": "code",
   "execution_count": 75,
   "id": "bb49f879",
   "metadata": {},
   "outputs": [
    {
     "name": "stdout",
     "output_type": "stream",
     "text": [
      "    1        True       0.65647\n",
      "    1        False       0.65708\n",
      "    2        True       0.65795\n",
      "    2        False       0.65823\n",
      "    3        True       0.65740\n",
      "    3        False       0.65801\n",
      "    4        True       0.65808\n",
      "    4        False       0.65795\n",
      "    5        True       0.65814\n",
      "    5        False       0.65694\n",
      "    6        True       0.65663\n",
      "    6        False       0.65719\n"
     ]
    }
   ],
   "source": [
    "for smoothing, smoothing_record in auc_record.items():\n",
    "    for fit_prior, auc in smoothing_record.items():\n",
    "        print(f'    {smoothing}        {fit_prior}       {auc/k:.5f}')"
   ]
  },
  {
   "cell_type": "markdown",
   "id": "9751523d",
   "metadata": {},
   "source": [
    "###### The (2, False) set enables the best averaged AUC at 0.65823\n",
    "###### finally, retrain the model with best set of hyperparameters (2, False) and compute AUC"
   ]
  },
  {
   "cell_type": "code",
   "execution_count": 76,
   "id": "5df0d597",
   "metadata": {},
   "outputs": [
    {
     "name": "stdout",
     "output_type": "stream",
     "text": [
      "AUC with the best model: 0.6142868039664378\n"
     ]
    }
   ],
   "source": [
    "clf = MultinomialNB(alpha=2.0, fit_prior=False)\n",
    "clf.fit(X_train, Y_train)\n",
    "pos_prob = clf.predict_proba(X_test)[:, 1]\n",
    "print('AUC with the best model:', roc_auc_score(Y_test, pos_prob))"
   ]
  },
  {
   "cell_type": "code",
   "execution_count": null,
   "id": "0d794526",
   "metadata": {},
   "outputs": [],
   "source": []
  }
 ],
 "metadata": {
  "kernelspec": {
   "display_name": "Python (hands-on-ml)",
   "language": "python",
   "name": "hands-on-ml"
  },
  "language_info": {
   "codemirror_mode": {
    "name": "ipython",
    "version": 3
   },
   "file_extension": ".py",
   "mimetype": "text/x-python",
   "name": "python",
   "nbconvert_exporter": "python",
   "pygments_lexer": "ipython3",
   "version": "3.8.8"
  }
 },
 "nbformat": 4,
 "nbformat_minor": 5
}
