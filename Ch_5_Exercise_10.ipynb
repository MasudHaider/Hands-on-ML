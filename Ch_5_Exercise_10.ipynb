{
 "cells": [
  {
   "cell_type": "code",
   "execution_count": 1,
   "id": "e03b0c38",
   "metadata": {},
   "outputs": [],
   "source": [
    "from sklearn.datasets import fetch_california_housing\n",
    "\n",
    "housing = fetch_california_housing()\n",
    "X = housing[\"data\"]\n",
    "y = housing[\"target\"]"
   ]
  },
  {
   "cell_type": "code",
   "execution_count": 2,
   "id": "0c7e710b",
   "metadata": {},
   "outputs": [],
   "source": [
    "from sklearn.model_selection import train_test_split\n",
    "\n",
    "X_train, X_test, y_train, y_test = train_test_split(X, y, test_size=0.2, random_state=42)"
   ]
  },
  {
   "cell_type": "code",
   "execution_count": 5,
   "id": "0fb04960",
   "metadata": {},
   "outputs": [],
   "source": [
    "from sklearn.preprocessing import StandardScaler\n",
    "scaler = StandardScaler()\n",
    "\n",
    "X_train_scaled = scaler.fit_transform(X_train)\n",
    "X_test_scaled = scaler.transform(X_test)"
   ]
  },
  {
   "cell_type": "code",
   "execution_count": 7,
   "id": "302beb91",
   "metadata": {},
   "outputs": [
    {
     "name": "stderr",
     "output_type": "stream",
     "text": [
      "C:\\Users\\iftek\\.conda\\envs\\hands-on-ml\\lib\\site-packages\\sklearn\\svm\\_base.py:985: ConvergenceWarning: Liblinear failed to converge, increase the number of iterations.\n",
      "  warnings.warn(\"Liblinear failed to converge, increase \"\n"
     ]
    },
    {
     "data": {
      "text/plain": [
       "LinearSVR(random_state=42)"
      ]
     },
     "execution_count": 7,
     "metadata": {},
     "output_type": "execute_result"
    }
   ],
   "source": [
    "from sklearn.svm import LinearSVR\n",
    "\n",
    "lin_svr = LinearSVR(random_state=42)\n",
    "lin_svr.fit(X_train_scaled, y_train)"
   ]
  },
  {
   "cell_type": "code",
   "execution_count": 8,
   "id": "f402993b",
   "metadata": {},
   "outputs": [],
   "source": [
    "from sklearn.metrics import mean_squared_error\n",
    "\n",
    "y_pred = lin_svr.predict(X_train_scaled)\n",
    "mse = mean_squared_error(y_train, y_pred)"
   ]
  },
  {
   "cell_type": "code",
   "execution_count": 9,
   "id": "517a4273",
   "metadata": {},
   "outputs": [
    {
     "data": {
      "text/plain": [
       "0.9641780189948642"
      ]
     },
     "execution_count": 9,
     "metadata": {},
     "output_type": "execute_result"
    }
   ],
   "source": [
    "mse"
   ]
  },
  {
   "cell_type": "code",
   "execution_count": 11,
   "id": "d62ecf0c",
   "metadata": {},
   "outputs": [
    {
     "data": {
      "text/plain": [
       "0.9819256687727764"
      ]
     },
     "execution_count": 11,
     "metadata": {},
     "output_type": "execute_result"
    }
   ],
   "source": [
    "import numpy as np\n",
    "np.sqrt(mse)"
   ]
  },
  {
   "cell_type": "code",
   "execution_count": 12,
   "id": "11ae5c3a",
   "metadata": {},
   "outputs": [
    {
     "name": "stdout",
     "output_type": "stream",
     "text": [
      "Fitting 3 folds for each of 10 candidates, totalling 30 fits\n",
      "[CV] END .....C=4.745401188473625, gamma=0.07969454818643928; total time=  11.9s\n",
      "[CV] END .....C=4.745401188473625, gamma=0.07969454818643928; total time=  12.2s\n",
      "[CV] END .....C=4.745401188473625, gamma=0.07969454818643928; total time=  15.0s\n",
      "[CV] END .....C=8.31993941811405, gamma=0.015751320499779724; total time=  15.4s\n",
      "[CV] END .....C=8.31993941811405, gamma=0.015751320499779724; total time=  14.7s\n",
      "[CV] END .....C=8.31993941811405, gamma=0.015751320499779724; total time=  12.0s\n",
      "[CV] END ....C=2.560186404424365, gamma=0.002051110418843397; total time=  12.5s\n",
      "[CV] END ....C=2.560186404424365, gamma=0.002051110418843397; total time=  12.3s\n",
      "[CV] END ....C=2.560186404424365, gamma=0.002051110418843397; total time=  12.2s\n",
      "[CV] END ....C=1.5808361216819946, gamma=0.05399484409787431; total time=  19.6s\n",
      "[CV] END ....C=1.5808361216819946, gamma=0.05399484409787431; total time=  12.6s\n",
      "[CV] END ....C=1.5808361216819946, gamma=0.05399484409787431; total time=  11.3s\n",
      "[CV] END ....C=7.011150117432088, gamma=0.026070247583707663; total time=  12.3s\n",
      "[CV] END ....C=7.011150117432088, gamma=0.026070247583707663; total time=  13.4s\n",
      "[CV] END ....C=7.011150117432088, gamma=0.026070247583707663; total time=  13.9s\n",
      "[CV] END .....C=1.2058449429580245, gamma=0.0870602087830485; total time=  16.0s\n",
      "[CV] END .....C=1.2058449429580245, gamma=0.0870602087830485; total time=  15.0s\n",
      "[CV] END .....C=1.2058449429580245, gamma=0.0870602087830485; total time=  10.6s\n",
      "[CV] END ...C=9.324426408004218, gamma=0.0026587543983272693; total time=  11.5s\n",
      "[CV] END ...C=9.324426408004218, gamma=0.0026587543983272693; total time=  12.3s\n",
      "[CV] END ...C=9.324426408004218, gamma=0.0026587543983272693; total time=  11.7s\n",
      "[CV] END ...C=2.818249672071006, gamma=0.0023270677083837795; total time=  12.5s\n",
      "[CV] END ...C=2.818249672071006, gamma=0.0023270677083837795; total time=  17.5s\n",
      "[CV] END ...C=2.818249672071006, gamma=0.0023270677083837795; total time=  15.1s\n",
      "[CV] END ....C=4.042422429595377, gamma=0.011207606211860567; total time=  13.1s\n",
      "[CV] END ....C=4.042422429595377, gamma=0.011207606211860567; total time=  12.3s\n",
      "[CV] END ....C=4.042422429595377, gamma=0.011207606211860567; total time=  12.2s\n",
      "[CV] END ....C=5.319450186421157, gamma=0.003823475224675185; total time=  12.2s\n",
      "[CV] END ....C=5.319450186421157, gamma=0.003823475224675185; total time=  11.9s\n",
      "[CV] END ....C=5.319450186421157, gamma=0.003823475224675185; total time=  13.6s\n"
     ]
    },
    {
     "data": {
      "text/plain": [
       "RandomizedSearchCV(cv=3, estimator=SVR(),\n",
       "                   param_distributions={'C': <scipy.stats._distn_infrastructure.rv_frozen object at 0x0000018B54F7D2E0>,\n",
       "                                        'gamma': <scipy.stats._distn_infrastructure.rv_frozen object at 0x0000018B54F7D1F0>},\n",
       "                   random_state=42, verbose=2)"
      ]
     },
     "execution_count": 12,
     "metadata": {},
     "output_type": "execute_result"
    }
   ],
   "source": [
    "from sklearn.svm import SVR \n",
    "from sklearn.model_selection import RandomizedSearchCV\n",
    "from scipy.stats import reciprocal, uniform\n",
    "\n",
    "param_distributions = {\"gamma\": reciprocal(0.001, 0.1), \"C\": uniform(1, 10)}\n",
    "rnd_search_cv = RandomizedSearchCV(SVR(), param_distributions, n_iter=10, verbose=2, cv=3, random_state=42)\n",
    "rnd_search_cv.fit(X_train_scaled, y_train)"
   ]
  },
  {
   "cell_type": "code",
   "execution_count": 13,
   "id": "6d473606",
   "metadata": {},
   "outputs": [
    {
     "data": {
      "text/plain": [
       "SVR(C=4.745401188473625, gamma=0.07969454818643928)"
      ]
     },
     "execution_count": 13,
     "metadata": {},
     "output_type": "execute_result"
    }
   ],
   "source": [
    "rnd_search_cv.best_estimator_"
   ]
  },
  {
   "cell_type": "code",
   "execution_count": 14,
   "id": "e112895e",
   "metadata": {},
   "outputs": [
    {
     "data": {
      "text/plain": [
       "0.5727524770785372"
      ]
     },
     "execution_count": 14,
     "metadata": {},
     "output_type": "execute_result"
    }
   ],
   "source": [
    "# measure RMSE on training set\n",
    "y_pred = rnd_search_cv.best_estimator_.predict(X_train_scaled)\n",
    "mse = mean_squared_error(y_train, y_pred)\n",
    "np.sqrt(mse)"
   ]
  },
  {
   "cell_type": "code",
   "execution_count": 15,
   "id": "92f8e23f",
   "metadata": {},
   "outputs": [
    {
     "data": {
      "text/plain": [
       "0.5929168385528758"
      ]
     },
     "execution_count": 15,
     "metadata": {},
     "output_type": "execute_result"
    }
   ],
   "source": [
    "y_pred = rnd_search_cv.best_estimator_.predict(X_test_scaled)\n",
    "mse = mean_squared_error(y_test, y_pred)\n",
    "np.sqrt(mse)"
   ]
  },
  {
   "cell_type": "code",
   "execution_count": null,
   "id": "1086d225",
   "metadata": {},
   "outputs": [],
   "source": []
  }
 ],
 "metadata": {
  "kernelspec": {
   "display_name": "Python (hands-on-ml)",
   "language": "python",
   "name": "hands-on-ml"
  },
  "language_info": {
   "codemirror_mode": {
    "name": "ipython",
    "version": 3
   },
   "file_extension": ".py",
   "mimetype": "text/x-python",
   "name": "python",
   "nbconvert_exporter": "python",
   "pygments_lexer": "ipython3",
   "version": "3.8.8"
  }
 },
 "nbformat": 4,
 "nbformat_minor": 5
}
