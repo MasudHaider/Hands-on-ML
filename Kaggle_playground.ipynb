{
 "cells": [
  {
   "cell_type": "code",
   "execution_count": 2,
   "id": "f2d36cc0",
   "metadata": {},
   "outputs": [],
   "source": [
    "import os\n",
    "import tarfile\n",
    "import urllib\n",
    "import pandas as pd"
   ]
  },
  {
   "cell_type": "code",
   "execution_count": 80,
   "id": "e46aa636",
   "metadata": {},
   "outputs": [],
   "source": [
    "def load_flat_data():\n",
    "    return pd.read_csv(\"E:\\ITMOflat2021\\data.csv\")"
   ]
  },
  {
   "cell_type": "code",
   "execution_count": 81,
   "id": "e8a3b59e",
   "metadata": {},
   "outputs": [],
   "source": [
    "flat = load_flat_data()"
   ]
  },
  {
   "cell_type": "code",
   "execution_count": 82,
   "id": "da5e5060",
   "metadata": {},
   "outputs": [
    {
     "data": {
      "text/html": [
       "<div>\n",
       "<style scoped>\n",
       "    .dataframe tbody tr th:only-of-type {\n",
       "        vertical-align: middle;\n",
       "    }\n",
       "\n",
       "    .dataframe tbody tr th {\n",
       "        vertical-align: top;\n",
       "    }\n",
       "\n",
       "    .dataframe thead th {\n",
       "        text-align: right;\n",
       "    }\n",
       "</style>\n",
       "<table border=\"1\" class=\"dataframe\">\n",
       "  <thead>\n",
       "    <tr style=\"text-align: right;\">\n",
       "      <th></th>\n",
       "      <th>index</th>\n",
       "      <th>kitchen_area</th>\n",
       "      <th>bath_area</th>\n",
       "      <th>other_area</th>\n",
       "      <th>gas</th>\n",
       "      <th>hot_water</th>\n",
       "      <th>central_heating</th>\n",
       "      <th>extra_area</th>\n",
       "      <th>extra_area_count</th>\n",
       "      <th>year</th>\n",
       "      <th>ceil_height</th>\n",
       "      <th>floor_max</th>\n",
       "      <th>floor</th>\n",
       "      <th>total_area</th>\n",
       "      <th>bath_count</th>\n",
       "      <th>extra_area_type_name</th>\n",
       "      <th>district_name</th>\n",
       "      <th>rooms_count</th>\n",
       "      <th>price</th>\n",
       "    </tr>\n",
       "  </thead>\n",
       "  <tbody>\n",
       "    <tr>\n",
       "      <th>0</th>\n",
       "      <td>0</td>\n",
       "      <td>19</td>\n",
       "      <td>19</td>\n",
       "      <td>11.709233</td>\n",
       "      <td>No</td>\n",
       "      <td>Yes</td>\n",
       "      <td>Yes</td>\n",
       "      <td>12</td>\n",
       "      <td>1</td>\n",
       "      <td>1942</td>\n",
       "      <td>3.98</td>\n",
       "      <td>5</td>\n",
       "      <td>2</td>\n",
       "      <td>53.709233</td>\n",
       "      <td>2</td>\n",
       "      <td>loggia</td>\n",
       "      <td>Petrogradskij</td>\n",
       "      <td>0</td>\n",
       "      <td>8366331</td>\n",
       "    </tr>\n",
       "    <tr>\n",
       "      <th>1</th>\n",
       "      <td>1</td>\n",
       "      <td>17</td>\n",
       "      <td>21</td>\n",
       "      <td>65.196263</td>\n",
       "      <td>No</td>\n",
       "      <td>Yes</td>\n",
       "      <td>Yes</td>\n",
       "      <td>3</td>\n",
       "      <td>1</td>\n",
       "      <td>1959</td>\n",
       "      <td>2.50</td>\n",
       "      <td>9</td>\n",
       "      <td>9</td>\n",
       "      <td>104.196263</td>\n",
       "      <td>2</td>\n",
       "      <td>balcony</td>\n",
       "      <td>Kirovskij</td>\n",
       "      <td>6</td>\n",
       "      <td>11004979</td>\n",
       "    </tr>\n",
       "    <tr>\n",
       "      <th>2</th>\n",
       "      <td>2</td>\n",
       "      <td>26</td>\n",
       "      <td>31</td>\n",
       "      <td>11.816443</td>\n",
       "      <td>Yes</td>\n",
       "      <td>Yes</td>\n",
       "      <td>No</td>\n",
       "      <td>13</td>\n",
       "      <td>0</td>\n",
       "      <td>1999</td>\n",
       "      <td>4.92</td>\n",
       "      <td>14</td>\n",
       "      <td>14</td>\n",
       "      <td>73.149777</td>\n",
       "      <td>2</td>\n",
       "      <td>balcony</td>\n",
       "      <td>Krasnoselskij</td>\n",
       "      <td>1</td>\n",
       "      <td>7780920</td>\n",
       "    </tr>\n",
       "    <tr>\n",
       "      <th>3</th>\n",
       "      <td>3</td>\n",
       "      <td>12</td>\n",
       "      <td>31</td>\n",
       "      <td>28.539965</td>\n",
       "      <td>Yes</td>\n",
       "      <td>No</td>\n",
       "      <td>Yes</td>\n",
       "      <td>8</td>\n",
       "      <td>1</td>\n",
       "      <td>1936</td>\n",
       "      <td>2.50</td>\n",
       "      <td>3</td>\n",
       "      <td>3</td>\n",
       "      <td>74.206632</td>\n",
       "      <td>2</td>\n",
       "      <td>loggia</td>\n",
       "      <td>Nevskij</td>\n",
       "      <td>2</td>\n",
       "      <td>9682538</td>\n",
       "    </tr>\n",
       "    <tr>\n",
       "      <th>4</th>\n",
       "      <td>4</td>\n",
       "      <td>15</td>\n",
       "      <td>30</td>\n",
       "      <td>26.616288</td>\n",
       "      <td>No</td>\n",
       "      <td>Yes</td>\n",
       "      <td>Yes</td>\n",
       "      <td>11</td>\n",
       "      <td>1</td>\n",
       "      <td>2012</td>\n",
       "      <td>3.80</td>\n",
       "      <td>11</td>\n",
       "      <td>4</td>\n",
       "      <td>75.282955</td>\n",
       "      <td>2</td>\n",
       "      <td>balcony</td>\n",
       "      <td>Centralnyj</td>\n",
       "      <td>1</td>\n",
       "      <td>11304146</td>\n",
       "    </tr>\n",
       "  </tbody>\n",
       "</table>\n",
       "</div>"
      ],
      "text/plain": [
       "   index  kitchen_area  bath_area  other_area  gas hot_water central_heating  \\\n",
       "0      0            19         19   11.709233   No       Yes             Yes   \n",
       "1      1            17         21   65.196263   No       Yes             Yes   \n",
       "2      2            26         31   11.816443  Yes       Yes              No   \n",
       "3      3            12         31   28.539965  Yes        No             Yes   \n",
       "4      4            15         30   26.616288   No       Yes             Yes   \n",
       "\n",
       "   extra_area  extra_area_count  year  ceil_height  floor_max  floor  \\\n",
       "0          12                 1  1942         3.98          5      2   \n",
       "1           3                 1  1959         2.50          9      9   \n",
       "2          13                 0  1999         4.92         14     14   \n",
       "3           8                 1  1936         2.50          3      3   \n",
       "4          11                 1  2012         3.80         11      4   \n",
       "\n",
       "   total_area  bath_count extra_area_type_name  district_name  rooms_count  \\\n",
       "0   53.709233           2               loggia  Petrogradskij            0   \n",
       "1  104.196263           2              balcony      Kirovskij            6   \n",
       "2   73.149777           2              balcony  Krasnoselskij            1   \n",
       "3   74.206632           2               loggia        Nevskij            2   \n",
       "4   75.282955           2              balcony     Centralnyj            1   \n",
       "\n",
       "      price  \n",
       "0   8366331  \n",
       "1  11004979  \n",
       "2   7780920  \n",
       "3   9682538  \n",
       "4  11304146  "
      ]
     },
     "execution_count": 82,
     "metadata": {},
     "output_type": "execute_result"
    }
   ],
   "source": [
    "flat.head()"
   ]
  },
  {
   "cell_type": "code",
   "execution_count": 83,
   "id": "75535fec",
   "metadata": {},
   "outputs": [
    {
     "data": {
      "text/html": [
       "<div>\n",
       "<style scoped>\n",
       "    .dataframe tbody tr th:only-of-type {\n",
       "        vertical-align: middle;\n",
       "    }\n",
       "\n",
       "    .dataframe tbody tr th {\n",
       "        vertical-align: top;\n",
       "    }\n",
       "\n",
       "    .dataframe thead th {\n",
       "        text-align: right;\n",
       "    }\n",
       "</style>\n",
       "<table border=\"1\" class=\"dataframe\">\n",
       "  <thead>\n",
       "    <tr style=\"text-align: right;\">\n",
       "      <th></th>\n",
       "      <th>index</th>\n",
       "      <th>kitchen_area</th>\n",
       "      <th>bath_area</th>\n",
       "      <th>other_area</th>\n",
       "      <th>gas</th>\n",
       "      <th>hot_water</th>\n",
       "      <th>central_heating</th>\n",
       "      <th>extra_area</th>\n",
       "      <th>extra_area_count</th>\n",
       "      <th>year</th>\n",
       "      <th>ceil_height</th>\n",
       "      <th>floor_max</th>\n",
       "      <th>floor</th>\n",
       "      <th>total_area</th>\n",
       "      <th>bath_count</th>\n",
       "      <th>extra_area_type_name</th>\n",
       "      <th>district_name</th>\n",
       "      <th>rooms_count</th>\n",
       "      <th>price</th>\n",
       "    </tr>\n",
       "  </thead>\n",
       "  <tbody>\n",
       "    <tr>\n",
       "      <th>99995</th>\n",
       "      <td>99995</td>\n",
       "      <td>19</td>\n",
       "      <td>14</td>\n",
       "      <td>12.268533</td>\n",
       "      <td>Yes</td>\n",
       "      <td>Yes</td>\n",
       "      <td>Yes</td>\n",
       "      <td>13</td>\n",
       "      <td>2</td>\n",
       "      <td>2002</td>\n",
       "      <td>2.50</td>\n",
       "      <td>18</td>\n",
       "      <td>18</td>\n",
       "      <td>49.601866</td>\n",
       "      <td>1</td>\n",
       "      <td>balcony</td>\n",
       "      <td>Krasnoselskij</td>\n",
       "      <td>0</td>\n",
       "      <td>5538427</td>\n",
       "    </tr>\n",
       "    <tr>\n",
       "      <th>99996</th>\n",
       "      <td>99996</td>\n",
       "      <td>22</td>\n",
       "      <td>13</td>\n",
       "      <td>11.377047</td>\n",
       "      <td>Yes</td>\n",
       "      <td>Yes</td>\n",
       "      <td>Yes</td>\n",
       "      <td>9</td>\n",
       "      <td>1</td>\n",
       "      <td>1915</td>\n",
       "      <td>3.87</td>\n",
       "      <td>2</td>\n",
       "      <td>1</td>\n",
       "      <td>49.377047</td>\n",
       "      <td>1</td>\n",
       "      <td>loggia</td>\n",
       "      <td>Petrogradskij</td>\n",
       "      <td>0</td>\n",
       "      <td>7602367</td>\n",
       "    </tr>\n",
       "    <tr>\n",
       "      <th>99997</th>\n",
       "      <td>99997</td>\n",
       "      <td>22</td>\n",
       "      <td>21</td>\n",
       "      <td>12.520022</td>\n",
       "      <td>No</td>\n",
       "      <td>No</td>\n",
       "      <td>Yes</td>\n",
       "      <td>19</td>\n",
       "      <td>0</td>\n",
       "      <td>1954</td>\n",
       "      <td>2.50</td>\n",
       "      <td>7</td>\n",
       "      <td>1</td>\n",
       "      <td>61.853355</td>\n",
       "      <td>2</td>\n",
       "      <td>loggia</td>\n",
       "      <td>Petrogradskij</td>\n",
       "      <td>1</td>\n",
       "      <td>8687231</td>\n",
       "    </tr>\n",
       "    <tr>\n",
       "      <th>99998</th>\n",
       "      <td>99998</td>\n",
       "      <td>11</td>\n",
       "      <td>16</td>\n",
       "      <td>43.556108</td>\n",
       "      <td>No</td>\n",
       "      <td>Yes</td>\n",
       "      <td>Yes</td>\n",
       "      <td>11</td>\n",
       "      <td>1</td>\n",
       "      <td>1996</td>\n",
       "      <td>2.50</td>\n",
       "      <td>9</td>\n",
       "      <td>4</td>\n",
       "      <td>74.222775</td>\n",
       "      <td>2</td>\n",
       "      <td>loggia</td>\n",
       "      <td>Centralnyj</td>\n",
       "      <td>4</td>\n",
       "      <td>10838866</td>\n",
       "    </tr>\n",
       "    <tr>\n",
       "      <th>99999</th>\n",
       "      <td>99999</td>\n",
       "      <td>16</td>\n",
       "      <td>21</td>\n",
       "      <td>64.303288</td>\n",
       "      <td>Yes</td>\n",
       "      <td>Yes</td>\n",
       "      <td>Yes</td>\n",
       "      <td>5</td>\n",
       "      <td>1</td>\n",
       "      <td>1947</td>\n",
       "      <td>2.50</td>\n",
       "      <td>5</td>\n",
       "      <td>1</td>\n",
       "      <td>102.969954</td>\n",
       "      <td>2</td>\n",
       "      <td>loggia</td>\n",
       "      <td>Krasnoselskij</td>\n",
       "      <td>5</td>\n",
       "      <td>10852292</td>\n",
       "    </tr>\n",
       "  </tbody>\n",
       "</table>\n",
       "</div>"
      ],
      "text/plain": [
       "       index  kitchen_area  bath_area  other_area  gas hot_water  \\\n",
       "99995  99995            19         14   12.268533  Yes       Yes   \n",
       "99996  99996            22         13   11.377047  Yes       Yes   \n",
       "99997  99997            22         21   12.520022   No        No   \n",
       "99998  99998            11         16   43.556108   No       Yes   \n",
       "99999  99999            16         21   64.303288  Yes       Yes   \n",
       "\n",
       "      central_heating  extra_area  extra_area_count  year  ceil_height  \\\n",
       "99995             Yes          13                 2  2002         2.50   \n",
       "99996             Yes           9                 1  1915         3.87   \n",
       "99997             Yes          19                 0  1954         2.50   \n",
       "99998             Yes          11                 1  1996         2.50   \n",
       "99999             Yes           5                 1  1947         2.50   \n",
       "\n",
       "       floor_max  floor  total_area  bath_count extra_area_type_name  \\\n",
       "99995         18     18   49.601866           1              balcony   \n",
       "99996          2      1   49.377047           1               loggia   \n",
       "99997          7      1   61.853355           2               loggia   \n",
       "99998          9      4   74.222775           2               loggia   \n",
       "99999          5      1  102.969954           2               loggia   \n",
       "\n",
       "       district_name  rooms_count     price  \n",
       "99995  Krasnoselskij            0   5538427  \n",
       "99996  Petrogradskij            0   7602367  \n",
       "99997  Petrogradskij            1   8687231  \n",
       "99998     Centralnyj            4  10838866  \n",
       "99999  Krasnoselskij            5  10852292  "
      ]
     },
     "execution_count": 83,
     "metadata": {},
     "output_type": "execute_result"
    }
   ],
   "source": [
    "flat.tail()"
   ]
  },
  {
   "cell_type": "code",
   "execution_count": 84,
   "id": "909cdb45",
   "metadata": {},
   "outputs": [
    {
     "name": "stdout",
     "output_type": "stream",
     "text": [
      "<class 'pandas.core.frame.DataFrame'>\n",
      "RangeIndex: 100000 entries, 0 to 99999\n",
      "Data columns (total 19 columns):\n",
      " #   Column                Non-Null Count   Dtype  \n",
      "---  ------                --------------   -----  \n",
      " 0   index                 100000 non-null  int64  \n",
      " 1   kitchen_area          100000 non-null  int64  \n",
      " 2   bath_area             100000 non-null  int64  \n",
      " 3   other_area            100000 non-null  float64\n",
      " 4   gas                   100000 non-null  object \n",
      " 5   hot_water             100000 non-null  object \n",
      " 6   central_heating       100000 non-null  object \n",
      " 7   extra_area            100000 non-null  int64  \n",
      " 8   extra_area_count      100000 non-null  int64  \n",
      " 9   year                  100000 non-null  int64  \n",
      " 10  ceil_height           100000 non-null  float64\n",
      " 11  floor_max             100000 non-null  int64  \n",
      " 12  floor                 100000 non-null  int64  \n",
      " 13  total_area            100000 non-null  float64\n",
      " 14  bath_count            100000 non-null  int64  \n",
      " 15  extra_area_type_name  100000 non-null  object \n",
      " 16  district_name         100000 non-null  object \n",
      " 17  rooms_count           100000 non-null  int64  \n",
      " 18  price                 100000 non-null  int64  \n",
      "dtypes: float64(3), int64(11), object(5)\n",
      "memory usage: 14.5+ MB\n"
     ]
    }
   ],
   "source": [
    "flat.info()"
   ]
  },
  {
   "cell_type": "code",
   "execution_count": 85,
   "id": "69766957",
   "metadata": {},
   "outputs": [
    {
     "data": {
      "text/plain": [
       "index                   0\n",
       "kitchen_area            0\n",
       "bath_area               0\n",
       "other_area              0\n",
       "gas                     0\n",
       "hot_water               0\n",
       "central_heating         0\n",
       "extra_area              0\n",
       "extra_area_count        0\n",
       "year                    0\n",
       "ceil_height             0\n",
       "floor_max               0\n",
       "floor                   0\n",
       "total_area              0\n",
       "bath_count              0\n",
       "extra_area_type_name    0\n",
       "district_name           0\n",
       "rooms_count             0\n",
       "price                   0\n",
       "dtype: int64"
      ]
     },
     "execution_count": 85,
     "metadata": {},
     "output_type": "execute_result"
    }
   ],
   "source": [
    "flat.isnull().sum()"
   ]
  },
  {
   "cell_type": "code",
   "execution_count": 86,
   "id": "4b70a9e7",
   "metadata": {},
   "outputs": [
    {
     "data": {
      "text/plain": [
       "Yes    50029\n",
       "No     49971\n",
       "Name: gas, dtype: int64"
      ]
     },
     "execution_count": 86,
     "metadata": {},
     "output_type": "execute_result"
    }
   ],
   "source": [
    "flat[\"gas\"].value_counts()"
   ]
  },
  {
   "cell_type": "code",
   "execution_count": 87,
   "id": "1d73d573",
   "metadata": {},
   "outputs": [
    {
     "data": {
      "text/plain": [
       "Yes    64787\n",
       "No     35213\n",
       "Name: hot_water, dtype: int64"
      ]
     },
     "execution_count": 87,
     "metadata": {},
     "output_type": "execute_result"
    }
   ],
   "source": [
    "flat[\"hot_water\"].value_counts()"
   ]
  },
  {
   "cell_type": "code",
   "execution_count": 88,
   "id": "8f222e14",
   "metadata": {},
   "outputs": [
    {
     "data": {
      "text/plain": [
       "Yes    89968\n",
       "No     10032\n",
       "Name: central_heating, dtype: int64"
      ]
     },
     "execution_count": 88,
     "metadata": {},
     "output_type": "execute_result"
    }
   ],
   "source": [
    "flat[\"central_heating\"].value_counts()"
   ]
  },
  {
   "cell_type": "code",
   "execution_count": 28,
   "id": "d4430c0e",
   "metadata": {},
   "outputs": [
    {
     "data": {
      "text/plain": [
       "0     2428\n",
       "20    2484\n",
       "15    4899\n",
       "7     4945\n",
       "18    4957\n",
       "12    4961\n",
       "10    4967\n",
       "9     4976\n",
       "5     4982\n",
       "17    4989\n",
       "2     4992\n",
       "16    4999\n",
       "11    5003\n",
       "3     5003\n",
       "13    5018\n",
       "1     5029\n",
       "19    5034\n",
       "14    5038\n",
       "4     5047\n",
       "8     5122\n",
       "6     5127\n",
       "Name: extra_area, dtype: int64"
      ]
     },
     "execution_count": 28,
     "metadata": {},
     "output_type": "execute_result"
    }
   ],
   "source": [
    "flat[\"extra_area\"].value_counts().sort_values()"
   ]
  },
  {
   "cell_type": "code",
   "execution_count": 89,
   "id": "92c1bf48",
   "metadata": {},
   "outputs": [
    {
     "data": {
      "text/plain": [
       "balcony    50155\n",
       "loggia     49845\n",
       "Name: extra_area_type_name, dtype: int64"
      ]
     },
     "execution_count": 89,
     "metadata": {},
     "output_type": "execute_result"
    }
   ],
   "source": [
    "flat[\"extra_area_type_name\"].value_counts()"
   ]
  },
  {
   "cell_type": "code",
   "execution_count": 90,
   "id": "37efe04e",
   "metadata": {},
   "outputs": [
    {
     "data": {
      "text/plain": [
       "Kirovskij        14447\n",
       "Petrogradskij    14392\n",
       "Krasnoselskij    14350\n",
       "Moskovskij       14276\n",
       "Centralnyj       14203\n",
       "Vyborgskij       14182\n",
       "Nevskij          14150\n",
       "Name: district_name, dtype: int64"
      ]
     },
     "execution_count": 90,
     "metadata": {},
     "output_type": "execute_result"
    }
   ],
   "source": [
    "flat[\"district_name\"].value_counts()"
   ]
  },
  {
   "cell_type": "code",
   "execution_count": 91,
   "id": "b1896167",
   "metadata": {},
   "outputs": [
    {
     "data": {
      "text/html": [
       "<div>\n",
       "<style scoped>\n",
       "    .dataframe tbody tr th:only-of-type {\n",
       "        vertical-align: middle;\n",
       "    }\n",
       "\n",
       "    .dataframe tbody tr th {\n",
       "        vertical-align: top;\n",
       "    }\n",
       "\n",
       "    .dataframe thead th {\n",
       "        text-align: right;\n",
       "    }\n",
       "</style>\n",
       "<table border=\"1\" class=\"dataframe\">\n",
       "  <thead>\n",
       "    <tr style=\"text-align: right;\">\n",
       "      <th></th>\n",
       "      <th>index</th>\n",
       "      <th>kitchen_area</th>\n",
       "      <th>bath_area</th>\n",
       "      <th>other_area</th>\n",
       "      <th>extra_area</th>\n",
       "      <th>extra_area_count</th>\n",
       "      <th>year</th>\n",
       "      <th>ceil_height</th>\n",
       "      <th>floor_max</th>\n",
       "      <th>floor</th>\n",
       "      <th>total_area</th>\n",
       "      <th>bath_count</th>\n",
       "      <th>rooms_count</th>\n",
       "      <th>price</th>\n",
       "    </tr>\n",
       "  </thead>\n",
       "  <tbody>\n",
       "    <tr>\n",
       "      <th>count</th>\n",
       "      <td>100000.000000</td>\n",
       "      <td>100000.000000</td>\n",
       "      <td>100000.000000</td>\n",
       "      <td>100000.000000</td>\n",
       "      <td>100000.000000</td>\n",
       "      <td>100000.000000</td>\n",
       "      <td>100000.00000</td>\n",
       "      <td>100000.000000</td>\n",
       "      <td>100000.000000</td>\n",
       "      <td>100000.000000</td>\n",
       "      <td>100000.000000</td>\n",
       "      <td>100000.000000</td>\n",
       "      <td>100000.000000</td>\n",
       "      <td>1.000000e+05</td>\n",
       "    </tr>\n",
       "    <tr>\n",
       "      <th>mean</th>\n",
       "      <td>49999.500000</td>\n",
       "      <td>16.499250</td>\n",
       "      <td>21.482350</td>\n",
       "      <td>28.280992</td>\n",
       "      <td>9.990920</td>\n",
       "      <td>1.001090</td>\n",
       "      <td>1960.06910</td>\n",
       "      <td>3.130120</td>\n",
       "      <td>9.073740</td>\n",
       "      <td>5.043840</td>\n",
       "      <td>69.592899</td>\n",
       "      <td>1.699550</td>\n",
       "      <td>1.480480</td>\n",
       "      <td>9.195727e+06</td>\n",
       "    </tr>\n",
       "    <tr>\n",
       "      <th>std</th>\n",
       "      <td>28867.657797</td>\n",
       "      <td>5.759919</td>\n",
       "      <td>8.639641</td>\n",
       "      <td>20.476935</td>\n",
       "      <td>5.782708</td>\n",
       "      <td>0.706678</td>\n",
       "      <td>34.60658</td>\n",
       "      <td>0.810827</td>\n",
       "      <td>5.806507</td>\n",
       "      <td>4.251468</td>\n",
       "      <td>23.005842</td>\n",
       "      <td>0.458456</td>\n",
       "      <td>1.717466</td>\n",
       "      <td>3.379607e+06</td>\n",
       "    </tr>\n",
       "    <tr>\n",
       "      <th>min</th>\n",
       "      <td>0.000000</td>\n",
       "      <td>7.000000</td>\n",
       "      <td>7.000000</td>\n",
       "      <td>11.000000</td>\n",
       "      <td>0.000000</td>\n",
       "      <td>0.000000</td>\n",
       "      <td>1900.00000</td>\n",
       "      <td>2.500000</td>\n",
       "      <td>1.000000</td>\n",
       "      <td>1.000000</td>\n",
       "      <td>25.647034</td>\n",
       "      <td>1.000000</td>\n",
       "      <td>0.000000</td>\n",
       "      <td>2.757564e+06</td>\n",
       "    </tr>\n",
       "    <tr>\n",
       "      <th>25%</th>\n",
       "      <td>24999.750000</td>\n",
       "      <td>11.000000</td>\n",
       "      <td>14.000000</td>\n",
       "      <td>13.011560</td>\n",
       "      <td>5.000000</td>\n",
       "      <td>1.000000</td>\n",
       "      <td>1930.00000</td>\n",
       "      <td>2.500000</td>\n",
       "      <td>4.000000</td>\n",
       "      <td>2.000000</td>\n",
       "      <td>53.222280</td>\n",
       "      <td>1.000000</td>\n",
       "      <td>0.000000</td>\n",
       "      <td>6.744855e+06</td>\n",
       "    </tr>\n",
       "    <tr>\n",
       "      <th>50%</th>\n",
       "      <td>49999.500000</td>\n",
       "      <td>17.000000</td>\n",
       "      <td>21.000000</td>\n",
       "      <td>18.984819</td>\n",
       "      <td>10.000000</td>\n",
       "      <td>1.000000</td>\n",
       "      <td>1960.00000</td>\n",
       "      <td>2.510000</td>\n",
       "      <td>8.000000</td>\n",
       "      <td>4.000000</td>\n",
       "      <td>64.518983</td>\n",
       "      <td>2.000000</td>\n",
       "      <td>1.000000</td>\n",
       "      <td>8.496955e+06</td>\n",
       "    </tr>\n",
       "    <tr>\n",
       "      <th>75%</th>\n",
       "      <td>74999.250000</td>\n",
       "      <td>21.000000</td>\n",
       "      <td>29.000000</td>\n",
       "      <td>37.171975</td>\n",
       "      <td>15.000000</td>\n",
       "      <td>2.000000</td>\n",
       "      <td>1990.00000</td>\n",
       "      <td>3.760000</td>\n",
       "      <td>13.000000</td>\n",
       "      <td>7.000000</td>\n",
       "      <td>80.716989</td>\n",
       "      <td>2.000000</td>\n",
       "      <td>2.000000</td>\n",
       "      <td>1.096428e+07</td>\n",
       "    </tr>\n",
       "    <tr>\n",
       "      <th>max</th>\n",
       "      <td>99999.000000</td>\n",
       "      <td>26.000000</td>\n",
       "      <td>36.000000</td>\n",
       "      <td>90.983329</td>\n",
       "      <td>20.000000</td>\n",
       "      <td>2.000000</td>\n",
       "      <td>2020.00000</td>\n",
       "      <td>5.000000</td>\n",
       "      <td>24.000000</td>\n",
       "      <td>24.000000</td>\n",
       "      <td>159.408240</td>\n",
       "      <td>2.000000</td>\n",
       "      <td>9.000000</td>\n",
       "      <td>2.623385e+07</td>\n",
       "    </tr>\n",
       "  </tbody>\n",
       "</table>\n",
       "</div>"
      ],
      "text/plain": [
       "               index   kitchen_area      bath_area     other_area  \\\n",
       "count  100000.000000  100000.000000  100000.000000  100000.000000   \n",
       "mean    49999.500000      16.499250      21.482350      28.280992   \n",
       "std     28867.657797       5.759919       8.639641      20.476935   \n",
       "min         0.000000       7.000000       7.000000      11.000000   \n",
       "25%     24999.750000      11.000000      14.000000      13.011560   \n",
       "50%     49999.500000      17.000000      21.000000      18.984819   \n",
       "75%     74999.250000      21.000000      29.000000      37.171975   \n",
       "max     99999.000000      26.000000      36.000000      90.983329   \n",
       "\n",
       "          extra_area  extra_area_count          year    ceil_height  \\\n",
       "count  100000.000000     100000.000000  100000.00000  100000.000000   \n",
       "mean        9.990920          1.001090    1960.06910       3.130120   \n",
       "std         5.782708          0.706678      34.60658       0.810827   \n",
       "min         0.000000          0.000000    1900.00000       2.500000   \n",
       "25%         5.000000          1.000000    1930.00000       2.500000   \n",
       "50%        10.000000          1.000000    1960.00000       2.510000   \n",
       "75%        15.000000          2.000000    1990.00000       3.760000   \n",
       "max        20.000000          2.000000    2020.00000       5.000000   \n",
       "\n",
       "           floor_max          floor     total_area     bath_count  \\\n",
       "count  100000.000000  100000.000000  100000.000000  100000.000000   \n",
       "mean        9.073740       5.043840      69.592899       1.699550   \n",
       "std         5.806507       4.251468      23.005842       0.458456   \n",
       "min         1.000000       1.000000      25.647034       1.000000   \n",
       "25%         4.000000       2.000000      53.222280       1.000000   \n",
       "50%         8.000000       4.000000      64.518983       2.000000   \n",
       "75%        13.000000       7.000000      80.716989       2.000000   \n",
       "max        24.000000      24.000000     159.408240       2.000000   \n",
       "\n",
       "         rooms_count         price  \n",
       "count  100000.000000  1.000000e+05  \n",
       "mean        1.480480  9.195727e+06  \n",
       "std         1.717466  3.379607e+06  \n",
       "min         0.000000  2.757564e+06  \n",
       "25%         0.000000  6.744855e+06  \n",
       "50%         1.000000  8.496955e+06  \n",
       "75%         2.000000  1.096428e+07  \n",
       "max         9.000000  2.623385e+07  "
      ]
     },
     "execution_count": 91,
     "metadata": {},
     "output_type": "execute_result"
    }
   ],
   "source": [
    "flat.describe()"
   ]
  },
  {
   "cell_type": "code",
   "execution_count": 108,
   "id": "16ce5ce3",
   "metadata": {},
   "outputs": [
    {
     "data": {
      "text/plain": [
       "95691     25.647034\n",
       "91965     26.031452\n",
       "34531     26.295571\n",
       "5631      26.366295\n",
       "5900      26.441628\n",
       "            ...    \n",
       "44213    154.054225\n",
       "30016    154.088597\n",
       "71181    154.650614\n",
       "97489    156.827294\n",
       "87260    159.408240\n",
       "Name: total_area, Length: 100000, dtype: float64"
      ]
     },
     "execution_count": 108,
     "metadata": {},
     "output_type": "execute_result"
    }
   ],
   "source": [
    "flat[\"total_area\"].sort_values()"
   ]
  },
  {
   "cell_type": "code",
   "execution_count": 93,
   "id": "0dbe8b0e",
   "metadata": {
    "scrolled": true
   },
   "outputs": [
    {
     "data": {
      "image/png": "[encoded data removed]",
      "text/plain": [
       "<Figure size 1440x1440 with 16 Axes>"
      ]
     },
     "metadata": {
      "needs_background": "light"
     },
     "output_type": "display_data"
    }
   ],
   "source": [
    "%matplotlib inline\n",
    "import matplotlib.pyplot as plt \n",
    "flat.hist(bins=20, figsize=(20, 20))\n",
    "plt.show()"
   ]
  },
  {
   "cell_type": "code",
   "execution_count": 94,
   "id": "c1d68aa8",
   "metadata": {},
   "outputs": [],
   "source": [
    "flatCopy = flat.copy() #copy of the original dataset"
   ]
  },
  {
   "cell_type": "code",
   "execution_count": 95,
   "id": "be401277",
   "metadata": {},
   "outputs": [],
   "source": [
    "import numpy as np\n",
    "\n",
    "def split_train_test(data, test_ratio):\n",
    "    shuffled_indices = np.random.permutation(len(data))\n",
    "    test_set_size = int(len(data) * test_ratio)\n",
    "    test_indices = shuffled_indices[:test_set_size]\n",
    "    train_indices = shuffled_indices[test_set_size:]\n",
    "    return data.iloc[train_indices], data.iloc[test_indices]"
   ]
  },
  {
   "cell_type": "markdown",
   "id": "1e9fc8ed",
   "metadata": {},
   "source": [
    "next line of codes will create test different test set on every run. Eventually whole dataset will be in training. So avoiding it using copy. "
   ]
  },
  {
   "cell_type": "code",
   "execution_count": 96,
   "id": "99e690ff",
   "metadata": {},
   "outputs": [],
   "source": [
    "train_set, test_set = split_train_test(flatCopy, 0.2) #copy is used to avoid generating different dataset every time from the original dataset"
   ]
  },
  {
   "cell_type": "code",
   "execution_count": 97,
   "id": "8141f830",
   "metadata": {},
   "outputs": [
    {
     "data": {
      "text/plain": [
       "80000"
      ]
     },
     "execution_count": 97,
     "metadata": {},
     "output_type": "execute_result"
    }
   ],
   "source": [
    "len(train_set)"
   ]
  },
  {
   "cell_type": "code",
   "execution_count": 98,
   "id": "a6243e32",
   "metadata": {},
   "outputs": [
    {
     "data": {
      "text/plain": [
       "20000"
      ]
     },
     "execution_count": 98,
     "metadata": {},
     "output_type": "execute_result"
    }
   ],
   "source": [
    "len(test_set)"
   ]
  },
  {
   "cell_type": "code",
   "execution_count": 99,
   "id": "b6f7bd9a",
   "metadata": {},
   "outputs": [],
   "source": [
    "from zlib import crc32\n",
    "\n",
    "def test_set_check(identifier, test_ratio):\n",
    "    return crc32(np.int64(identifier)) & 0xffffffff < test_ratio * 2**32\n",
    "\n",
    "def split_train_test_by_id(data, test_ratio, id_column):\n",
    "    ids = data[id_column]\n",
    "    in_test_set = ids.apply(lambda id_: test_set_check(id_, test_ratio))\n",
    "    return data.loc[~in_test_set], data.loc[in_test_set]"
   ]
  },
  {
   "cell_type": "code",
   "execution_count": 100,
   "id": "b83da7ef",
   "metadata": {},
   "outputs": [],
   "source": [
    "from sklearn.model_selection import train_test_split\n",
    "\n",
    "train_set, test_set = train_test_split(flat, test_size=0.2, random_state=42)"
   ]
  },
  {
   "cell_type": "markdown",
   "id": "9497e180",
   "metadata": {},
   "source": [
    "### Creating total area category to ensure instances from each category on test set"
   ]
  },
  {
   "cell_type": "code",
   "execution_count": 125,
   "id": "5f6d577f",
   "metadata": {},
   "outputs": [],
   "source": [
    "flat[\"total_area_cat\"] = pd.cut(flatCopy[\"total_area\"],\n",
    "                             bins=[25, 50, 75, 100, 125, 150, np.inf],\n",
    "                             labels=[1, 2, 3, 4, 5, 6])"
   ]
  },
  {
   "cell_type": "code",
   "execution_count": 127,
   "id": "34d385f4",
   "metadata": {},
   "outputs": [
    {
     "data": {
      "text/plain": [
       "72707    1\n",
       "24089    1\n",
       "71247    1\n",
       "71248    1\n",
       "71255    1\n",
       "        ..\n",
       "84441    6\n",
       "13145    6\n",
       "44213    6\n",
       "21795    6\n",
       "76470    6\n",
       "Name: total_area_cat, Length: 100000, dtype: category\n",
       "Categories (6, int64): [1 < 2 < 3 < 4 < 5 < 6]"
      ]
     },
     "execution_count": 127,
     "metadata": {},
     "output_type": "execute_result"
    }
   ],
   "source": [
    "flat[\"total_area_cat\"].sort_values()"
   ]
  },
  {
   "cell_type": "code",
   "execution_count": 128,
   "id": "b062ef1e",
   "metadata": {},
   "outputs": [
    {
     "data": {
      "text/plain": [
       "<AxesSubplot:>"
      ]
     },
     "execution_count": 128,
     "metadata": {},
     "output_type": "execute_result"
    },
    {
     "data": {
      "image/png": "[encoded data removed]",
      "text/plain": [
       "<Figure size 432x288 with 1 Axes>"
      ]
     },
     "metadata": {
      "needs_background": "light"
     },
     "output_type": "display_data"
    }
   ],
   "source": [
    "# the categories are below\n",
    "flat[\"total_area_cat\"].hist()"
   ]
  },
  {
   "cell_type": "code",
   "execution_count": 129,
   "id": "a5eceb5f",
   "metadata": {},
   "outputs": [],
   "source": [
    "flat_numerical = flatCopy.drop(['gas', 'hot_water', 'central_heating', 'extra_area_type_name', 'district_name'], axis=1)"
   ]
  },
  {
   "cell_type": "code",
   "execution_count": 130,
   "id": "eb830b42",
   "metadata": {},
   "outputs": [
    {
     "data": {
      "text/html": [
       "<div>\n",
       "<style scoped>\n",
       "    .dataframe tbody tr th:only-of-type {\n",
       "        vertical-align: middle;\n",
       "    }\n",
       "\n",
       "    .dataframe tbody tr th {\n",
       "        vertical-align: top;\n",
       "    }\n",
       "\n",
       "    .dataframe thead th {\n",
       "        text-align: right;\n",
       "    }\n",
       "</style>\n",
       "<table border=\"1\" class=\"dataframe\">\n",
       "  <thead>\n",
       "    <tr style=\"text-align: right;\">\n",
       "      <th></th>\n",
       "      <th>index</th>\n",
       "      <th>kitchen_area</th>\n",
       "      <th>bath_area</th>\n",
       "      <th>other_area</th>\n",
       "      <th>extra_area</th>\n",
       "      <th>extra_area_count</th>\n",
       "      <th>year</th>\n",
       "      <th>ceil_height</th>\n",
       "      <th>floor_max</th>\n",
       "      <th>floor</th>\n",
       "      <th>total_area</th>\n",
       "      <th>bath_count</th>\n",
       "      <th>rooms_count</th>\n",
       "      <th>price</th>\n",
       "    </tr>\n",
       "  </thead>\n",
       "  <tbody>\n",
       "    <tr>\n",
       "      <th>count</th>\n",
       "      <td>100000.000000</td>\n",
       "      <td>100000.000000</td>\n",
       "      <td>100000.000000</td>\n",
       "      <td>100000.000000</td>\n",
       "      <td>100000.000000</td>\n",
       "      <td>100000.000000</td>\n",
       "      <td>100000.00000</td>\n",
       "      <td>100000.000000</td>\n",
       "      <td>100000.000000</td>\n",
       "      <td>100000.000000</td>\n",
       "      <td>100000.000000</td>\n",
       "      <td>100000.000000</td>\n",
       "      <td>100000.000000</td>\n",
       "      <td>1.000000e+05</td>\n",
       "    </tr>\n",
       "    <tr>\n",
       "      <th>mean</th>\n",
       "      <td>49999.500000</td>\n",
       "      <td>16.499250</td>\n",
       "      <td>21.482350</td>\n",
       "      <td>28.280992</td>\n",
       "      <td>9.990920</td>\n",
       "      <td>1.001090</td>\n",
       "      <td>1960.06910</td>\n",
       "      <td>3.130120</td>\n",
       "      <td>9.073740</td>\n",
       "      <td>5.043840</td>\n",
       "      <td>69.592899</td>\n",
       "      <td>1.699550</td>\n",
       "      <td>1.480480</td>\n",
       "      <td>9.195727e+06</td>\n",
       "    </tr>\n",
       "    <tr>\n",
       "      <th>std</th>\n",
       "      <td>28867.657797</td>\n",
       "      <td>5.759919</td>\n",
       "      <td>8.639641</td>\n",
       "      <td>20.476935</td>\n",
       "      <td>5.782708</td>\n",
       "      <td>0.706678</td>\n",
       "      <td>34.60658</td>\n",
       "      <td>0.810827</td>\n",
       "      <td>5.806507</td>\n",
       "      <td>4.251468</td>\n",
       "      <td>23.005842</td>\n",
       "      <td>0.458456</td>\n",
       "      <td>1.717466</td>\n",
       "      <td>3.379607e+06</td>\n",
       "    </tr>\n",
       "    <tr>\n",
       "      <th>min</th>\n",
       "      <td>0.000000</td>\n",
       "      <td>7.000000</td>\n",
       "      <td>7.000000</td>\n",
       "      <td>11.000000</td>\n",
       "      <td>0.000000</td>\n",
       "      <td>0.000000</td>\n",
       "      <td>1900.00000</td>\n",
       "      <td>2.500000</td>\n",
       "      <td>1.000000</td>\n",
       "      <td>1.000000</td>\n",
       "      <td>25.647034</td>\n",
       "      <td>1.000000</td>\n",
       "      <td>0.000000</td>\n",
       "      <td>2.757564e+06</td>\n",
       "    </tr>\n",
       "    <tr>\n",
       "      <th>25%</th>\n",
       "      <td>24999.750000</td>\n",
       "      <td>11.000000</td>\n",
       "      <td>14.000000</td>\n",
       "      <td>13.011560</td>\n",
       "      <td>5.000000</td>\n",
       "      <td>1.000000</td>\n",
       "      <td>1930.00000</td>\n",
       "      <td>2.500000</td>\n",
       "      <td>4.000000</td>\n",
       "      <td>2.000000</td>\n",
       "      <td>53.222280</td>\n",
       "      <td>1.000000</td>\n",
       "      <td>0.000000</td>\n",
       "      <td>6.744855e+06</td>\n",
       "    </tr>\n",
       "    <tr>\n",
       "      <th>50%</th>\n",
       "      <td>49999.500000</td>\n",
       "      <td>17.000000</td>\n",
       "      <td>21.000000</td>\n",
       "      <td>18.984819</td>\n",
       "      <td>10.000000</td>\n",
       "      <td>1.000000</td>\n",
       "      <td>1960.00000</td>\n",
       "      <td>2.510000</td>\n",
       "      <td>8.000000</td>\n",
       "      <td>4.000000</td>\n",
       "      <td>64.518983</td>\n",
       "      <td>2.000000</td>\n",
       "      <td>1.000000</td>\n",
       "      <td>8.496955e+06</td>\n",
       "    </tr>\n",
       "    <tr>\n",
       "      <th>75%</th>\n",
       "      <td>74999.250000</td>\n",
       "      <td>21.000000</td>\n",
       "      <td>29.000000</td>\n",
       "      <td>37.171975</td>\n",
       "      <td>15.000000</td>\n",
       "      <td>2.000000</td>\n",
       "      <td>1990.00000</td>\n",
       "      <td>3.760000</td>\n",
       "      <td>13.000000</td>\n",
       "      <td>7.000000</td>\n",
       "      <td>80.716989</td>\n",
       "      <td>2.000000</td>\n",
       "      <td>2.000000</td>\n",
       "      <td>1.096428e+07</td>\n",
       "    </tr>\n",
       "    <tr>\n",
       "      <th>max</th>\n",
       "      <td>99999.000000</td>\n",
       "      <td>26.000000</td>\n",
       "      <td>36.000000</td>\n",
       "      <td>90.983329</td>\n",
       "      <td>20.000000</td>\n",
       "      <td>2.000000</td>\n",
       "      <td>2020.00000</td>\n",
       "      <td>5.000000</td>\n",
       "      <td>24.000000</td>\n",
       "      <td>24.000000</td>\n",
       "      <td>159.408240</td>\n",
       "      <td>2.000000</td>\n",
       "      <td>9.000000</td>\n",
       "      <td>2.623385e+07</td>\n",
       "    </tr>\n",
       "  </tbody>\n",
       "</table>\n",
       "</div>"
      ],
      "text/plain": [
       "               index   kitchen_area      bath_area     other_area  \\\n",
       "count  100000.000000  100000.000000  100000.000000  100000.000000   \n",
       "mean    49999.500000      16.499250      21.482350      28.280992   \n",
       "std     28867.657797       5.759919       8.639641      20.476935   \n",
       "min         0.000000       7.000000       7.000000      11.000000   \n",
       "25%     24999.750000      11.000000      14.000000      13.011560   \n",
       "50%     49999.500000      17.000000      21.000000      18.984819   \n",
       "75%     74999.250000      21.000000      29.000000      37.171975   \n",
       "max     99999.000000      26.000000      36.000000      90.983329   \n",
       "\n",
       "          extra_area  extra_area_count          year    ceil_height  \\\n",
       "count  100000.000000     100000.000000  100000.00000  100000.000000   \n",
       "mean        9.990920          1.001090    1960.06910       3.130120   \n",
       "std         5.782708          0.706678      34.60658       0.810827   \n",
       "min         0.000000          0.000000    1900.00000       2.500000   \n",
       "25%         5.000000          1.000000    1930.00000       2.500000   \n",
       "50%        10.000000          1.000000    1960.00000       2.510000   \n",
       "75%        15.000000          2.000000    1990.00000       3.760000   \n",
       "max        20.000000          2.000000    2020.00000       5.000000   \n",
       "\n",
       "           floor_max          floor     total_area     bath_count  \\\n",
       "count  100000.000000  100000.000000  100000.000000  100000.000000   \n",
       "mean        9.073740       5.043840      69.592899       1.699550   \n",
       "std         5.806507       4.251468      23.005842       0.458456   \n",
       "min         1.000000       1.000000      25.647034       1.000000   \n",
       "25%         4.000000       2.000000      53.222280       1.000000   \n",
       "50%         8.000000       4.000000      64.518983       2.000000   \n",
       "75%        13.000000       7.000000      80.716989       2.000000   \n",
       "max        24.000000      24.000000     159.408240       2.000000   \n",
       "\n",
       "         rooms_count         price  \n",
       "count  100000.000000  1.000000e+05  \n",
       "mean        1.480480  9.195727e+06  \n",
       "std         1.717466  3.379607e+06  \n",
       "min         0.000000  2.757564e+06  \n",
       "25%         0.000000  6.744855e+06  \n",
       "50%         1.000000  8.496955e+06  \n",
       "75%         2.000000  1.096428e+07  \n",
       "max         9.000000  2.623385e+07  "
      ]
     },
     "execution_count": 130,
     "metadata": {},
     "output_type": "execute_result"
    }
   ],
   "source": [
    "flat_numerical.describe()"
   ]
  },
  {
   "cell_type": "code",
   "execution_count": 131,
   "id": "c2379f82",
   "metadata": {},
   "outputs": [],
   "source": [
    "from sklearn.model_selection import StratifiedShuffleSplit\n",
    "\n",
    "flatSplit = StratifiedShuffleSplit(n_splits=1, test_size=0.2, random_state=42)\n",
    "for train_index, test_index in flatSplit.split(flat, flat[\"total_area_cat\"]):\n",
    "    strat_train_set = flat.loc[train_index]\n",
    "    strat_test_set = flat.loc[test_index]"
   ]
  },
  {
   "cell_type": "code",
   "execution_count": 132,
   "id": "7e04f590",
   "metadata": {},
   "outputs": [
    {
     "data": {
      "text/plain": [
       "2    0.50080\n",
       "3    0.19015\n",
       "1    0.18555\n",
       "4    0.09555\n",
       "5    0.02765\n",
       "6    0.00030\n",
       "Name: total_area_cat, dtype: float64"
      ]
     },
     "execution_count": 132,
     "metadata": {},
     "output_type": "execute_result"
    }
   ],
   "source": [
    "strat_test_set[\"total_area_cat\"].value_counts() / len(strat_test_set)"
   ]
  },
  {
   "cell_type": "code",
   "execution_count": 133,
   "id": "83beb1c2",
   "metadata": {},
   "outputs": [
    {
     "data": {
      "text/plain": [
       "2    0.50078\n",
       "3    0.19016\n",
       "1    0.18555\n",
       "4    0.09556\n",
       "5    0.02763\n",
       "6    0.00032\n",
       "Name: total_area_cat, dtype: float64"
      ]
     },
     "execution_count": 133,
     "metadata": {},
     "output_type": "execute_result"
    }
   ],
   "source": [
    "flat[\"total_area_cat\"].value_counts() / len(flat)"
   ]
  },
  {
   "cell_type": "code",
   "execution_count": 134,
   "id": "738438d7",
   "metadata": {},
   "outputs": [],
   "source": [
    "for set_ in (strat_train_set, strat_test_set):\n",
    "    set_.drop(\"total_area_cat\", axis=1, inplace=True)"
   ]
  },
  {
   "cell_type": "code",
   "execution_count": null,
   "id": "c896ec8d",
   "metadata": {},
   "outputs": [],
   "source": []
  }
 ],
 "metadata": {
  "kernelspec": {
   "display_name": "Python 3",
   "language": "python",
   "name": "python3"
  },
  "language_info": {
   "codemirror_mode": {
    "name": "ipython",
    "version": 3
   },
   "file_extension": ".py",
   "mimetype": "text/x-python",
   "name": "python",
   "nbconvert_exporter": "python",
   "pygments_lexer": "ipython3",
   "version": "3.7.10"
  }
 },
 "nbformat": 4,
 "nbformat_minor": 5
}
