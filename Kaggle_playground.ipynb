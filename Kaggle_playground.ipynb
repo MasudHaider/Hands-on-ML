{
 "cells": [
  {
   "cell_type": "code",
   "execution_count": 2,
   "id": "f2d36cc0",
   "metadata": {},
   "outputs": [],
   "source": [
    "import os\n",
    "import tarfile\n",
    "import urllib\n",
    "import pandas as pd"
   ]
  },
  {
   "cell_type": "code",
   "execution_count": 3,
   "id": "e46aa636",
   "metadata": {},
   "outputs": [],
   "source": [
    "def load_flat_data():\n",
    "    return pd.read_csv(\"E:\\ITMOflat2021\\data.csv\")"
   ]
  },
  {
   "cell_type": "code",
   "execution_count": 4,
   "id": "e8a3b59e",
   "metadata": {},
   "outputs": [],
   "source": [
    "flat = load_flat_data()"
   ]
  },
  {
   "cell_type": "code",
   "execution_count": 5,
   "id": "da5e5060",
   "metadata": {},
   "outputs": [
    {
     "data": {
      "text/html": [
       "<div>\n",
       "<style scoped>\n",
       "    .dataframe tbody tr th:only-of-type {\n",
       "        vertical-align: middle;\n",
       "    }\n",
       "\n",
       "    .dataframe tbody tr th {\n",
       "        vertical-align: top;\n",
       "    }\n",
       "\n",
       "    .dataframe thead th {\n",
       "        text-align: right;\n",
       "    }\n",
       "</style>\n",
       "<table border=\"1\" class=\"dataframe\">\n",
       "  <thead>\n",
       "    <tr style=\"text-align: right;\">\n",
       "      <th></th>\n",
       "      <th>index</th>\n",
       "      <th>kitchen_area</th>\n",
       "      <th>bath_area</th>\n",
       "      <th>other_area</th>\n",
       "      <th>gas</th>\n",
       "      <th>hot_water</th>\n",
       "      <th>central_heating</th>\n",
       "      <th>extra_area</th>\n",
       "      <th>extra_area_count</th>\n",
       "      <th>year</th>\n",
       "      <th>ceil_height</th>\n",
       "      <th>floor_max</th>\n",
       "      <th>floor</th>\n",
       "      <th>total_area</th>\n",
       "      <th>bath_count</th>\n",
       "      <th>extra_area_type_name</th>\n",
       "      <th>district_name</th>\n",
       "      <th>rooms_count</th>\n",
       "      <th>price</th>\n",
       "    </tr>\n",
       "  </thead>\n",
       "  <tbody>\n",
       "    <tr>\n",
       "      <th>0</th>\n",
       "      <td>0</td>\n",
       "      <td>19</td>\n",
       "      <td>19</td>\n",
       "      <td>11.709233</td>\n",
       "      <td>No</td>\n",
       "      <td>Yes</td>\n",
       "      <td>Yes</td>\n",
       "      <td>12</td>\n",
       "      <td>1</td>\n",
       "      <td>1942</td>\n",
       "      <td>3.98</td>\n",
       "      <td>5</td>\n",
       "      <td>2</td>\n",
       "      <td>53.709233</td>\n",
       "      <td>2</td>\n",
       "      <td>loggia</td>\n",
       "      <td>Petrogradskij</td>\n",
       "      <td>0</td>\n",
       "      <td>8366331</td>\n",
       "    </tr>\n",
       "    <tr>\n",
       "      <th>1</th>\n",
       "      <td>1</td>\n",
       "      <td>17</td>\n",
       "      <td>21</td>\n",
       "      <td>65.196263</td>\n",
       "      <td>No</td>\n",
       "      <td>Yes</td>\n",
       "      <td>Yes</td>\n",
       "      <td>3</td>\n",
       "      <td>1</td>\n",
       "      <td>1959</td>\n",
       "      <td>2.50</td>\n",
       "      <td>9</td>\n",
       "      <td>9</td>\n",
       "      <td>104.196263</td>\n",
       "      <td>2</td>\n",
       "      <td>balcony</td>\n",
       "      <td>Kirovskij</td>\n",
       "      <td>6</td>\n",
       "      <td>11004979</td>\n",
       "    </tr>\n",
       "    <tr>\n",
       "      <th>2</th>\n",
       "      <td>2</td>\n",
       "      <td>26</td>\n",
       "      <td>31</td>\n",
       "      <td>11.816443</td>\n",
       "      <td>Yes</td>\n",
       "      <td>Yes</td>\n",
       "      <td>No</td>\n",
       "      <td>13</td>\n",
       "      <td>0</td>\n",
       "      <td>1999</td>\n",
       "      <td>4.92</td>\n",
       "      <td>14</td>\n",
       "      <td>14</td>\n",
       "      <td>73.149777</td>\n",
       "      <td>2</td>\n",
       "      <td>balcony</td>\n",
       "      <td>Krasnoselskij</td>\n",
       "      <td>1</td>\n",
       "      <td>7780920</td>\n",
       "    </tr>\n",
       "    <tr>\n",
       "      <th>3</th>\n",
       "      <td>3</td>\n",
       "      <td>12</td>\n",
       "      <td>31</td>\n",
       "      <td>28.539965</td>\n",
       "      <td>Yes</td>\n",
       "      <td>No</td>\n",
       "      <td>Yes</td>\n",
       "      <td>8</td>\n",
       "      <td>1</td>\n",
       "      <td>1936</td>\n",
       "      <td>2.50</td>\n",
       "      <td>3</td>\n",
       "      <td>3</td>\n",
       "      <td>74.206632</td>\n",
       "      <td>2</td>\n",
       "      <td>loggia</td>\n",
       "      <td>Nevskij</td>\n",
       "      <td>2</td>\n",
       "      <td>9682538</td>\n",
       "    </tr>\n",
       "    <tr>\n",
       "      <th>4</th>\n",
       "      <td>4</td>\n",
       "      <td>15</td>\n",
       "      <td>30</td>\n",
       "      <td>26.616288</td>\n",
       "      <td>No</td>\n",
       "      <td>Yes</td>\n",
       "      <td>Yes</td>\n",
       "      <td>11</td>\n",
       "      <td>1</td>\n",
       "      <td>2012</td>\n",
       "      <td>3.80</td>\n",
       "      <td>11</td>\n",
       "      <td>4</td>\n",
       "      <td>75.282955</td>\n",
       "      <td>2</td>\n",
       "      <td>balcony</td>\n",
       "      <td>Centralnyj</td>\n",
       "      <td>1</td>\n",
       "      <td>11304146</td>\n",
       "    </tr>\n",
       "  </tbody>\n",
       "</table>\n",
       "</div>"
      ],
      "text/plain": [
       "   index  kitchen_area  bath_area  other_area  gas hot_water central_heating  \\\n",
       "0      0            19         19   11.709233   No       Yes             Yes   \n",
       "1      1            17         21   65.196263   No       Yes             Yes   \n",
       "2      2            26         31   11.816443  Yes       Yes              No   \n",
       "3      3            12         31   28.539965  Yes        No             Yes   \n",
       "4      4            15         30   26.616288   No       Yes             Yes   \n",
       "\n",
       "   extra_area  extra_area_count  year  ceil_height  floor_max  floor  \\\n",
       "0          12                 1  1942         3.98          5      2   \n",
       "1           3                 1  1959         2.50          9      9   \n",
       "2          13                 0  1999         4.92         14     14   \n",
       "3           8                 1  1936         2.50          3      3   \n",
       "4          11                 1  2012         3.80         11      4   \n",
       "\n",
       "   total_area  bath_count extra_area_type_name  district_name  rooms_count  \\\n",
       "0   53.709233           2               loggia  Petrogradskij            0   \n",
       "1  104.196263           2              balcony      Kirovskij            6   \n",
       "2   73.149777           2              balcony  Krasnoselskij            1   \n",
       "3   74.206632           2               loggia        Nevskij            2   \n",
       "4   75.282955           2              balcony     Centralnyj            1   \n",
       "\n",
       "      price  \n",
       "0   8366331  \n",
       "1  11004979  \n",
       "2   7780920  \n",
       "3   9682538  \n",
       "4  11304146  "
      ]
     },
     "execution_count": 5,
     "metadata": {},
     "output_type": "execute_result"
    }
   ],
   "source": [
    "flat.head()"
   ]
  },
  {
   "cell_type": "code",
   "execution_count": 6,
   "id": "75535fec",
   "metadata": {},
   "outputs": [
    {
     "data": {
      "text/html": [
       "<div>\n",
       "<style scoped>\n",
       "    .dataframe tbody tr th:only-of-type {\n",
       "        vertical-align: middle;\n",
       "    }\n",
       "\n",
       "    .dataframe tbody tr th {\n",
       "        vertical-align: top;\n",
       "    }\n",
       "\n",
       "    .dataframe thead th {\n",
       "        text-align: right;\n",
       "    }\n",
       "</style>\n",
       "<table border=\"1\" class=\"dataframe\">\n",
       "  <thead>\n",
       "    <tr style=\"text-align: right;\">\n",
       "      <th></th>\n",
       "      <th>index</th>\n",
       "      <th>kitchen_area</th>\n",
       "      <th>bath_area</th>\n",
       "      <th>other_area</th>\n",
       "      <th>gas</th>\n",
       "      <th>hot_water</th>\n",
       "      <th>central_heating</th>\n",
       "      <th>extra_area</th>\n",
       "      <th>extra_area_count</th>\n",
       "      <th>year</th>\n",
       "      <th>ceil_height</th>\n",
       "      <th>floor_max</th>\n",
       "      <th>floor</th>\n",
       "      <th>total_area</th>\n",
       "      <th>bath_count</th>\n",
       "      <th>extra_area_type_name</th>\n",
       "      <th>district_name</th>\n",
       "      <th>rooms_count</th>\n",
       "      <th>price</th>\n",
       "    </tr>\n",
       "  </thead>\n",
       "  <tbody>\n",
       "    <tr>\n",
       "      <th>99995</th>\n",
       "      <td>99995</td>\n",
       "      <td>19</td>\n",
       "      <td>14</td>\n",
       "      <td>12.268533</td>\n",
       "      <td>Yes</td>\n",
       "      <td>Yes</td>\n",
       "      <td>Yes</td>\n",
       "      <td>13</td>\n",
       "      <td>2</td>\n",
       "      <td>2002</td>\n",
       "      <td>2.50</td>\n",
       "      <td>18</td>\n",
       "      <td>18</td>\n",
       "      <td>49.601866</td>\n",
       "      <td>1</td>\n",
       "      <td>balcony</td>\n",
       "      <td>Krasnoselskij</td>\n",
       "      <td>0</td>\n",
       "      <td>5538427</td>\n",
       "    </tr>\n",
       "    <tr>\n",
       "      <th>99996</th>\n",
       "      <td>99996</td>\n",
       "      <td>22</td>\n",
       "      <td>13</td>\n",
       "      <td>11.377047</td>\n",
       "      <td>Yes</td>\n",
       "      <td>Yes</td>\n",
       "      <td>Yes</td>\n",
       "      <td>9</td>\n",
       "      <td>1</td>\n",
       "      <td>1915</td>\n",
       "      <td>3.87</td>\n",
       "      <td>2</td>\n",
       "      <td>1</td>\n",
       "      <td>49.377047</td>\n",
       "      <td>1</td>\n",
       "      <td>loggia</td>\n",
       "      <td>Petrogradskij</td>\n",
       "      <td>0</td>\n",
       "      <td>7602367</td>\n",
       "    </tr>\n",
       "    <tr>\n",
       "      <th>99997</th>\n",
       "      <td>99997</td>\n",
       "      <td>22</td>\n",
       "      <td>21</td>\n",
       "      <td>12.520022</td>\n",
       "      <td>No</td>\n",
       "      <td>No</td>\n",
       "      <td>Yes</td>\n",
       "      <td>19</td>\n",
       "      <td>0</td>\n",
       "      <td>1954</td>\n",
       "      <td>2.50</td>\n",
       "      <td>7</td>\n",
       "      <td>1</td>\n",
       "      <td>61.853355</td>\n",
       "      <td>2</td>\n",
       "      <td>loggia</td>\n",
       "      <td>Petrogradskij</td>\n",
       "      <td>1</td>\n",
       "      <td>8687231</td>\n",
       "    </tr>\n",
       "    <tr>\n",
       "      <th>99998</th>\n",
       "      <td>99998</td>\n",
       "      <td>11</td>\n",
       "      <td>16</td>\n",
       "      <td>43.556108</td>\n",
       "      <td>No</td>\n",
       "      <td>Yes</td>\n",
       "      <td>Yes</td>\n",
       "      <td>11</td>\n",
       "      <td>1</td>\n",
       "      <td>1996</td>\n",
       "      <td>2.50</td>\n",
       "      <td>9</td>\n",
       "      <td>4</td>\n",
       "      <td>74.222775</td>\n",
       "      <td>2</td>\n",
       "      <td>loggia</td>\n",
       "      <td>Centralnyj</td>\n",
       "      <td>4</td>\n",
       "      <td>10838866</td>\n",
       "    </tr>\n",
       "    <tr>\n",
       "      <th>99999</th>\n",
       "      <td>99999</td>\n",
       "      <td>16</td>\n",
       "      <td>21</td>\n",
       "      <td>64.303288</td>\n",
       "      <td>Yes</td>\n",
       "      <td>Yes</td>\n",
       "      <td>Yes</td>\n",
       "      <td>5</td>\n",
       "      <td>1</td>\n",
       "      <td>1947</td>\n",
       "      <td>2.50</td>\n",
       "      <td>5</td>\n",
       "      <td>1</td>\n",
       "      <td>102.969954</td>\n",
       "      <td>2</td>\n",
       "      <td>loggia</td>\n",
       "      <td>Krasnoselskij</td>\n",
       "      <td>5</td>\n",
       "      <td>10852292</td>\n",
       "    </tr>\n",
       "  </tbody>\n",
       "</table>\n",
       "</div>"
      ],
      "text/plain": [
       "       index  kitchen_area  bath_area  other_area  gas hot_water  \\\n",
       "99995  99995            19         14   12.268533  Yes       Yes   \n",
       "99996  99996            22         13   11.377047  Yes       Yes   \n",
       "99997  99997            22         21   12.520022   No        No   \n",
       "99998  99998            11         16   43.556108   No       Yes   \n",
       "99999  99999            16         21   64.303288  Yes       Yes   \n",
       "\n",
       "      central_heating  extra_area  extra_area_count  year  ceil_height  \\\n",
       "99995             Yes          13                 2  2002         2.50   \n",
       "99996             Yes           9                 1  1915         3.87   \n",
       "99997             Yes          19                 0  1954         2.50   \n",
       "99998             Yes          11                 1  1996         2.50   \n",
       "99999             Yes           5                 1  1947         2.50   \n",
       "\n",
       "       floor_max  floor  total_area  bath_count extra_area_type_name  \\\n",
       "99995         18     18   49.601866           1              balcony   \n",
       "99996          2      1   49.377047           1               loggia   \n",
       "99997          7      1   61.853355           2               loggia   \n",
       "99998          9      4   74.222775           2               loggia   \n",
       "99999          5      1  102.969954           2               loggia   \n",
       "\n",
       "       district_name  rooms_count     price  \n",
       "99995  Krasnoselskij            0   5538427  \n",
       "99996  Petrogradskij            0   7602367  \n",
       "99997  Petrogradskij            1   8687231  \n",
       "99998     Centralnyj            4  10838866  \n",
       "99999  Krasnoselskij            5  10852292  "
      ]
     },
     "execution_count": 6,
     "metadata": {},
     "output_type": "execute_result"
    }
   ],
   "source": [
    "flat.tail()"
   ]
  },
  {
   "cell_type": "code",
   "execution_count": 7,
   "id": "909cdb45",
   "metadata": {},
   "outputs": [
    {
     "name": "stdout",
     "output_type": "stream",
     "text": [
      "<class 'pandas.core.frame.DataFrame'>\n",
      "RangeIndex: 100000 entries, 0 to 99999\n",
      "Data columns (total 19 columns):\n",
      " #   Column                Non-Null Count   Dtype  \n",
      "---  ------                --------------   -----  \n",
      " 0   index                 100000 non-null  int64  \n",
      " 1   kitchen_area          100000 non-null  int64  \n",
      " 2   bath_area             100000 non-null  int64  \n",
      " 3   other_area            100000 non-null  float64\n",
      " 4   gas                   100000 non-null  object \n",
      " 5   hot_water             100000 non-null  object \n",
      " 6   central_heating       100000 non-null  object \n",
      " 7   extra_area            100000 non-null  int64  \n",
      " 8   extra_area_count      100000 non-null  int64  \n",
      " 9   year                  100000 non-null  int64  \n",
      " 10  ceil_height           100000 non-null  float64\n",
      " 11  floor_max             100000 non-null  int64  \n",
      " 12  floor                 100000 non-null  int64  \n",
      " 13  total_area            100000 non-null  float64\n",
      " 14  bath_count            100000 non-null  int64  \n",
      " 15  extra_area_type_name  100000 non-null  object \n",
      " 16  district_name         100000 non-null  object \n",
      " 17  rooms_count           100000 non-null  int64  \n",
      " 18  price                 100000 non-null  int64  \n",
      "dtypes: float64(3), int64(11), object(5)\n",
      "memory usage: 14.5+ MB\n"
     ]
    }
   ],
   "source": [
    "flat.info()"
   ]
  },
  {
   "cell_type": "code",
   "execution_count": 8,
   "id": "69766957",
   "metadata": {},
   "outputs": [
    {
     "data": {
      "text/plain": [
       "index                   0\n",
       "kitchen_area            0\n",
       "bath_area               0\n",
       "other_area              0\n",
       "gas                     0\n",
       "hot_water               0\n",
       "central_heating         0\n",
       "extra_area              0\n",
       "extra_area_count        0\n",
       "year                    0\n",
       "ceil_height             0\n",
       "floor_max               0\n",
       "floor                   0\n",
       "total_area              0\n",
       "bath_count              0\n",
       "extra_area_type_name    0\n",
       "district_name           0\n",
       "rooms_count             0\n",
       "price                   0\n",
       "dtype: int64"
      ]
     },
     "execution_count": 8,
     "metadata": {},
     "output_type": "execute_result"
    }
   ],
   "source": [
    "flat.isnull().sum()"
   ]
  },
  {
   "cell_type": "code",
   "execution_count": 9,
   "id": "4b70a9e7",
   "metadata": {},
   "outputs": [
    {
     "data": {
      "text/plain": [
       "Yes    50029\n",
       "No     49971\n",
       "Name: gas, dtype: int64"
      ]
     },
     "execution_count": 9,
     "metadata": {},
     "output_type": "execute_result"
    }
   ],
   "source": [
    "flat[\"gas\"].value_counts()"
   ]
  },
  {
   "cell_type": "code",
   "execution_count": 10,
   "id": "1d73d573",
   "metadata": {},
   "outputs": [
    {
     "data": {
      "text/plain": [
       "Yes    64787\n",
       "No     35213\n",
       "Name: hot_water, dtype: int64"
      ]
     },
     "execution_count": 10,
     "metadata": {},
     "output_type": "execute_result"
    }
   ],
   "source": [
    "flat[\"hot_water\"].value_counts()"
   ]
  },
  {
   "cell_type": "code",
   "execution_count": 11,
   "id": "8f222e14",
   "metadata": {},
   "outputs": [
    {
     "data": {
      "text/plain": [
       "Yes    89968\n",
       "No     10032\n",
       "Name: central_heating, dtype: int64"
      ]
     },
     "execution_count": 11,
     "metadata": {},
     "output_type": "execute_result"
    }
   ],
   "source": [
    "flat[\"central_heating\"].value_counts()"
   ]
  },
  {
   "cell_type": "code",
   "execution_count": 12,
   "id": "d4430c0e",
   "metadata": {},
   "outputs": [
    {
     "data": {
      "text/plain": [
       "0     2428\n",
       "20    2484\n",
       "15    4899\n",
       "7     4945\n",
       "18    4957\n",
       "12    4961\n",
       "10    4967\n",
       "9     4976\n",
       "5     4982\n",
       "17    4989\n",
       "2     4992\n",
       "16    4999\n",
       "11    5003\n",
       "3     5003\n",
       "13    5018\n",
       "1     5029\n",
       "19    5034\n",
       "14    5038\n",
       "4     5047\n",
       "8     5122\n",
       "6     5127\n",
       "Name: extra_area, dtype: int64"
      ]
     },
     "execution_count": 12,
     "metadata": {},
     "output_type": "execute_result"
    }
   ],
   "source": [
    "flat[\"extra_area\"].value_counts().sort_values()"
   ]
  },
  {
   "cell_type": "code",
   "execution_count": 13,
   "id": "92c1bf48",
   "metadata": {},
   "outputs": [
    {
     "data": {
      "text/plain": [
       "balcony    50155\n",
       "loggia     49845\n",
       "Name: extra_area_type_name, dtype: int64"
      ]
     },
     "execution_count": 13,
     "metadata": {},
     "output_type": "execute_result"
    }
   ],
   "source": [
    "flat[\"extra_area_type_name\"].value_counts()"
   ]
  },
  {
   "cell_type": "code",
   "execution_count": 14,
   "id": "37efe04e",
   "metadata": {},
   "outputs": [
    {
     "data": {
      "text/plain": [
       "Kirovskij        14447\n",
       "Petrogradskij    14392\n",
       "Krasnoselskij    14350\n",
       "Moskovskij       14276\n",
       "Centralnyj       14203\n",
       "Vyborgskij       14182\n",
       "Nevskij          14150\n",
       "Name: district_name, dtype: int64"
      ]
     },
     "execution_count": 14,
     "metadata": {},
     "output_type": "execute_result"
    }
   ],
   "source": [
    "flat[\"district_name\"].value_counts()"
   ]
  },
  {
   "cell_type": "code",
   "execution_count": 15,
   "id": "b1896167",
   "metadata": {},
   "outputs": [
    {
     "data": {
      "text/html": [
       "<div>\n",
       "<style scoped>\n",
       "    .dataframe tbody tr th:only-of-type {\n",
       "        vertical-align: middle;\n",
       "    }\n",
       "\n",
       "    .dataframe tbody tr th {\n",
       "        vertical-align: top;\n",
       "    }\n",
       "\n",
       "    .dataframe thead th {\n",
       "        text-align: right;\n",
       "    }\n",
       "</style>\n",
       "<table border=\"1\" class=\"dataframe\">\n",
       "  <thead>\n",
       "    <tr style=\"text-align: right;\">\n",
       "      <th></th>\n",
       "      <th>index</th>\n",
       "      <th>kitchen_area</th>\n",
       "      <th>bath_area</th>\n",
       "      <th>other_area</th>\n",
       "      <th>extra_area</th>\n",
       "      <th>extra_area_count</th>\n",
       "      <th>year</th>\n",
       "      <th>ceil_height</th>\n",
       "      <th>floor_max</th>\n",
       "      <th>floor</th>\n",
       "      <th>total_area</th>\n",
       "      <th>bath_count</th>\n",
       "      <th>rooms_count</th>\n",
       "      <th>price</th>\n",
       "    </tr>\n",
       "  </thead>\n",
       "  <tbody>\n",
       "    <tr>\n",
       "      <th>count</th>\n",
       "      <td>100000.000000</td>\n",
       "      <td>100000.000000</td>\n",
       "      <td>100000.000000</td>\n",
       "      <td>100000.000000</td>\n",
       "      <td>100000.000000</td>\n",
       "      <td>100000.000000</td>\n",
       "      <td>100000.00000</td>\n",
       "      <td>100000.000000</td>\n",
       "      <td>100000.000000</td>\n",
       "      <td>100000.000000</td>\n",
       "      <td>100000.000000</td>\n",
       "      <td>100000.000000</td>\n",
       "      <td>100000.000000</td>\n",
       "      <td>1.000000e+05</td>\n",
       "    </tr>\n",
       "    <tr>\n",
       "      <th>mean</th>\n",
       "      <td>49999.500000</td>\n",
       "      <td>16.499250</td>\n",
       "      <td>21.482350</td>\n",
       "      <td>28.280992</td>\n",
       "      <td>9.990920</td>\n",
       "      <td>1.001090</td>\n",
       "      <td>1960.06910</td>\n",
       "      <td>3.130120</td>\n",
       "      <td>9.073740</td>\n",
       "      <td>5.043840</td>\n",
       "      <td>69.592899</td>\n",
       "      <td>1.699550</td>\n",
       "      <td>1.480480</td>\n",
       "      <td>9.195727e+06</td>\n",
       "    </tr>\n",
       "    <tr>\n",
       "      <th>std</th>\n",
       "      <td>28867.657797</td>\n",
       "      <td>5.759919</td>\n",
       "      <td>8.639641</td>\n",
       "      <td>20.476935</td>\n",
       "      <td>5.782708</td>\n",
       "      <td>0.706678</td>\n",
       "      <td>34.60658</td>\n",
       "      <td>0.810827</td>\n",
       "      <td>5.806507</td>\n",
       "      <td>4.251468</td>\n",
       "      <td>23.005842</td>\n",
       "      <td>0.458456</td>\n",
       "      <td>1.717466</td>\n",
       "      <td>3.379607e+06</td>\n",
       "    </tr>\n",
       "    <tr>\n",
       "      <th>min</th>\n",
       "      <td>0.000000</td>\n",
       "      <td>7.000000</td>\n",
       "      <td>7.000000</td>\n",
       "      <td>11.000000</td>\n",
       "      <td>0.000000</td>\n",
       "      <td>0.000000</td>\n",
       "      <td>1900.00000</td>\n",
       "      <td>2.500000</td>\n",
       "      <td>1.000000</td>\n",
       "      <td>1.000000</td>\n",
       "      <td>25.647034</td>\n",
       "      <td>1.000000</td>\n",
       "      <td>0.000000</td>\n",
       "      <td>2.757564e+06</td>\n",
       "    </tr>\n",
       "    <tr>\n",
       "      <th>25%</th>\n",
       "      <td>24999.750000</td>\n",
       "      <td>11.000000</td>\n",
       "      <td>14.000000</td>\n",
       "      <td>13.011560</td>\n",
       "      <td>5.000000</td>\n",
       "      <td>1.000000</td>\n",
       "      <td>1930.00000</td>\n",
       "      <td>2.500000</td>\n",
       "      <td>4.000000</td>\n",
       "      <td>2.000000</td>\n",
       "      <td>53.222280</td>\n",
       "      <td>1.000000</td>\n",
       "      <td>0.000000</td>\n",
       "      <td>6.744855e+06</td>\n",
       "    </tr>\n",
       "    <tr>\n",
       "      <th>50%</th>\n",
       "      <td>49999.500000</td>\n",
       "      <td>17.000000</td>\n",
       "      <td>21.000000</td>\n",
       "      <td>18.984819</td>\n",
       "      <td>10.000000</td>\n",
       "      <td>1.000000</td>\n",
       "      <td>1960.00000</td>\n",
       "      <td>2.510000</td>\n",
       "      <td>8.000000</td>\n",
       "      <td>4.000000</td>\n",
       "      <td>64.518983</td>\n",
       "      <td>2.000000</td>\n",
       "      <td>1.000000</td>\n",
       "      <td>8.496955e+06</td>\n",
       "    </tr>\n",
       "    <tr>\n",
       "      <th>75%</th>\n",
       "      <td>74999.250000</td>\n",
       "      <td>21.000000</td>\n",
       "      <td>29.000000</td>\n",
       "      <td>37.171975</td>\n",
       "      <td>15.000000</td>\n",
       "      <td>2.000000</td>\n",
       "      <td>1990.00000</td>\n",
       "      <td>3.760000</td>\n",
       "      <td>13.000000</td>\n",
       "      <td>7.000000</td>\n",
       "      <td>80.716989</td>\n",
       "      <td>2.000000</td>\n",
       "      <td>2.000000</td>\n",
       "      <td>1.096428e+07</td>\n",
       "    </tr>\n",
       "    <tr>\n",
       "      <th>max</th>\n",
       "      <td>99999.000000</td>\n",
       "      <td>26.000000</td>\n",
       "      <td>36.000000</td>\n",
       "      <td>90.983329</td>\n",
       "      <td>20.000000</td>\n",
       "      <td>2.000000</td>\n",
       "      <td>2020.00000</td>\n",
       "      <td>5.000000</td>\n",
       "      <td>24.000000</td>\n",
       "      <td>24.000000</td>\n",
       "      <td>159.408240</td>\n",
       "      <td>2.000000</td>\n",
       "      <td>9.000000</td>\n",
       "      <td>2.623385e+07</td>\n",
       "    </tr>\n",
       "  </tbody>\n",
       "</table>\n",
       "</div>"
      ],
      "text/plain": [
       "               index   kitchen_area      bath_area     other_area  \\\n",
       "count  100000.000000  100000.000000  100000.000000  100000.000000   \n",
       "mean    49999.500000      16.499250      21.482350      28.280992   \n",
       "std     28867.657797       5.759919       8.639641      20.476935   \n",
       "min         0.000000       7.000000       7.000000      11.000000   \n",
       "25%     24999.750000      11.000000      14.000000      13.011560   \n",
       "50%     49999.500000      17.000000      21.000000      18.984819   \n",
       "75%     74999.250000      21.000000      29.000000      37.171975   \n",
       "max     99999.000000      26.000000      36.000000      90.983329   \n",
       "\n",
       "          extra_area  extra_area_count          year    ceil_height  \\\n",
       "count  100000.000000     100000.000000  100000.00000  100000.000000   \n",
       "mean        9.990920          1.001090    1960.06910       3.130120   \n",
       "std         5.782708          0.706678      34.60658       0.810827   \n",
       "min         0.000000          0.000000    1900.00000       2.500000   \n",
       "25%         5.000000          1.000000    1930.00000       2.500000   \n",
       "50%        10.000000          1.000000    1960.00000       2.510000   \n",
       "75%        15.000000          2.000000    1990.00000       3.760000   \n",
       "max        20.000000          2.000000    2020.00000       5.000000   \n",
       "\n",
       "           floor_max          floor     total_area     bath_count  \\\n",
       "count  100000.000000  100000.000000  100000.000000  100000.000000   \n",
       "mean        9.073740       5.043840      69.592899       1.699550   \n",
       "std         5.806507       4.251468      23.005842       0.458456   \n",
       "min         1.000000       1.000000      25.647034       1.000000   \n",
       "25%         4.000000       2.000000      53.222280       1.000000   \n",
       "50%         8.000000       4.000000      64.518983       2.000000   \n",
       "75%        13.000000       7.000000      80.716989       2.000000   \n",
       "max        24.000000      24.000000     159.408240       2.000000   \n",
       "\n",
       "         rooms_count         price  \n",
       "count  100000.000000  1.000000e+05  \n",
       "mean        1.480480  9.195727e+06  \n",
       "std         1.717466  3.379607e+06  \n",
       "min         0.000000  2.757564e+06  \n",
       "25%         0.000000  6.744855e+06  \n",
       "50%         1.000000  8.496955e+06  \n",
       "75%         2.000000  1.096428e+07  \n",
       "max         9.000000  2.623385e+07  "
      ]
     },
     "execution_count": 15,
     "metadata": {},
     "output_type": "execute_result"
    }
   ],
   "source": [
    "flat.describe()"
   ]
  },
  {
   "cell_type": "code",
   "execution_count": 16,
   "id": "16ce5ce3",
   "metadata": {},
   "outputs": [
    {
     "data": {
      "text/plain": [
       "95691     25.647034\n",
       "91965     26.031452\n",
       "34531     26.295571\n",
       "5631      26.366295\n",
       "5900      26.441628\n",
       "            ...    \n",
       "44213    154.054225\n",
       "30016    154.088597\n",
       "71181    154.650614\n",
       "97489    156.827294\n",
       "87260    159.408240\n",
       "Name: total_area, Length: 100000, dtype: float64"
      ]
     },
     "execution_count": 16,
     "metadata": {},
     "output_type": "execute_result"
    }
   ],
   "source": [
    "flat[\"total_area\"].sort_values()"
   ]
  },
  {
   "cell_type": "code",
   "execution_count": 17,
   "id": "0dbe8b0e",
   "metadata": {
    "scrolled": true
   },
   "outputs": [
    {
     "data": {
      "image/png": "[encoded data removed]",
      "text/plain": [
       "<Figure size 1440x1440 with 16 Axes>"
      ]
     },
     "metadata": {
      "needs_background": "light"
     },
     "output_type": "display_data"
    }
   ],
   "source": [
    "%matplotlib inline\n",
    "import matplotlib.pyplot as plt \n",
    "flat.hist(bins=20, figsize=(20, 20))\n",
    "plt.show()"
   ]
  },
  {
   "cell_type": "code",
   "execution_count": 18,
   "id": "be401277",
   "metadata": {},
   "outputs": [],
   "source": [
    "import numpy as np\n",
    "\n",
    "def split_train_test(data, test_ratio):\n",
    "    shuffled_indices = np.random.permutation(len(data))\n",
    "    test_set_size = int(len(data) * test_ratio)\n",
    "    test_indices = shuffled_indices[:test_set_size]\n",
    "    train_indices = shuffled_indices[test_set_size:]\n",
    "    return data.iloc[train_indices], data.iloc[test_indices]"
   ]
  },
  {
   "cell_type": "markdown",
   "id": "1e9fc8ed",
   "metadata": {},
   "source": [
    "next line of codes will create different test set on every run. Eventually whole dataset will be in training. "
   ]
  },
  {
   "cell_type": "code",
   "execution_count": 19,
   "id": "99e690ff",
   "metadata": {},
   "outputs": [],
   "source": [
    "train_set, test_set = split_train_test(flat, 0.2)"
   ]
  },
  {
   "cell_type": "code",
   "execution_count": 20,
   "id": "8141f830",
   "metadata": {},
   "outputs": [
    {
     "data": {
      "text/plain": [
       "80000"
      ]
     },
     "execution_count": 20,
     "metadata": {},
     "output_type": "execute_result"
    }
   ],
   "source": [
    "len(train_set)"
   ]
  },
  {
   "cell_type": "code",
   "execution_count": 21,
   "id": "a6243e32",
   "metadata": {},
   "outputs": [
    {
     "data": {
      "text/plain": [
       "20000"
      ]
     },
     "execution_count": 21,
     "metadata": {},
     "output_type": "execute_result"
    }
   ],
   "source": [
    "len(test_set)"
   ]
  },
  {
   "cell_type": "markdown",
   "id": "9497e180",
   "metadata": {},
   "source": [
    "##### Creating total area category to ensure instances from each category on test set"
   ]
  },
  {
   "cell_type": "code",
   "execution_count": 22,
   "id": "5f6d577f",
   "metadata": {},
   "outputs": [],
   "source": [
    "flat[\"total_area_cat\"] = pd.cut(flat[\"total_area\"],\n",
    "                             bins=[25, 50, 75, 100, 125, 150, np.inf],\n",
    "                             labels=[1, 2, 3, 4, 5, 6])"
   ]
  },
  {
   "cell_type": "code",
   "execution_count": 23,
   "id": "78b10ebf",
   "metadata": {},
   "outputs": [
    {
     "data": {
      "text/plain": [
       "<AxesSubplot:>"
      ]
     },
     "execution_count": 23,
     "metadata": {},
     "output_type": "execute_result"
    },
    {
     "data": {
      "image/png": "[encoded data removed]",
      "text/plain": [
       "<Figure size 432x288 with 1 Axes>"
      ]
     },
     "metadata": {
      "needs_background": "light"
     },
     "output_type": "display_data"
    }
   ],
   "source": [
    "# the categories are below\n",
    "flat[\"total_area_cat\"].hist()"
   ]
  },
  {
   "cell_type": "markdown",
   "id": "15b6a5c8",
   "metadata": {},
   "source": [
    "##### random sampling"
   ]
  },
  {
   "cell_type": "code",
   "execution_count": 24,
   "id": "b6f7bd9a",
   "metadata": {},
   "outputs": [],
   "source": [
    "from zlib import crc32\n",
    "\n",
    "def test_set_check(identifier, test_ratio):\n",
    "    return crc32(np.int64(identifier)) & 0xffffffff < test_ratio * 2**32\n",
    "\n",
    "def split_train_test_by_id(data, test_ratio, id_column):\n",
    "    ids = data[id_column]\n",
    "    in_test_set = ids.apply(lambda id_: test_set_check(id_, test_ratio))\n",
    "    return data.loc[~in_test_set], data.loc[in_test_set]"
   ]
  },
  {
   "cell_type": "code",
   "execution_count": 25,
   "id": "ba0d2b06",
   "metadata": {},
   "outputs": [],
   "source": [
    "from sklearn.model_selection import train_test_split\n",
    "\n",
    "train_set, test_set = train_test_split(flat, test_size=0.2, random_state=42)"
   ]
  },
  {
   "cell_type": "markdown",
   "id": "2764978c",
   "metadata": {},
   "source": [
    "##### Stratified sampling : ensure enough instances from each strata (i.e, each total area category above)"
   ]
  },
  {
   "cell_type": "code",
   "execution_count": 26,
   "id": "c2379f82",
   "metadata": {},
   "outputs": [],
   "source": [
    "from sklearn.model_selection import StratifiedShuffleSplit\n",
    "\n",
    "flatSplit = StratifiedShuffleSplit(n_splits=1, test_size=0.2, random_state=42)\n",
    "for train_index, test_index in flatSplit.split(flat, flat[\"total_area_cat\"]):\n",
    "    strat_train_set = flat.loc[train_index]\n",
    "    strat_test_set = flat.loc[test_index]"
   ]
  },
  {
   "cell_type": "code",
   "execution_count": 27,
   "id": "7e04f590",
   "metadata": {},
   "outputs": [],
   "source": [
    "#proportion of total_area_cat in stratified test set\n",
    "stratified = strat_test_set[\"total_area_cat\"].value_counts() / len(strat_test_set)"
   ]
  },
  {
   "cell_type": "code",
   "execution_count": 28,
   "id": "83beb1c2",
   "metadata": {},
   "outputs": [],
   "source": [
    "#proportion of total_area_cat in whole dataset\n",
    "overall = flat[\"total_area_cat\"].value_counts() / len(flat)"
   ]
  },
  {
   "cell_type": "code",
   "execution_count": 29,
   "id": "b3efd446",
   "metadata": {},
   "outputs": [],
   "source": [
    "# proportion of total_area_cat in randomly sampled test set\n",
    "random = test_set[\"total_area_cat\"].value_counts() / len(test_set)"
   ]
  },
  {
   "cell_type": "code",
   "execution_count": 30,
   "id": "738438d7",
   "metadata": {},
   "outputs": [],
   "source": [
    "# dropping total_area_cat for now to keep data intact\n",
    "for set_ in (strat_train_set, strat_test_set):\n",
    "    set_.drop(\"total_area_cat\", axis=1, inplace=True)"
   ]
  },
  {
   "cell_type": "markdown",
   "id": "071ce7fd",
   "metadata": {},
   "source": [
    "#### Discover and Visualize the Data to Gain Insights\n"
   ]
  },
  {
   "cell_type": "code",
   "execution_count": 31,
   "id": "bc96f047",
   "metadata": {},
   "outputs": [],
   "source": [
    "flat = strat_train_set.copy()"
   ]
  },
  {
   "cell_type": "markdown",
   "id": "736c9c46",
   "metadata": {},
   "source": [
    "###### looking for correlation"
   ]
  },
  {
   "cell_type": "code",
   "execution_count": 32,
   "id": "b21ad1dd",
   "metadata": {},
   "outputs": [],
   "source": [
    "corr_matrix = flat.corr()"
   ]
  },
  {
   "cell_type": "code",
   "execution_count": 33,
   "id": "36f7ae1f",
   "metadata": {},
   "outputs": [
    {
     "data": {
      "text/plain": [
       "price               1.000000\n",
       "total_area          0.870801\n",
       "other_area          0.761150\n",
       "rooms_count         0.622726\n",
       "bath_area           0.346307\n",
       "bath_count          0.278787\n",
       "kitchen_area        0.226264\n",
       "extra_area          0.070513\n",
       "ceil_height         0.020078\n",
       "extra_area_count    0.010034\n",
       "index               0.001530\n",
       "floor              -0.009185\n",
       "floor_max          -0.018470\n",
       "year               -0.021471\n",
       "Name: price, dtype: float64"
      ]
     },
     "execution_count": 33,
     "metadata": {},
     "output_type": "execute_result"
    }
   ],
   "source": [
    "corr_matrix[\"price\"].sort_values(ascending=False)"
   ]
  },
  {
   "cell_type": "code",
   "execution_count": 34,
   "id": "49c591fc",
   "metadata": {},
   "outputs": [
    {
     "data": {
      "text/plain": [
       "array([[<AxesSubplot:xlabel='price', ylabel='price'>,\n",
       "        <AxesSubplot:xlabel='total_area', ylabel='price'>,\n",
       "        <AxesSubplot:xlabel='other_area', ylabel='price'>,\n",
       "        <AxesSubplot:xlabel='rooms_count', ylabel='price'>,\n",
       "        <AxesSubplot:xlabel='bath_area', ylabel='price'>],\n",
       "       [<AxesSubplot:xlabel='price', ylabel='total_area'>,\n",
       "        <AxesSubplot:xlabel='total_area', ylabel='total_area'>,\n",
       "        <AxesSubplot:xlabel='other_area', ylabel='total_area'>,\n",
       "        <AxesSubplot:xlabel='rooms_count', ylabel='total_area'>,\n",
       "        <AxesSubplot:xlabel='bath_area', ylabel='total_area'>],\n",
       "       [<AxesSubplot:xlabel='price', ylabel='other_area'>,\n",
       "        <AxesSubplot:xlabel='total_area', ylabel='other_area'>,\n",
       "        <AxesSubplot:xlabel='other_area', ylabel='other_area'>,\n",
       "        <AxesSubplot:xlabel='rooms_count', ylabel='other_area'>,\n",
       "        <AxesSubplot:xlabel='bath_area', ylabel='other_area'>],\n",
       "       [<AxesSubplot:xlabel='price', ylabel='rooms_count'>,\n",
       "        <AxesSubplot:xlabel='total_area', ylabel='rooms_count'>,\n",
       "        <AxesSubplot:xlabel='other_area', ylabel='rooms_count'>,\n",
       "        <AxesSubplot:xlabel='rooms_count', ylabel='rooms_count'>,\n",
       "        <AxesSubplot:xlabel='bath_area', ylabel='rooms_count'>],\n",
       "       [<AxesSubplot:xlabel='price', ylabel='bath_area'>,\n",
       "        <AxesSubplot:xlabel='total_area', ylabel='bath_area'>,\n",
       "        <AxesSubplot:xlabel='other_area', ylabel='bath_area'>,\n",
       "        <AxesSubplot:xlabel='rooms_count', ylabel='bath_area'>,\n",
       "        <AxesSubplot:xlabel='bath_area', ylabel='bath_area'>]],\n",
       "      dtype=object)"
      ]
     },
     "execution_count": 34,
     "metadata": {},
     "output_type": "execute_result"
    },
    {
     "data": {
      "image/png": "[encoded data removed]",
      "text/plain": [
       "<Figure size 864x576 with 25 Axes>"
      ]
     },
     "metadata": {
      "needs_background": "light"
     },
     "output_type": "display_data"
    }
   ],
   "source": [
    "# scatter_matrix shows correlation\n",
    "from pandas.plotting import scatter_matrix\n",
    "attributes = [\"price\", \"total_area\", \"other_area\", \"rooms_count\", \"bath_area\"]\n",
    "scatter_matrix(flat[attributes], figsize=(12, 8))"
   ]
  },
  {
   "cell_type": "code",
   "execution_count": 35,
   "id": "355225ea",
   "metadata": {},
   "outputs": [
    {
     "data": {
      "text/plain": [
       "<AxesSubplot:xlabel='total_area', ylabel='price'>"
      ]
     },
     "execution_count": 35,
     "metadata": {},
     "output_type": "execute_result"
    },
    {
     "data": {
      "image/png": "[encoded data removed]",
      "text/plain": [
       "<Figure size 432x288 with 1 Axes>"
      ]
     },
     "metadata": {
      "needs_background": "light"
     },
     "output_type": "display_data"
    }
   ],
   "source": [
    "# most important attribute is total_area to predict price. So zooming in on it\n",
    "flat.plot(kind=\"scatter\", x=\"total_area\", y=\"price\", alpha=0.1)"
   ]
  },
  {
   "cell_type": "markdown",
   "id": "c48d6c3a",
   "metadata": {},
   "source": [
    "#### Experimenting with Attribute Combinations"
   ]
  },
  {
   "cell_type": "code",
   "execution_count": 36,
   "id": "6a992e68",
   "metadata": {},
   "outputs": [],
   "source": [
    "flat[\"bath_area_per_total_area\"] = flat[\"bath_area\"] / flat[\"total_area\"]\n",
    "flat[\"extra_area_per_total_area\"] = flat[\"extra_area\"] / flat[\"total_area\"]\n",
    "flat[\"extra_area_count_per_room\"] = flat[\"extra_area\"] / flat[\"rooms_count\"]"
   ]
  },
  {
   "cell_type": "code",
   "execution_count": 37,
   "id": "5d6b6aaa",
   "metadata": {},
   "outputs": [],
   "source": [
    "corr_matrix = flat.corr()"
   ]
  },
  {
   "cell_type": "code",
   "execution_count": 38,
   "id": "02e3e61c",
   "metadata": {},
   "outputs": [
    {
     "data": {
      "text/plain": [
       "price                        1.000000\n",
       "total_area                   0.870801\n",
       "other_area                   0.761150\n",
       "rooms_count                  0.622726\n",
       "bath_area                    0.346307\n",
       "bath_count                   0.278787\n",
       "kitchen_area                 0.226264\n",
       "extra_area                   0.070513\n",
       "ceil_height                  0.020078\n",
       "extra_area_count             0.010034\n",
       "index                        0.001530\n",
       "floor                       -0.009185\n",
       "floor_max                   -0.018470\n",
       "year                        -0.021471\n",
       "bath_area_per_total_area    -0.244851\n",
       "extra_area_count_per_room   -0.310763\n",
       "extra_area_per_total_area   -0.311376\n",
       "Name: price, dtype: float64"
      ]
     },
     "execution_count": 38,
     "metadata": {},
     "output_type": "execute_result"
    }
   ],
   "source": [
    "corr_matrix[\"price\"].sort_values(ascending=False)"
   ]
  },
  {
   "cell_type": "code",
   "execution_count": 39,
   "id": "801e76ca",
   "metadata": {},
   "outputs": [],
   "source": [
    "# revert to a clean training set\n",
    "flat = strat_train_set.drop(\"price\", axis=1)\n",
    "flat_labels = strat_train_set[\"price\"].copy()"
   ]
  },
  {
   "cell_type": "markdown",
   "id": "d5ac6699",
   "metadata": {},
   "source": [
    "### preparing the data for machine learning algorithms"
   ]
  },
  {
   "cell_type": "markdown",
   "id": "bfdd3d76",
   "metadata": {},
   "source": [
    "###### Data cleaning : Copy of data without text and categorical attributes"
   ]
  },
  {
   "cell_type": "code",
   "execution_count": 40,
   "id": "bdd311b8",
   "metadata": {},
   "outputs": [],
   "source": [
    "flat_numerical = flat.drop([\"gas\", \"hot_water\", \"central_heating\", \"extra_area_type_name\", \"district_name\"], axis=1)"
   ]
  },
  {
   "cell_type": "markdown",
   "id": "14c5a8be",
   "metadata": {},
   "source": [
    "###### Handling Text and Categorical Attributes"
   ]
  },
  {
   "cell_type": "code",
   "execution_count": 41,
   "id": "69d78dba",
   "metadata": {},
   "outputs": [],
   "source": [
    "gas_cat = flat[[\"gas\"]]\n",
    "hotwater_cat = flat[[\"hot_water\"]]\n",
    "heating_cat = flat[[\"central_heating\"]]\n",
    "extra_area_name_cat = flat[[\"extra_area_type_name\"]]\n",
    "district_name_cat = flat[[\"extra_area_type_name\"]]"
   ]
  },
  {
   "cell_type": "code",
   "execution_count": 42,
   "id": "cb8379ee",
   "metadata": {},
   "outputs": [
    {
     "data": {
      "text/html": [
       "<div>\n",
       "<style scoped>\n",
       "    .dataframe tbody tr th:only-of-type {\n",
       "        vertical-align: middle;\n",
       "    }\n",
       "\n",
       "    .dataframe tbody tr th {\n",
       "        vertical-align: top;\n",
       "    }\n",
       "\n",
       "    .dataframe thead th {\n",
       "        text-align: right;\n",
       "    }\n",
       "</style>\n",
       "<table border=\"1\" class=\"dataframe\">\n",
       "  <thead>\n",
       "    <tr style=\"text-align: right;\">\n",
       "      <th></th>\n",
       "      <th>gas</th>\n",
       "    </tr>\n",
       "  </thead>\n",
       "  <tbody>\n",
       "    <tr>\n",
       "      <th>31678</th>\n",
       "      <td>No</td>\n",
       "    </tr>\n",
       "    <tr>\n",
       "      <th>96877</th>\n",
       "      <td>No</td>\n",
       "    </tr>\n",
       "    <tr>\n",
       "      <th>53491</th>\n",
       "      <td>Yes</td>\n",
       "    </tr>\n",
       "    <tr>\n",
       "      <th>80350</th>\n",
       "      <td>No</td>\n",
       "    </tr>\n",
       "    <tr>\n",
       "      <th>37667</th>\n",
       "      <td>No</td>\n",
       "    </tr>\n",
       "  </tbody>\n",
       "</table>\n",
       "</div>"
      ],
      "text/plain": [
       "       gas\n",
       "31678   No\n",
       "96877   No\n",
       "53491  Yes\n",
       "80350   No\n",
       "37667   No"
      ]
     },
     "execution_count": 42,
     "metadata": {},
     "output_type": "execute_result"
    }
   ],
   "source": [
    "gas_cat.head(5)"
   ]
  },
  {
   "cell_type": "code",
   "execution_count": 43,
   "id": "d9d3af3b",
   "metadata": {},
   "outputs": [],
   "source": [
    "# from text to numbers\n",
    "from sklearn.preprocessing import OrdinalEncoder\n",
    "ordinal_encoder = OrdinalEncoder()\n",
    "gas_cat_encoded = ordinal_encoder.fit_transform(gas_cat)\n",
    "hotwater_cat_encoded = ordinal_encoder.fit_transform(hotwater_cat)\n",
    "heating_cat_encoded = ordinal_encoder.fit_transform(heating_cat)\n",
    "extra_area_name_cat_encoded = ordinal_encoder.fit_transform(extra_area_name_cat)\n",
    "district_name_cat_encoded = ordinal_encoder.fit_transform(district_name_cat)"
   ]
  },
  {
   "cell_type": "code",
   "execution_count": 44,
   "id": "e5938b8b",
   "metadata": {},
   "outputs": [
    {
     "data": {
      "text/plain": [
       "[array(['balcony', 'loggia'], dtype=object)]"
      ]
     },
     "execution_count": 44,
     "metadata": {},
     "output_type": "execute_result"
    }
   ],
   "source": [
    "ordinal_encoder.categories_"
   ]
  },
  {
   "cell_type": "markdown",
   "id": "bf990da5",
   "metadata": {},
   "source": [
    "###### OrdinalEncoder will introduce order (i.e, 1 < 2 < 3 < 4.....) which ML algorithms can misinterpret regardless of importance."
   ]
  },
  {
   "cell_type": "code",
   "execution_count": 45,
   "id": "f0c2431f",
   "metadata": {},
   "outputs": [
    {
     "data": {
      "text/plain": [
       "<80000x2 sparse matrix of type '<class 'numpy.float64'>'\n",
       "\twith 80000 stored elements in Compressed Sparse Row format>"
      ]
     },
     "execution_count": 45,
     "metadata": {},
     "output_type": "execute_result"
    }
   ],
   "source": [
    "from sklearn.preprocessing import OneHotEncoder\n",
    "extra_area_name_encoder = OneHotEncoder()\n",
    "extra_area_name_1hot = extra_area_name_encoder.fit_transform(extra_area_name_cat)\n",
    "extra_area_name_1hot"
   ]
  },
  {
   "cell_type": "code",
   "execution_count": 46,
   "id": "eee0117f",
   "metadata": {},
   "outputs": [
    {
     "data": {
      "text/plain": [
       "[array(['balcony', 'loggia'], dtype=object)]"
      ]
     },
     "execution_count": 46,
     "metadata": {},
     "output_type": "execute_result"
    }
   ],
   "source": [
    "extra_area_name_encoder.categories_"
   ]
  },
  {
   "cell_type": "code",
   "execution_count": 47,
   "id": "58afaf35",
   "metadata": {},
   "outputs": [
    {
     "data": {
      "text/plain": [
       "<80000x2 sparse matrix of type '<class 'numpy.float64'>'\n",
       "\twith 80000 stored elements in Compressed Sparse Row format>"
      ]
     },
     "execution_count": 47,
     "metadata": {},
     "output_type": "execute_result"
    }
   ],
   "source": [
    "gas_encoder = OneHotEncoder()\n",
    "gas_1hot = gas_encoder.fit_transform(gas_cat)\n",
    "gas_1hot"
   ]
  },
  {
   "cell_type": "code",
   "execution_count": 48,
   "id": "54047f6c",
   "metadata": {},
   "outputs": [
    {
     "data": {
      "text/plain": [
       "<80000x2 sparse matrix of type '<class 'numpy.float64'>'\n",
       "\twith 80000 stored elements in Compressed Sparse Row format>"
      ]
     },
     "execution_count": 48,
     "metadata": {},
     "output_type": "execute_result"
    }
   ],
   "source": [
    "district_name_encoder = OneHotEncoder()\n",
    "district_name_1hot = district_name_encoder.fit_transform(district_name_cat)\n",
    "district_name_1hot"
   ]
  },
  {
   "cell_type": "code",
   "execution_count": 49,
   "id": "d160dffb",
   "metadata": {},
   "outputs": [
    {
     "data": {
      "text/plain": [
       "<80000x2 sparse matrix of type '<class 'numpy.float64'>'\n",
       "\twith 80000 stored elements in Compressed Sparse Row format>"
      ]
     },
     "execution_count": 49,
     "metadata": {},
     "output_type": "execute_result"
    }
   ],
   "source": [
    "hotwater_encoder = OneHotEncoder()\n",
    "hotwater_1hot = hotwater_encoder.fit_transform(hotwater_cat)\n",
    "hotwater_1hot"
   ]
  },
  {
   "cell_type": "code",
   "execution_count": 50,
   "id": "ea885a7f",
   "metadata": {},
   "outputs": [
    {
     "data": {
      "text/plain": [
       "<80000x2 sparse matrix of type '<class 'numpy.float64'>'\n",
       "\twith 80000 stored elements in Compressed Sparse Row format>"
      ]
     },
     "execution_count": 50,
     "metadata": {},
     "output_type": "execute_result"
    }
   ],
   "source": [
    "heating_encoder = OneHotEncoder()\n",
    "heating_1hot = heating_encoder.fit_transform(heating_cat)\n",
    "heating_1hot"
   ]
  },
  {
   "cell_type": "markdown",
   "id": "177af183",
   "metadata": {},
   "source": [
    "###### Custom Transformers"
   ]
  },
  {
   "cell_type": "code",
   "execution_count": 51,
   "id": "6a33dede",
   "metadata": {},
   "outputs": [],
   "source": [
    "from sklearn.base import BaseEstimator, TransformerMixin"
   ]
  },
  {
   "cell_type": "code",
   "execution_count": 52,
   "id": "e4666a85",
   "metadata": {},
   "outputs": [],
   "source": [
    "total_area_ix, rooms_count_ix, bath_area_ix, extra_area_ix, extra_area_count_ix = 7, 6, 5, 4, 3"
   ]
  },
  {
   "cell_type": "code",
   "execution_count": 53,
   "id": "26550064",
   "metadata": {},
   "outputs": [],
   "source": [
    "class CombinedAttributesAdder(BaseEstimator, TransformerMixin):\n",
    "    def __init__(self, add_extra_area_per_total_area = True): # no *args or **kargs\n",
    "        self.add_extra_area_per_total_area = add_extra_area_per_total_area\n",
    "    def fit(self, X, y=None):\n",
    "        return self # nothing else to do\n",
    "    def transform(self, X, y=None):\n",
    "        extra_area_count_per_room = X[:, extra_area_count_ix] / X[:, rooms_count_ix]\n",
    "        bath_area_per_total_area = X[:, bath_area_ix] / X[:, total_area_ix]\n",
    "        if self.add_extra_area_per_total_area:\n",
    "            extra_area_per_total_area = X[:, extra_area_ix] / X[:, total_area_ix]\n",
    "            return np.c_[X, extra_area_count_per_room, bath_area_per_total_area,\n",
    "            extra_area_per_total_area]\n",
    "        else:\n",
    "            return np.c_[X, extra_area_count_per_room, bath_area_per_total_area]\n",
    "\n",
    "        \n",
    "attr_adder = CombinedAttributesAdder(add_extra_area_per_total_area=False)\n",
    "flat_numerical_extra_attribs = attr_adder.transform(flat_numerical.values)\n"
   ]
  },
  {
   "cell_type": "markdown",
   "id": "886c42bc",
   "metadata": {},
   "source": [
    "### Feature scaling"
   ]
  },
  {
   "cell_type": "markdown",
   "id": "0b8386aa",
   "metadata": {},
   "source": [
    "###### standard scaler would be used "
   ]
  },
  {
   "cell_type": "markdown",
   "id": "ba1bfef1",
   "metadata": {},
   "source": [
    "### Transformation pipeline"
   ]
  },
  {
   "cell_type": "code",
   "execution_count": 54,
   "id": "69e9b0a1",
   "metadata": {},
   "outputs": [],
   "source": [
    "from sklearn.pipeline import Pipeline\n",
    "from sklearn.preprocessing import StandardScaler\n",
    "from sklearn.impute import SimpleImputer\n",
    "\n",
    "num_pipeline = Pipeline([\n",
    "        ('imputer', SimpleImputer(strategy=\"median\")),\n",
    "        ('attribs_adder', CombinedAttributesAdder()),\n",
    "        ('std_scaler', StandardScaler()),\n",
    "                        ])\n",
    "flat_numerical_tr = num_pipeline.fit_transform(flat_numerical)"
   ]
  },
  {
   "cell_type": "markdown",
   "id": "a9a0034b",
   "metadata": {},
   "source": [
    "###### ColumnTransformer will beused to handle both categorical and numerical columns at once"
   ]
  },
  {
   "cell_type": "code",
   "execution_count": 55,
   "id": "0753398f",
   "metadata": {},
   "outputs": [],
   "source": [
    "from sklearn.compose import ColumnTransformer\n",
    "\n",
    "num_attribs = list(flat_numerical)\n",
    "cat_attribs = [\"gas\", \"hot_water\", \"central_heating\", \"extra_area_type_name\", \"district_name\"]\n",
    "\n",
    "full_pipeline = ColumnTransformer([\n",
    "    (\"num\", num_pipeline, num_attribs),\n",
    "    (\"cat\", OneHotEncoder(), cat_attribs)\n",
    "])\n",
    "\n",
    "flat_prepared = full_pipeline.fit_transform(flat)"
   ]
  },
  {
   "cell_type": "markdown",
   "id": "8b649c4f",
   "metadata": {},
   "source": [
    "### Select and Train a Model"
   ]
  },
  {
   "cell_type": "markdown",
   "id": "aa6ff245",
   "metadata": {},
   "source": [
    "###### Training and Evaluating on the Training Set"
   ]
  },
  {
   "cell_type": "code",
   "execution_count": 56,
   "id": "b2f8d84b",
   "metadata": {},
   "outputs": [
    {
     "data": {
      "text/plain": [
       "LinearRegression()"
      ]
     },
     "execution_count": 56,
     "metadata": {},
     "output_type": "execute_result"
    }
   ],
   "source": [
    "# train a linear regression model\n",
    "from sklearn.linear_model import LinearRegression\n",
    "\n",
    "lin_reg = LinearRegression()\n",
    "lin_reg.fit(flat_prepared, flat_labels)"
   ]
  },
  {
   "cell_type": "code",
   "execution_count": 57,
   "id": "8c219157",
   "metadata": {},
   "outputs": [
    {
     "name": "stdout",
     "output_type": "stream",
     "text": [
      "predictions: [6002658. 9886370. 5343554. 3843362. 8329748.]\n"
     ]
    }
   ],
   "source": [
    "# try the model on some instance of training data\n",
    "some_data = flat.iloc[:5]\n",
    "some_labels = flat_labels.iloc[:5]\n",
    "some_data_prepared = full_pipeline.transform(some_data)\n",
    "print(\"predictions:\", lin_reg.predict(some_data_prepared))"
   ]
  },
  {
   "cell_type": "code",
   "execution_count": 58,
   "id": "e9811823",
   "metadata": {},
   "outputs": [
    {
     "name": "stdout",
     "output_type": "stream",
     "text": [
      "labels: [6401287, 9930095, 5726062, 4379594, 8275124]\n"
     ]
    }
   ],
   "source": [
    "print(\"labels:\", list(some_labels))"
   ]
  },
  {
   "cell_type": "code",
   "execution_count": 59,
   "id": "19fce140",
   "metadata": {},
   "outputs": [
    {
     "data": {
      "text/plain": [
       "537631.7216415547"
      ]
     },
     "execution_count": 59,
     "metadata": {},
     "output_type": "execute_result"
    }
   ],
   "source": [
    "# measuring model's accuracy on whole trainig dataset\n",
    "from sklearn.metrics import mean_squared_error\n",
    "linreg_flat_predictions = lin_reg.predict(flat_prepared)\n",
    "lin_mse = mean_squared_error(flat_labels, linreg_flat_predictions)\n",
    "lin_rmse = np.sqrt(lin_mse)\n",
    "lin_rmse"
   ]
  },
  {
   "cell_type": "code",
   "execution_count": 60,
   "id": "bc660039",
   "metadata": {},
   "outputs": [
    {
     "data": {
      "text/plain": [
       "count    8.000000e+04\n",
       "mean     9.200088e+06\n",
       "std      3.379715e+06\n",
       "min      2.757564e+06\n",
       "25%      6.746088e+06\n",
       "50%      8.501266e+06\n",
       "75%      1.097153e+07\n",
       "max      2.623385e+07\n",
       "Name: price, dtype: float64"
      ]
     },
     "execution_count": 60,
     "metadata": {},
     "output_type": "execute_result"
    }
   ],
   "source": [
    "strat_train_set[\"price\"].describe()"
   ]
  },
  {
   "cell_type": "code",
   "execution_count": 61,
   "id": "46b7dbc4",
   "metadata": {},
   "outputs": [
    {
     "data": {
      "text/plain": [
       "DecisionTreeRegressor()"
      ]
     },
     "execution_count": 61,
     "metadata": {},
     "output_type": "execute_result"
    }
   ],
   "source": [
    "# another model \n",
    "from sklearn.tree import DecisionTreeRegressor\n",
    "\n",
    "tree_reg = DecisionTreeRegressor()\n",
    "tree_reg.fit(flat_prepared, flat_labels)"
   ]
  },
  {
   "cell_type": "code",
   "execution_count": 62,
   "id": "2a5461d3",
   "metadata": {},
   "outputs": [
    {
     "data": {
      "text/plain": [
       "0.0"
      ]
     },
     "execution_count": 62,
     "metadata": {},
     "output_type": "execute_result"
    }
   ],
   "source": [
    "tree_flat_predictions = tree_reg.predict(flat_prepared)\n",
    "tree_mse = mean_squared_error(flat_labels, tree_flat_predictions)\n",
    "tree_rmse = np.sqrt(tree_mse)\n",
    "tree_rmse"
   ]
  },
  {
   "cell_type": "markdown",
   "id": "652ca884",
   "metadata": {},
   "source": [
    "###### No error! probably the model has overfit the data too much. Will use part of the training set for model validation."
   ]
  },
  {
   "cell_type": "markdown",
   "id": "9b398252",
   "metadata": {},
   "source": [
    "### Cross Validation to evaluate better"
   ]
  },
  {
   "cell_type": "code",
   "execution_count": 63,
   "id": "fdb156ba",
   "metadata": {},
   "outputs": [],
   "source": [
    "from sklearn.model_selection import cross_val_score\n",
    "tree_scores = cross_val_score(tree_reg, flat_prepared, flat_labels,\n",
    "                        scoring=\"neg_mean_squared_error\", cv=10)\n",
    "tree_rmse_scores = np.sqrt(-tree_scores)"
   ]
  },
  {
   "cell_type": "code",
   "execution_count": 64,
   "id": "eb995fc4",
   "metadata": {},
   "outputs": [
    {
     "name": "stdout",
     "output_type": "stream",
     "text": [
      "scores: [259449.73287572 260542.61676975 256698.56247626 263774.26330618\n",
      " 257349.09184761 260496.94454443 255810.4938662  260124.98165188\n",
      " 260067.61910589 264372.15613374]\n",
      "mean: 259868.64625776553\n",
      "standard deviation: 2636.880991072257\n"
     ]
    }
   ],
   "source": [
    "# results\n",
    "def display_scores(scores):\n",
    "    print(\"scores:\", scores)\n",
    "    print(\"mean:\", scores.mean())\n",
    "    print(\"standard deviation:\", scores.std())\n",
    "\n",
    "display_scores(tree_rmse_scores)"
   ]
  },
  {
   "cell_type": "code",
   "execution_count": 65,
   "id": "09221b94",
   "metadata": {
    "scrolled": true
   },
   "outputs": [
    {
     "name": "stdout",
     "output_type": "stream",
     "text": [
      "scores: [536600.81413441 543302.40912545 536311.38040355 533843.38248923\n",
      " 535975.19904896 544475.36253063 538524.38512695 545337.57473594\n",
      " 531347.49150826 536139.79351208]\n",
      "mean: 538185.779261545\n",
      "standard deviation: 4446.553592661205\n"
     ]
    }
   ],
   "source": [
    "# computing score for linear regression model too\n",
    "lin_scores = cross_val_score(lin_reg, flat_prepared, flat_labels, scoring=\"neg_mean_squared_error\", cv=10)\n",
    "lin_rmse_scores = np.sqrt(-lin_scores)\n",
    "display_scores(lin_rmse_scores)"
   ]
  },
  {
   "cell_type": "code",
   "execution_count": 66,
   "id": "3cf72739",
   "metadata": {},
   "outputs": [
    {
     "data": {
      "text/plain": [
       "RandomForestRegressor()"
      ]
     },
     "execution_count": 66,
     "metadata": {},
     "output_type": "execute_result"
    }
   ],
   "source": [
    "# RandomForestRegressor\n",
    "from sklearn.ensemble import RandomForestRegressor\n",
    "forest_reg = RandomForestRegressor()\n",
    "forest_reg.fit(flat_prepared, flat_labels)"
   ]
  },
  {
   "cell_type": "code",
   "execution_count": 67,
   "id": "80f12972",
   "metadata": {},
   "outputs": [
    {
     "data": {
      "text/plain": [
       "66164.78450507131"
      ]
     },
     "execution_count": 67,
     "metadata": {},
     "output_type": "execute_result"
    }
   ],
   "source": [
    "# predictions\n",
    "forest_flat_predictions = forest_reg.predict(flat_prepared)\n",
    "forest_mse = mean_squared_error(flat_labels, forest_flat_predictions)\n",
    "forest_rmse = np.sqrt(forest_mse)\n",
    "forest_rmse"
   ]
  },
  {
   "cell_type": "code",
   "execution_count": 68,
   "id": "988931e6",
   "metadata": {},
   "outputs": [],
   "source": [
    "# computing score for Random Forest model\n",
    "forest_scores = cross_val_score(forest_reg, flat_prepared, flat_labels, scoring=\"neg_mean_squared_error\", cv=10)\n",
    "forest_rmse_scores = np.sqrt(-forest_scores)"
   ]
  },
  {
   "cell_type": "code",
   "execution_count": 69,
   "id": "b08f814a",
   "metadata": {},
   "outputs": [
    {
     "name": "stdout",
     "output_type": "stream",
     "text": [
      "scores: [177169.79968032 178064.22395511 178753.77421215 181243.85970567\n",
      " 179711.05914369 182430.97146232 177852.55705527 179264.77551689\n",
      " 177240.76340618 177939.30288774]\n",
      "mean: 178967.10870253373\n",
      "standard deviation: 1649.0578699051503\n"
     ]
    }
   ],
   "source": [
    "# results\n",
    "display_scores(forest_rmse_scores)"
   ]
  },
  {
   "cell_type": "markdown",
   "id": "a43c81f2",
   "metadata": {},
   "source": [
    "### Fine tune the model"
   ]
  },
  {
   "cell_type": "code",
   "execution_count": 70,
   "id": "5cc080f1",
   "metadata": {},
   "outputs": [
    {
     "data": {
      "text/plain": [
       "GridSearchCV(cv=5, estimator=RandomForestRegressor(),\n",
       "             param_grid=[{'max_features': [2, 4, 6, 8],\n",
       "                          'n_estimators': [3, 10, 30]},\n",
       "                         {'bootstrap': [False], 'max_features': [2, 3, 4],\n",
       "                          'n_estimators': [3, 10]}],\n",
       "             return_train_score=True, scoring='neg_mean_squared_error')"
      ]
     },
     "execution_count": 70,
     "metadata": {},
     "output_type": "execute_result"
    }
   ],
   "source": [
    "from sklearn.model_selection import GridSearchCV\n",
    "\n",
    "param_grid = [\n",
    "    {'n_estimators': [3, 10, 30], 'max_features': [2, 4, 6, 8]},\n",
    "    {'bootstrap': [False], 'n_estimators': [3, 10], 'max_features': [2, 3, 4]}\n",
    "]\n",
    "\n",
    "forest_reg = RandomForestRegressor()\n",
    "\n",
    "grid_search = GridSearchCV(forest_reg, param_grid, cv=5,\n",
    "                          scoring='neg_mean_squared_error',\n",
    "                          return_train_score=True)\n",
    "\n",
    "grid_search.fit(flat_prepared, flat_labels)"
   ]
  },
  {
   "cell_type": "code",
   "execution_count": 71,
   "id": "4dc20b4e",
   "metadata": {},
   "outputs": [
    {
     "data": {
      "text/plain": [
       "{'max_features': 8, 'n_estimators': 30}"
      ]
     },
     "execution_count": 71,
     "metadata": {},
     "output_type": "execute_result"
    }
   ],
   "source": [
    "grid_search.best_params_"
   ]
  },
  {
   "cell_type": "code",
   "execution_count": 72,
   "id": "391257e6",
   "metadata": {},
   "outputs": [
    {
     "data": {
      "text/plain": [
       "RandomForestRegressor(max_features=8, n_estimators=30)"
      ]
     },
     "execution_count": 72,
     "metadata": {},
     "output_type": "execute_result"
    }
   ],
   "source": [
    "grid_search.best_estimator_"
   ]
  },
  {
   "cell_type": "code",
   "execution_count": 73,
   "id": "91260660",
   "metadata": {},
   "outputs": [
    {
     "name": "stdout",
     "output_type": "stream",
     "text": [
      "1039844.4233851398 {'max_features': 2, 'n_estimators': 3}\n",
      "776823.1883298764 {'max_features': 2, 'n_estimators': 10}\n",
      "687498.8031829505 {'max_features': 2, 'n_estimators': 30}\n",
      "624853.2054312557 {'max_features': 4, 'n_estimators': 3}\n",
      "428014.80714822956 {'max_features': 4, 'n_estimators': 10}\n",
      "356005.67743135476 {'max_features': 4, 'n_estimators': 30}\n",
      "430259.3282732472 {'max_features': 6, 'n_estimators': 3}\n",
      "309946.936720583 {'max_features': 6, 'n_estimators': 10}\n",
      "261623.81528759957 {'max_features': 6, 'n_estimators': 30}\n",
      "346439.7754589042 {'max_features': 8, 'n_estimators': 3}\n",
      "259717.26028344565 {'max_features': 8, 'n_estimators': 10}\n",
      "231447.3223416565 {'max_features': 8, 'n_estimators': 30}\n",
      "990733.4687078347 {'bootstrap': False, 'max_features': 2, 'n_estimators': 3}\n",
      "758286.9660932454 {'bootstrap': False, 'max_features': 2, 'n_estimators': 10}\n",
      "781114.8951293455 {'bootstrap': False, 'max_features': 3, 'n_estimators': 3}\n",
      "531664.9541443187 {'bootstrap': False, 'max_features': 3, 'n_estimators': 10}\n",
      "591636.9194933546 {'bootstrap': False, 'max_features': 4, 'n_estimators': 3}\n",
      "392154.0539583538 {'bootstrap': False, 'max_features': 4, 'n_estimators': 10}\n"
     ]
    }
   ],
   "source": [
    "cvres = grid_search.cv_results_\n",
    "for mean_score, params in zip(cvres[\"mean_test_score\"], cvres[\"params\"]):\n",
    "    print(np.sqrt(-mean_score), params)"
   ]
  },
  {
   "cell_type": "markdown",
   "id": "f1339fe5",
   "metadata": {},
   "source": [
    "###### Analyze the Best Models and Their Errors"
   ]
  },
  {
   "cell_type": "code",
   "execution_count": 74,
   "id": "f10d2b2e",
   "metadata": {},
   "outputs": [
    {
     "data": {
      "text/plain": [
       "array([1.00169395e-03, 1.47395704e-02, 2.72350425e-02, 8.63635998e-02,\n",
       "       1.24830004e-03, 2.96559629e-04, 1.24261695e-03, 8.89062710e-04,\n",
       "       8.45896762e-04, 8.44754977e-04, 3.46908794e-01, 1.89207899e-02,\n",
       "       9.66642370e-02, 1.73607333e-01, 6.55854020e-04, 1.19014770e-03,\n",
       "       1.55813131e-04, 1.48425169e-04, 1.51869692e-04, 1.51997707e-04,\n",
       "       1.86433549e-04, 2.02732518e-04, 1.24456743e-04, 1.25239333e-04,\n",
       "       2.69981847e-02, 2.38829098e-02, 2.43687683e-02, 8.93719664e-02,\n",
       "       9.80305629e-03, 2.81913421e-02, 2.34825515e-02])"
      ]
     },
     "execution_count": 74,
     "metadata": {},
     "output_type": "execute_result"
    }
   ],
   "source": [
    "feature_importances = grid_search.best_estimator_.feature_importances_\n",
    "feature_importances"
   ]
  },
  {
   "cell_type": "code",
   "execution_count": 75,
   "id": "7500e04f",
   "metadata": {},
   "outputs": [
    {
     "data": {
      "text/plain": [
       "[(0.3469087940833297, 'total_area'),\n",
       " (0.17360733259758546, 'extra_a_per_total_a'),\n",
       " (0.09666423698856996, 'rooms_count'),\n",
       " (0.08636359976920283, 'other_area'),\n",
       " (0.027235042545467405, 'bath_area'),\n",
       " (0.01892078986372037, 'bath_count'),\n",
       " (0.014739570399616014, 'kitchen_area'),\n",
       " (0.0012483000412345526, 'extra_area'),\n",
       " (0.0012426169530679238, 'year'),\n",
       " (0.0011901477037620748, 'extra_a_count_per_room_count'),\n",
       " (0.0010016939502962149, 'index'),\n",
       " (0.0008890627102601967, 'ceil_height'),\n",
       " (0.0008458967620520635, 'floor_max'),\n",
       " (0.0008447549769116083, 'floor'),\n",
       " (0.0006558540204023583, 'bath_a_per_total_a'),\n",
       " (0.0002965596288559091, 'extra_area_count'),\n",
       " (0.00015581313106007092, 'No'),\n",
       " (0.0001484251689706362, 'Yes')]"
      ]
     },
     "execution_count": 75,
     "metadata": {},
     "output_type": "execute_result"
    }
   ],
   "source": [
    "# feature importance score with corresponding attribute\n",
    "extra_attribs = [\"extra_a_per_total_a\", \"bath_a_per_total_a\", \"extra_a_count_per_room_count\"]\n",
    "cat_encoder = full_pipeline.named_transformers_[\"cat\"]\n",
    "cat_one_hot_attribs = list(cat_encoder.categories_[0])\n",
    "attributes = num_attribs + extra_attribs + cat_one_hot_attribs\n",
    "sorted(zip(feature_importances, attributes), reverse=True)"
   ]
  },
  {
   "cell_type": "markdown",
   "id": "8a354b57",
   "metadata": {},
   "source": [
    "### Evaluate System on the Test Set"
   ]
  },
  {
   "cell_type": "code",
   "execution_count": 76,
   "id": "23bd443e",
   "metadata": {},
   "outputs": [
    {
     "data": {
      "text/plain": [
       "223886.4730595138"
      ]
     },
     "execution_count": 76,
     "metadata": {},
     "output_type": "execute_result"
    }
   ],
   "source": [
    "final_model = grid_search.best_estimator_\n",
    "\n",
    "X_test = strat_test_set.drop(\"price\", axis=1)\n",
    "y_test = strat_test_set[\"price\"].copy()\n",
    "\n",
    "X_test_prepared = full_pipeline.transform(X_test)\n",
    "\n",
    "final_predictions = final_model.predict(X_test_prepared)\n",
    "\n",
    "final_mse = mean_squared_error(y_test, final_predictions)\n",
    "final_rmse = np.sqrt(final_mse)\n",
    "final_rmse"
   ]
  },
  {
   "cell_type": "markdown",
   "id": "a59dfb38",
   "metadata": {},
   "source": [
    "######  confidence interval for the generalization error"
   ]
  },
  {
   "cell_type": "code",
   "execution_count": 77,
   "id": "508eb29f",
   "metadata": {},
   "outputs": [
    {
     "data": {
      "text/plain": [
       "array([220527.87818812, 227195.42376532])"
      ]
     },
     "execution_count": 77,
     "metadata": {},
     "output_type": "execute_result"
    }
   ],
   "source": [
    "from scipy import stats\n",
    "confidence = 0.95\n",
    "squared_errors = (final_predictions - y_test) ** 2\n",
    "np.sqrt(stats.t.interval(confidence, len(squared_errors) - 1,\n",
    "                         loc=squared_errors.mean(),\n",
    "                         scale=stats.sem(squared_errors)))"
   ]
  },
  {
   "cell_type": "code",
   "execution_count": null,
   "id": "93d2a5d1",
   "metadata": {},
   "outputs": [],
   "source": []
  }
 ],
 "metadata": {
  "kernelspec": {
   "display_name": "Python 3",
   "language": "python",
   "name": "python3"
  },
  "language_info": {
   "codemirror_mode": {
    "name": "ipython",
    "version": 3
   },
   "file_extension": ".py",
   "mimetype": "text/x-python",
   "name": "python",
   "nbconvert_exporter": "python",
   "pygments_lexer": "ipython3",
   "version": "3.7.10"
  }
 },
 "nbformat": 4,
 "nbformat_minor": 5
}
