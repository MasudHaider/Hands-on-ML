{
 "cells": [
  {
   "cell_type": "code",
   "execution_count": 1,
   "id": "d33dc9a5",
   "metadata": {},
   "outputs": [],
   "source": [
    "import numpy as np\n",
    "import pandas as pd\n",
    "import matplotlib.pyplot as plt"
   ]
  },
  {
   "cell_type": "code",
   "execution_count": 26,
   "id": "ba706796",
   "metadata": {},
   "outputs": [],
   "source": [
    "#read csv file\n",
    "data = pd.read_csv(\"E:\\ITMOflat2021\\data.csv\")"
   ]
  },
  {
   "cell_type": "code",
   "execution_count": 27,
   "id": "721c312f",
   "metadata": {},
   "outputs": [
    {
     "data": {
      "text/html": [
       "<div>\n",
       "<style scoped>\n",
       "    .dataframe tbody tr th:only-of-type {\n",
       "        vertical-align: middle;\n",
       "    }\n",
       "\n",
       "    .dataframe tbody tr th {\n",
       "        vertical-align: top;\n",
       "    }\n",
       "\n",
       "    .dataframe thead th {\n",
       "        text-align: right;\n",
       "    }\n",
       "</style>\n",
       "<table border=\"1\" class=\"dataframe\">\n",
       "  <thead>\n",
       "    <tr style=\"text-align: right;\">\n",
       "      <th></th>\n",
       "      <th>index</th>\n",
       "      <th>kitchen_area</th>\n",
       "      <th>bath_area</th>\n",
       "      <th>other_area</th>\n",
       "      <th>gas</th>\n",
       "      <th>hot_water</th>\n",
       "      <th>central_heating</th>\n",
       "      <th>extra_area</th>\n",
       "      <th>extra_area_count</th>\n",
       "      <th>year</th>\n",
       "      <th>ceil_height</th>\n",
       "      <th>floor_max</th>\n",
       "      <th>floor</th>\n",
       "      <th>total_area</th>\n",
       "      <th>bath_count</th>\n",
       "      <th>extra_area_type_name</th>\n",
       "      <th>district_name</th>\n",
       "      <th>rooms_count</th>\n",
       "      <th>price</th>\n",
       "    </tr>\n",
       "  </thead>\n",
       "  <tbody>\n",
       "    <tr>\n",
       "      <th>0</th>\n",
       "      <td>0</td>\n",
       "      <td>19</td>\n",
       "      <td>19</td>\n",
       "      <td>11.709233</td>\n",
       "      <td>No</td>\n",
       "      <td>Yes</td>\n",
       "      <td>Yes</td>\n",
       "      <td>12</td>\n",
       "      <td>1</td>\n",
       "      <td>1942</td>\n",
       "      <td>3.98</td>\n",
       "      <td>5</td>\n",
       "      <td>2</td>\n",
       "      <td>53.709233</td>\n",
       "      <td>2</td>\n",
       "      <td>loggia</td>\n",
       "      <td>Petrogradskij</td>\n",
       "      <td>0</td>\n",
       "      <td>8366331</td>\n",
       "    </tr>\n",
       "    <tr>\n",
       "      <th>1</th>\n",
       "      <td>1</td>\n",
       "      <td>17</td>\n",
       "      <td>21</td>\n",
       "      <td>65.196263</td>\n",
       "      <td>No</td>\n",
       "      <td>Yes</td>\n",
       "      <td>Yes</td>\n",
       "      <td>3</td>\n",
       "      <td>1</td>\n",
       "      <td>1959</td>\n",
       "      <td>2.50</td>\n",
       "      <td>9</td>\n",
       "      <td>9</td>\n",
       "      <td>104.196263</td>\n",
       "      <td>2</td>\n",
       "      <td>balcony</td>\n",
       "      <td>Kirovskij</td>\n",
       "      <td>6</td>\n",
       "      <td>11004979</td>\n",
       "    </tr>\n",
       "    <tr>\n",
       "      <th>2</th>\n",
       "      <td>2</td>\n",
       "      <td>26</td>\n",
       "      <td>31</td>\n",
       "      <td>11.816443</td>\n",
       "      <td>Yes</td>\n",
       "      <td>Yes</td>\n",
       "      <td>No</td>\n",
       "      <td>13</td>\n",
       "      <td>0</td>\n",
       "      <td>1999</td>\n",
       "      <td>4.92</td>\n",
       "      <td>14</td>\n",
       "      <td>14</td>\n",
       "      <td>73.149777</td>\n",
       "      <td>2</td>\n",
       "      <td>balcony</td>\n",
       "      <td>Krasnoselskij</td>\n",
       "      <td>1</td>\n",
       "      <td>7780920</td>\n",
       "    </tr>\n",
       "    <tr>\n",
       "      <th>3</th>\n",
       "      <td>3</td>\n",
       "      <td>12</td>\n",
       "      <td>31</td>\n",
       "      <td>28.539965</td>\n",
       "      <td>Yes</td>\n",
       "      <td>No</td>\n",
       "      <td>Yes</td>\n",
       "      <td>8</td>\n",
       "      <td>1</td>\n",
       "      <td>1936</td>\n",
       "      <td>2.50</td>\n",
       "      <td>3</td>\n",
       "      <td>3</td>\n",
       "      <td>74.206632</td>\n",
       "      <td>2</td>\n",
       "      <td>loggia</td>\n",
       "      <td>Nevskij</td>\n",
       "      <td>2</td>\n",
       "      <td>9682538</td>\n",
       "    </tr>\n",
       "    <tr>\n",
       "      <th>4</th>\n",
       "      <td>4</td>\n",
       "      <td>15</td>\n",
       "      <td>30</td>\n",
       "      <td>26.616288</td>\n",
       "      <td>No</td>\n",
       "      <td>Yes</td>\n",
       "      <td>Yes</td>\n",
       "      <td>11</td>\n",
       "      <td>1</td>\n",
       "      <td>2012</td>\n",
       "      <td>3.80</td>\n",
       "      <td>11</td>\n",
       "      <td>4</td>\n",
       "      <td>75.282955</td>\n",
       "      <td>2</td>\n",
       "      <td>balcony</td>\n",
       "      <td>Centralnyj</td>\n",
       "      <td>1</td>\n",
       "      <td>11304146</td>\n",
       "    </tr>\n",
       "  </tbody>\n",
       "</table>\n",
       "</div>"
      ],
      "text/plain": [
       "   index  kitchen_area  bath_area  other_area  gas hot_water central_heating  \\\n",
       "0      0            19         19   11.709233   No       Yes             Yes   \n",
       "1      1            17         21   65.196263   No       Yes             Yes   \n",
       "2      2            26         31   11.816443  Yes       Yes              No   \n",
       "3      3            12         31   28.539965  Yes        No             Yes   \n",
       "4      4            15         30   26.616288   No       Yes             Yes   \n",
       "\n",
       "   extra_area  extra_area_count  year  ceil_height  floor_max  floor  \\\n",
       "0          12                 1  1942         3.98          5      2   \n",
       "1           3                 1  1959         2.50          9      9   \n",
       "2          13                 0  1999         4.92         14     14   \n",
       "3           8                 1  1936         2.50          3      3   \n",
       "4          11                 1  2012         3.80         11      4   \n",
       "\n",
       "   total_area  bath_count extra_area_type_name  district_name  rooms_count  \\\n",
       "0   53.709233           2               loggia  Petrogradskij            0   \n",
       "1  104.196263           2              balcony      Kirovskij            6   \n",
       "2   73.149777           2              balcony  Krasnoselskij            1   \n",
       "3   74.206632           2               loggia        Nevskij            2   \n",
       "4   75.282955           2              balcony     Centralnyj            1   \n",
       "\n",
       "      price  \n",
       "0   8366331  \n",
       "1  11004979  \n",
       "2   7780920  \n",
       "3   9682538  \n",
       "4  11304146  "
      ]
     },
     "execution_count": 27,
     "metadata": {},
     "output_type": "execute_result"
    }
   ],
   "source": [
    "data.head()"
   ]
  },
  {
   "cell_type": "code",
   "execution_count": 28,
   "id": "c3ac2892",
   "metadata": {},
   "outputs": [
    {
     "data": {
      "text/plain": [
       "Index(['index', 'kitchen_area', 'bath_area', 'other_area', 'gas', 'hot_water',\n",
       "       'central_heating', 'extra_area', 'extra_area_count', 'year',\n",
       "       'ceil_height', 'floor_max', 'floor', 'total_area', 'bath_count',\n",
       "       'extra_area_type_name', 'district_name', 'rooms_count', 'price'],\n",
       "      dtype='object')"
      ]
     },
     "execution_count": 28,
     "metadata": {},
     "output_type": "execute_result"
    }
   ],
   "source": [
    "data.columns"
   ]
  },
  {
   "cell_type": "code",
   "execution_count": 29,
   "id": "5fbe3834",
   "metadata": {},
   "outputs": [
    {
     "name": "stdout",
     "output_type": "stream",
     "text": [
      "   total_area     price\n",
      "0   53.709233   8366331\n",
      "1  104.196263  11004979\n",
      "2   73.149777   7780920\n",
      "3   74.206632   9682538\n",
      "4   75.282955  11304146\n"
     ]
    }
   ],
   "source": [
    "# select features only for prediction\n",
    "data = data[['total_area', 'price']]\n",
    "print(data.head())"
   ]
  },
  {
   "cell_type": "code",
   "execution_count": 30,
   "id": "f2025781",
   "metadata": {},
   "outputs": [
    {
     "data": {
      "image/png": "[encoded data removed]",
      "text/plain": [
       "<Figure size 432x288 with 1 Axes>"
      ]
     },
     "metadata": {
      "needs_background": "light"
     },
     "output_type": "display_data"
    }
   ],
   "source": [
    "#scatter plot\n",
    "# total_area vs price:\n",
    "\n",
    "plt.scatter(data[\"total_area\"], data[\"price\"])\n",
    "plt.title(\"Total Area VS Price\")\n",
    "plt.xlabel(\"Total Area\")\n",
    "plt.ylabel(\"Price\")\n",
    "plt.show()"
   ]
  },
  {
   "cell_type": "code",
   "execution_count": 32,
   "id": "1f7c4420",
   "metadata": {},
   "outputs": [
    {
     "name": "stdout",
     "output_type": "stream",
     "text": [
      "Data:  100000\n",
      "Train:  80000\n",
      "Test:  20000\n"
     ]
    }
   ],
   "source": [
    "num = int(len(data)*0.8)\n",
    "\n",
    "#training data\n",
    "train = data[:num]\n",
    "\n",
    "# testing data\n",
    "test = data[num:]\n",
    "\n",
    "print(\"Data: \", len(data))\n",
    "print(\"Train: \", len(train))\n",
    "print(\"Test: \", len(test))"
   ]
  },
  {
   "cell_type": "code",
   "execution_count": 37,
   "id": "3ee4772d",
   "metadata": {},
   "outputs": [],
   "source": [
    "# main function to find the co-efficients of line\n",
    "\n",
    "def simple_linear_regression(input_feature, output):\n",
    "    Xi = input_feature\n",
    "    Yi = output\n",
    "    \n",
    "    #total data points\n",
    "    n = len(Xi)\n",
    "    \n",
    "    #X_bar\n",
    "    Xi_mean = Xi.mean()\n",
    "    \n",
    "    #Y_bar\n",
    "    Yi_mean = Yi.mean()\n",
    "    \n",
    "    #Sum of X\n",
    "    Sum_Xi = (Xi).sum()\n",
    "    \n",
    "    #Sum of Y\n",
    "    Sum_Yi = (Yi).sum()\n",
    "    \n",
    "    # Sum of (X*Y) multiplied by n\n",
    "    Sum_XiYi = ((Xi*Yi).sum())*n\n",
    "    \n",
    "    #Sum of X*sum of Y\n",
    "    Sum_Xi_Sum_Yi = Sum_Xi * Sum_Yi\n",
    "    \n",
    "    #sum of (X*X) multiplied by n\n",
    "    Sum_XiXi = ((Xi * Xi).sum())*n\n",
    "    \n",
    "    #square sum of X\n",
    "    Sum_Xi_Square = Sum_Xi * Sum_Xi\n",
    "    \n",
    "    #slope\n",
    "    slope = (Sum_XiYi - Sum_Xi_Sum_Yi) / (Sum_XiXi - Sum_Xi_Square)\n",
    "    \n",
    "    #intercept\n",
    "    intercept = Yi_mean - slope * Xi_mean\n",
    "    \n",
    "    return slope, intercept"
   ]
  },
  {
   "cell_type": "code",
   "execution_count": 38,
   "id": "d357c6f8",
   "metadata": {},
   "outputs": [
    {
     "name": "stdout",
     "output_type": "stream",
     "text": [
      "Slope:  1.0\n",
      "Intercept:  0.0\n"
     ]
    }
   ],
   "source": [
    "# check function with dummy data\n",
    "dummy_input = np.array([1, 2, 3, 4, 5])\n",
    "dummy_output = np.array([1, 2, 3, 4, 5])\n",
    "\n",
    "dummy_slope, dummy_intercept = simple_linear_regression(dummy_input, dummy_output)\n",
    "\n",
    "print(\"Slope: \", dummy_slope)\n",
    "print(\"Intercept: \", dummy_intercept)"
   ]
  },
  {
   "cell_type": "code",
   "execution_count": 40,
   "id": "4c92aa01",
   "metadata": {},
   "outputs": [
    {
     "data": {
      "image/png": "[encoded data removed]",
      "text/plain": [
       "<Figure size 432x288 with 1 Axes>"
      ]
     },
     "metadata": {
      "needs_background": "light"
     },
     "output_type": "display_data"
    }
   ],
   "source": [
    "# graph for dummy data\n",
    "plt.scatter([1, 2, 3, 4, 5], [1, 2, 3, 4, 5])\n",
    "plt.plot([1, 2, 3, 4, 5], [1, 2, 3, 4, 5], color='red')\n",
    "plt.show()"
   ]
  },
  {
   "cell_type": "markdown",
   "id": "326d8006",
   "metadata": {},
   "source": [
    "###### finding the coefficient of our actual dataset"
   ]
  },
  {
   "cell_type": "code",
   "execution_count": 41,
   "id": "cb97566b",
   "metadata": {},
   "outputs": [
    {
     "name": "stdout",
     "output_type": "stream",
     "text": [
      "Slope:  127702.63381355928\n",
      "Intercept:  305295.8810264617\n"
     ]
    }
   ],
   "source": [
    "slope, intercept = simple_linear_regression(train[\"total_area\"], train[\"price\"])\n",
    "\n",
    "print(\"Slope: \", slope)\n",
    "print(\"Intercept: \", intercept)"
   ]
  },
  {
   "cell_type": "code",
   "execution_count": 42,
   "id": "07009ca8",
   "metadata": {},
   "outputs": [
    {
     "data": {
      "image/png": "[encoded data removed]",
      "text/plain": [
       "<Figure size 432x288 with 1 Axes>"
      ]
     },
     "metadata": {
      "needs_background": "light"
     },
     "output_type": "display_data"
    }
   ],
   "source": [
    "#plot regression line with actual data \n",
    "plt.scatter(train[\"total_area\"], train[\"price\"])\n",
    "plt.plot(train[\"total_area\"], slope * train[\"total_area\"] + intercept, color=\"green\")\n",
    "plt.xlabel(\"Total Area\")\n",
    "plt.ylabel(\"Price\")\n",
    "plt.show()"
   ]
  },
  {
   "cell_type": "code",
   "execution_count": 43,
   "id": "3a69dcaf",
   "metadata": {},
   "outputs": [],
   "source": [
    "# define the prediction function\n",
    "\n",
    "def get_regression_prediction(input_features, slope, intercept):\n",
    "    predicted_value = slope * input_features + intercept\n",
    "    return predicted_value"
   ]
  },
  {
   "cell_type": "code",
   "execution_count": 44,
   "id": "288bd804",
   "metadata": {},
   "outputs": [
    {
     "name": "stdout",
     "output_type": "stream",
     "text": [
      "Estimated price:  14013535.107742982\n"
     ]
    }
   ],
   "source": [
    "# predicting price based on above function\n",
    "\n",
    "my_total_area = 107.345\n",
    "\n",
    "est_price = get_regression_prediction(my_total_area, slope, intercept)\n",
    "\n",
    "print(\"Estimated price: \", est_price)"
   ]
  },
  {
   "cell_type": "code",
   "execution_count": 45,
   "id": "04887af2",
   "metadata": {},
   "outputs": [
    {
     "name": "stdout",
     "output_type": "stream",
     "text": [
      "0        7.164106e+06\n",
      "1        1.361143e+07\n",
      "2        9.646715e+06\n",
      "3        9.781678e+06\n",
      "4        9.919127e+06\n",
      "             ...     \n",
      "99995    6.639585e+06\n",
      "99996    6.610875e+06\n",
      "99997    8.204132e+06\n",
      "99998    9.783740e+06\n",
      "99999    1.345483e+07\n",
      "Name: total_area, Length: 100000, dtype: float64\n"
     ]
    }
   ],
   "source": [
    "# predict values for whole dataset\n",
    "\n",
    "y_pred = get_regression_prediction(data[\"total_area\"], slope, intercept)\n",
    "print(y_pred)"
   ]
  },
  {
   "cell_type": "code",
   "execution_count": 48,
   "id": "5f8a4e03",
   "metadata": {},
   "outputs": [
    {
     "data": {
      "image/png": "[encoded data removed]",
      "text/plain": [
       "<Figure size 432x288 with 1 Axes>"
      ]
     },
     "metadata": {
      "needs_background": "light"
     },
     "output_type": "display_data"
    }
   ],
   "source": [
    "# plot regression line for test data\n",
    "\n",
    "plt.scatter(test[\"total_area\"], test[\"price\"])\n",
    "plt.plot(test[\"total_area\"], slope * test[\"total_area\"] + intercept, color=\"red\")\n",
    "plt.xlabel(\"Total Area\")\n",
    "plt.ylabel(\"Price\")\n",
    "plt.show()"
   ]
  },
  {
   "cell_type": "code",
   "execution_count": 50,
   "id": "fe57bf56",
   "metadata": {},
   "outputs": [
    {
     "data": {
      "image/png": "[encoded data removed]",
      "text/plain": [
       "<Figure size 432x288 with 1 Axes>"
      ]
     },
     "metadata": {
      "needs_background": "light"
     },
     "output_type": "display_data"
    }
   ],
   "source": [
    "#plot training data with regression line\n",
    "\n",
    "plt.scatter(train[\"total_area\"], train[\"price\"])\n",
    "plt.plot(train[\"total_area\"], slope * train[\"total_area\"] + intercept, color=\"green\")\n",
    "plt.xlabel(\"Total Area\")\n",
    "plt.ylabel(\"Price\")\n",
    "plt.show()"
   ]
  },
  {
   "cell_type": "code",
   "execution_count": 51,
   "id": "99aaf6d9",
   "metadata": {},
   "outputs": [
    {
     "data": {
      "image/png": "[encoded data removed]",
      "text/plain": [
       "<Figure size 432x288 with 1 Axes>"
      ]
     },
     "metadata": {
      "needs_background": "light"
     },
     "output_type": "display_data"
    }
   ],
   "source": [
    "# plot whole data with regression line\n",
    "\n",
    "plt.scatter(data[\"total_area\"], data[\"price\"])\n",
    "plt.plot(data[\"total_area\"], slope * data[\"total_area\"] + intercept, color=\"green\")\n",
    "plt.xlabel(\"Total Area\")\n",
    "plt.ylabel(\"Price\")\n",
    "plt.show()"
   ]
  },
  {
   "cell_type": "code",
   "execution_count": 54,
   "id": "f1cf8dc9",
   "metadata": {},
   "outputs": [
    {
     "name": "stdout",
     "output_type": "stream",
     "text": [
      "     Actual     Predicted\n",
      "0   8366331  7.164106e+06\n",
      "1  11004979  1.361143e+07\n",
      "2   7780920  9.646715e+06\n",
      "3   9682538  9.781678e+06\n",
      "4  11304146  9.919127e+06\n"
     ]
    }
   ],
   "source": [
    "# dataframe for actual and predicted values\n",
    "\n",
    "act_pred_data = pd.DataFrame({\"Actual\": data[\"price\"], \"Predicted\": y_pred})\n",
    "print(act_pred_data.head())"
   ]
  },
  {
   "cell_type": "code",
   "execution_count": 55,
   "id": "21487c3b",
   "metadata": {},
   "outputs": [
    {
     "data": {
      "image/png": "[encoded data removed]",
      "text/plain": [
       "<Figure size 864x432 with 1 Axes>"
      ]
     },
     "metadata": {
      "needs_background": "light"
     },
     "output_type": "display_data"
    }
   ],
   "source": [
    "# plot bar graph for actual and predicted values\n",
    "\n",
    "act_pred_data.head(10).plot(kind='bar', figsize=(12, 6))\n",
    "plt.show()"
   ]
  },
  {
   "cell_type": "code",
   "execution_count": 56,
   "id": "94467986",
   "metadata": {},
   "outputs": [],
   "source": [
    "# error calculation using residual sum of squares\n",
    "\n",
    "def residual_sum_squares(input_feature, output, slope, intercept):\n",
    "    prediction = slope * input_feature + intercept\n",
    "    \n",
    "    residual = (output - prediction)\n",
    "    \n",
    "    RSS = (residual * residual).sum()\n",
    "    \n",
    "    return (RSS)"
   ]
  },
  {
   "cell_type": "code",
   "execution_count": 57,
   "id": "2aad65f3",
   "metadata": {},
   "outputs": [
    {
     "name": "stdout",
     "output_type": "stream",
     "text": [
      "RSS:  5.573656231463893e+16\n"
     ]
    }
   ],
   "source": [
    "# error in our prediction for the dataset\n",
    "\n",
    "print(\"RSS: \", residual_sum_squares(test[\"total_area\"], test[\"price\"], slope, intercept))"
   ]
  },
  {
   "cell_type": "code",
   "execution_count": null,
   "id": "3e0d39b2",
   "metadata": {},
   "outputs": [],
   "source": []
  }
 ],
 "metadata": {
  "kernelspec": {
   "display_name": "Python (hands-on-ml)",
   "language": "python",
   "name": "hands-on-ml"
  },
  "language_info": {
   "codemirror_mode": {
    "name": "ipython",
    "version": 3
   },
   "file_extension": ".py",
   "mimetype": "text/x-python",
   "name": "python",
   "nbconvert_exporter": "python",
   "pygments_lexer": "ipython3",
   "version": "3.8.8"
  }
 },
 "nbformat": 4,
 "nbformat_minor": 5
}
