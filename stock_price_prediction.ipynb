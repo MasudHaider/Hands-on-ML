{
 "cells": [
  {
   "cell_type": "markdown",
   "id": "bf406eda",
   "metadata": {},
   "source": [
    "### Linear regression from scratch"
   ]
  },
  {
   "cell_type": "code",
   "execution_count": 1,
   "id": "dc94cfbb",
   "metadata": {},
   "outputs": [],
   "source": [
    "def compute_prediction(X, weights):\n",
    "    # compute prediction y_hat based on current weights\n",
    "    \n",
    "    predictions = np.dot(X, weights)\n",
    "    return predictions"
   ]
  },
  {
   "cell_type": "code",
   "execution_count": 2,
   "id": "aaa382d7",
   "metadata": {},
   "outputs": [],
   "source": [
    "def update_weights_gd(X_train, y_train, weights, learning_rate):\n",
    "    # update weights by one step and return the updated weights\n",
    "    \n",
    "    predictions = compute_prediction(X_train, weights)\n",
    "    weights_delta = np.dot(X_train.T, y_train - predictions)\n",
    "    m = X_train.shape[0]\n",
    "    weights += learning_rate / float(m) * weights_delta\n",
    "    return weights"
   ]
  },
  {
   "cell_type": "code",
   "execution_count": 3,
   "id": "ac97077e",
   "metadata": {},
   "outputs": [],
   "source": [
    "def compute_cost(X, y, weights):\n",
    "    # compute cost J(w)\n",
    "    \n",
    "    predictions = compute_prediction(X, weights)\n",
    "    cost = np.mean((predictions - y) ** 2 / 2.0)\n",
    "    return cost"
   ]
  },
  {
   "cell_type": "markdown",
   "id": "1e9a11ce",
   "metadata": {},
   "source": [
    "###### put all function together with a model training function with 2 tasks:\n",
    "######           1. update weight vector in each iteration\n",
    "######           2. print current cost for every 100 iterations "
   ]
  },
  {
   "cell_type": "code",
   "execution_count": 4,
   "id": "bd41ec25",
   "metadata": {},
   "outputs": [],
   "source": [
    "def train_linear_regression(X_train, y_train, max_iter, learning_rate, fit_intercept=False):\n",
    "    if fit_intercept:\n",
    "        intercept = np.ones((X_train.shape[0], 1))\n",
    "        X_train = np.hstack((intercept, X_train))\n",
    "    weights = np.zeros(X_train.shape[1])\n",
    "    for iteration in range(max_iter):\n",
    "        weights = update_weights_gd(X_train, y_train, weights, learning_rate)\n",
    "        \n",
    "        if iteration % 100 == 0:\n",
    "            print(compute_cost(X_train, y_train, weights))\n",
    "    return weights"
   ]
  },
  {
   "cell_type": "code",
   "execution_count": 5,
   "id": "9ce0f84d",
   "metadata": {},
   "outputs": [],
   "source": [
    "def predict(X, weights):\n",
    "    if X.shape[1] == weights.shape[0] - 1:\n",
    "        intercept = np.ones((X.shape[0], 1))\n",
    "        X = np.hstack((intercept, X))\n",
    "    return compute_prediction(X, weights)"
   ]
  },
  {
   "cell_type": "markdown",
   "id": "ff3893d6",
   "metadata": {},
   "source": [
    "###### examine the model "
   ]
  },
  {
   "cell_type": "code",
   "execution_count": 7,
   "id": "23a27d4b",
   "metadata": {},
   "outputs": [],
   "source": [
    "import numpy as np\n",
    "X_train = np.array([[6], [2], [3], [4], [1], [5], [2], [6], [4], [7]])\n",
    "y_train = np.array([5.5, 1.6, 2.2, 3.7, 0.8, 5.2, 1.5, 5.3, 4.4, 6.8])"
   ]
  },
  {
   "cell_type": "code",
   "execution_count": 8,
   "id": "682f3dc1",
   "metadata": {},
   "outputs": [
    {
     "name": "stdout",
     "output_type": "stream",
     "text": [
      "5.571972628\n"
     ]
    }
   ],
   "source": [
    "weights = train_linear_regression(X_train, y_train, max_iter=100, learning_rate=0.01, fit_intercept=True)"
   ]
  },
  {
   "cell_type": "code",
   "execution_count": 9,
   "id": "ee389086",
   "metadata": {},
   "outputs": [],
   "source": [
    "X_test = np.array([[1.3], [3.5], [5.2], [2.8]])\n",
    "predictions = predict(X_test, weights)"
   ]
  },
  {
   "cell_type": "code",
   "execution_count": 11,
   "id": "5d3b89ac",
   "metadata": {},
   "outputs": [
    {
     "data": {
      "image/png": "[encoded data removed]",
      "text/plain": [
       "<Figure size 432x288 with 1 Axes>"
      ]
     },
     "metadata": {
      "needs_background": "light"
     },
     "output_type": "display_data"
    }
   ],
   "source": [
    "import matplotlib.pyplot as plt\n",
    "plt.scatter(X_train[:, 0], y_train, marker='o', c='b')\n",
    "plt.scatter(X_test[:, 0], predictions, marker='*', c='k')\n",
    "plt.xlabel(\"x\")\n",
    "plt.ylabel(\"y\")\n",
    "plt.show()"
   ]
  },
  {
   "cell_type": "markdown",
   "id": "fa0976b3",
   "metadata": {},
   "source": [
    "###### try it on another dataset"
   ]
  },
  {
   "cell_type": "code",
   "execution_count": 12,
   "id": "2432983f",
   "metadata": {},
   "outputs": [],
   "source": [
    "from sklearn.datasets import load_diabetes"
   ]
  },
  {
   "cell_type": "code",
   "execution_count": 13,
   "id": "4bff8b9e",
   "metadata": {},
   "outputs": [],
   "source": [
    "diabetes = load_diabetes()"
   ]
  },
  {
   "cell_type": "code",
   "execution_count": 16,
   "id": "8cd3e75c",
   "metadata": {},
   "outputs": [
    {
     "data": {
      "text/plain": [
       "(442, 10)"
      ]
     },
     "execution_count": 16,
     "metadata": {},
     "output_type": "execute_result"
    }
   ],
   "source": [
    "diabetes.data.shape"
   ]
  },
  {
   "cell_type": "code",
   "execution_count": 17,
   "id": "fae386f7",
   "metadata": {},
   "outputs": [],
   "source": [
    "num_test = 30"
   ]
  },
  {
   "cell_type": "code",
   "execution_count": 18,
   "id": "2378ced0",
   "metadata": {},
   "outputs": [],
   "source": [
    "X_train = diabetes.data[:-num_test, :]\n",
    "y_train = diabetes.target[:-num_test]"
   ]
  },
  {
   "cell_type": "code",
   "execution_count": 19,
   "id": "d37ae75b",
   "metadata": {},
   "outputs": [
    {
     "name": "stdout",
     "output_type": "stream",
     "text": [
      "2960.1229914979613\n",
      "1984.7462454746603\n",
      "1729.7738773110927\n",
      "1627.6313188621898\n",
      "1572.7594881683715\n",
      "1539.5508092659084\n",
      "1518.613970696935\n",
      "1505.18745041147\n",
      "1496.4839556100546\n",
      "1490.7883504050646\n",
      "1487.02495657815\n",
      "1484.5122232041988\n",
      "1482.8149885868897\n",
      "1481.653480588507\n",
      "1480.8466247976992\n",
      "1480.2764434158962\n",
      "1479.865546786167\n",
      "1479.5628140620274\n",
      "1479.3342299057756\n",
      "1479.1569872186708\n",
      "1479.0156704666117\n",
      "1478.8997716076012\n",
      "1478.8020640163982\n",
      "1478.7175316918754\n",
      "1478.6426597055656\n",
      "1478.5749609087395\n",
      "1478.5126580122144\n",
      "1478.454468440121\n",
      "1478.399457585006\n",
      "1478.346937887091\n",
      "1478.296398827891\n",
      "1478.2474579352602\n",
      "1478.1998261818974\n",
      "1478.1532833254585\n",
      "1478.1076601744603\n",
      "1478.062825721594\n",
      "1478.0186777284687\n",
      "1477.9751357796013\n",
      "1477.9321361185653\n",
      "1477.8896277814242\n",
      "1477.8475696822725\n",
      "1477.8059284029846\n",
      "1477.764676507645\n",
      "1477.72379125052\n",
      "1477.683253581075\n",
      "1477.6430473744476\n",
      "1477.603158833949\n",
      "1477.5635760254204\n",
      "1477.5242885130954\n",
      "1477.48528707389\n"
     ]
    }
   ],
   "source": [
    "weights = train_linear_regression(X_train, y_train, max_iter=5000, learning_rate=1, fit_intercept=True)"
   ]
  },
  {
   "cell_type": "code",
   "execution_count": 20,
   "id": "1d7bf87d",
   "metadata": {},
   "outputs": [
    {
     "data": {
      "text/plain": [
       "array([232.22305668, 123.87481969, 166.12805033, 170.23901231,\n",
       "       228.12868839, 154.95746522, 101.09058779,  87.33631249,\n",
       "       143.68332296, 190.29353122, 198.00676871, 149.63039042,\n",
       "       169.56066651, 109.01983998, 161.98477191, 133.00870377,\n",
       "       260.1831988 , 101.52551082, 115.76677836, 120.7338523 ,\n",
       "       219.62602446,  62.21227353, 136.29989073, 122.27908721,\n",
       "        55.14492975, 191.50339388, 105.685612  , 126.25915035,\n",
       "       208.99755875,  47.66517424])"
      ]
     },
     "execution_count": 20,
     "metadata": {},
     "output_type": "execute_result"
    }
   ],
   "source": [
    "X_test = diabetes.data[-num_test:, :]\n",
    "y_test = diabetes.target[-num_test:]\n",
    "predictions = predict(X_test, weights)\n",
    "predictions"
   ]
  },
  {
   "cell_type": "code",
   "execution_count": 21,
   "id": "67e60eb1",
   "metadata": {},
   "outputs": [
    {
     "data": {
      "text/plain": [
       "array([261., 113., 131., 174., 257.,  55.,  84.,  42., 146., 212., 233.,\n",
       "        91., 111., 152., 120.,  67., 310.,  94., 183.,  66., 173.,  72.,\n",
       "        49.,  64.,  48., 178., 104., 132., 220.,  57.])"
      ]
     },
     "execution_count": 21,
     "metadata": {},
     "output_type": "execute_result"
    }
   ],
   "source": [
    "y_test"
   ]
  },
  {
   "cell_type": "markdown",
   "id": "47a43521",
   "metadata": {},
   "source": [
    "###### implementing linear regression with scikit-learn"
   ]
  },
  {
   "cell_type": "code",
   "execution_count": 1,
   "id": "e89b574a",
   "metadata": {},
   "outputs": [],
   "source": [
    "from sklearn.linear_model import SGDRegressor"
   ]
  },
  {
   "cell_type": "code",
   "execution_count": 2,
   "id": "507ec006",
   "metadata": {},
   "outputs": [],
   "source": [
    "regressor = SGDRegressor(loss='squared_loss', penalty='l2', alpha=0.0001, learning_rate='constant', eta0=0.01, max_iter=1000)"
   ]
  },
  {
   "cell_type": "code",
   "execution_count": 3,
   "id": "07c01cb6",
   "metadata": {},
   "outputs": [
    {
     "ename": "NameError",
     "evalue": "name 'X_train' is not defined",
     "output_type": "error",
     "traceback": [
      "\u001b[1;31m---------------------------------------------------------------------------\u001b[0m",
      "\u001b[1;31mNameError\u001b[0m                                 Traceback (most recent call last)",
      "\u001b[1;32m<ipython-input-3-cb9aa30858d7>\u001b[0m in \u001b[0;36m<module>\u001b[1;34m\u001b[0m\n\u001b[1;32m----> 1\u001b[1;33m \u001b[0mregressor\u001b[0m\u001b[1;33m.\u001b[0m\u001b[0mfit\u001b[0m\u001b[1;33m(\u001b[0m\u001b[0mX_train\u001b[0m\u001b[1;33m,\u001b[0m \u001b[0my_train\u001b[0m\u001b[1;33m)\u001b[0m\u001b[1;33m\u001b[0m\u001b[1;33m\u001b[0m\u001b[0m\n\u001b[0m",
      "\u001b[1;31mNameError\u001b[0m: name 'X_train' is not defined"
     ]
    }
   ],
   "source": [
    "regressor.fit(X_train, y_train)"
   ]
  },
  {
   "cell_type": "code",
   "execution_count": 34,
   "id": "b0c0b44f",
   "metadata": {},
   "outputs": [],
   "source": [
    "predictions = regressor.predict(X_test)"
   ]
  },
  {
   "cell_type": "code",
   "execution_count": 35,
   "id": "7d36e4eb",
   "metadata": {},
   "outputs": [
    {
     "data": {
      "text/plain": [
       "array([2.26131123e+27, 2.35369539e+27, 2.64252608e+27, 2.54865846e+27,\n",
       "       2.37099722e+27, 2.31699667e+27, 2.34008049e+27, 2.31069911e+27,\n",
       "       2.04985550e+27, 2.08285674e+27, 2.11502610e+27, 2.12947964e+27,\n",
       "       2.03704851e+27, 2.37528807e+27, 2.28027091e+27, 2.20721191e+27,\n",
       "       2.03440450e+27, 2.22239643e+27, 2.10543577e+27, 2.04695411e+27,\n",
       "       2.29314098e+27, 2.80130360e+27, 2.40476768e+27, 2.19294329e+27,\n",
       "       2.22451208e+27, 2.02036555e+27, 1.92510347e+27, 1.71264796e+27,\n",
       "       1.67362735e+27, 1.72718449e+27, 1.68582420e+27, 1.85243018e+27,\n",
       "       1.94236597e+27, 1.79621907e+27, 1.81732476e+27, 1.72969657e+27,\n",
       "       1.78394155e+27, 1.73982949e+27, 1.66796189e+27, 1.64532476e+27,\n",
       "       1.96537283e+27, 1.81746035e+27, 1.78292489e+27, 1.64597576e+27,\n",
       "       1.65876221e+27, 1.70135675e+27, 1.63612951e+27, 1.76859911e+27,\n",
       "       1.81994055e+27, 1.88233943e+27, 1.79923357e+27, 3.22447123e+27,\n",
       "       2.61546811e+27, 2.43562539e+27, 2.37617419e+27, 2.41357924e+27,\n",
       "       2.26669260e+27, 1.98092703e+27, 1.97723736e+27, 1.87849511e+27,\n",
       "       1.77490536e+27, 1.86173960e+27, 1.83915713e+27, 1.68758563e+27,\n",
       "       1.74827862e+27, 1.64000811e+27, 1.60870758e+27, 1.56695507e+27,\n",
       "       1.61121255e+27, 1.46864181e+27, 1.49528989e+27, 2.13460583e+27,\n",
       "       1.72040057e+27, 1.88448122e+27, 2.13956087e+27, 2.03115092e+27,\n",
       "       1.70620586e+27, 1.92555594e+27, 1.83924190e+27, 1.81731218e+27,\n",
       "       1.86313624e+27, 1.72585573e+27, 1.93800470e+27, 1.83171084e+27,\n",
       "       1.78400930e+27, 1.67110079e+27, 1.76882368e+27, 1.91339564e+27,\n",
       "       1.72880450e+27, 1.93200621e+27, 1.79700662e+27, 2.02798462e+27,\n",
       "       1.80470705e+27, 1.74337942e+27, 1.88142493e+27, 1.76574590e+27,\n",
       "       1.68236238e+27, 1.62092280e+27, 1.57737676e+27, 1.79215942e+27,\n",
       "       1.47682411e+27, 2.01670204e+27, 1.85417053e+27, 1.61942577e+27,\n",
       "       1.82867787e+27, 1.95084520e+27, 1.75782478e+27, 1.69037881e+27,\n",
       "       1.63324143e+27, 1.66886948e+27, 1.55772936e+27, 1.54601816e+27,\n",
       "       1.45848631e+27, 1.43727738e+27, 1.40820777e+27, 1.36956375e+27,\n",
       "       1.59548273e+27, 1.50952184e+27, 1.65588193e+27, 2.58995838e+27,\n",
       "       1.84774908e+27, 1.98775123e+27, 1.95794735e+27, 1.87566427e+27,\n",
       "       2.67489219e+27, 1.99905659e+27, 1.85714739e+27, 1.67109544e+27,\n",
       "       1.79024369e+27, 1.52690477e+27, 1.48971494e+27, 1.45457105e+27,\n",
       "       1.60489174e+27, 1.60869854e+27, 1.47149086e+27, 1.54980182e+27,\n",
       "       1.46112934e+27, 1.50249680e+27, 1.76385591e+27, 1.55794976e+27,\n",
       "       1.62554146e+27, 1.61213105e+27, 1.60306634e+27, 1.52974054e+27,\n",
       "       1.57841038e+27, 1.68791506e+27, 2.13063884e+27, 2.23052962e+27,\n",
       "       2.05592662e+27, 2.39698501e+27, 2.08246374e+27, 2.14672085e+27,\n",
       "       1.94391674e+27, 1.83102516e+27, 1.61372134e+27, 1.92146202e+27,\n",
       "       2.05641830e+27, 2.02172735e+27, 1.85427764e+27, 1.75908193e+27,\n",
       "       1.71312299e+27, 1.57429052e+27, 1.53014540e+27, 2.06060674e+27,\n",
       "       1.64302907e+27, 1.76723398e+27, 1.60893739e+27, 1.61161697e+27,\n",
       "       1.11642652e+28, 5.42076328e+27, 5.35889658e+27, 5.52202773e+27,\n",
       "       5.38855928e+27, 2.83755969e+27, 3.05993575e+27, 2.91595803e+27,\n",
       "       2.84965791e+27, 2.85282176e+27, 2.75702915e+27, 2.69496370e+27,\n",
       "       2.63627358e+27, 2.61983926e+27, 3.80149281e+27, 2.94571630e+27,\n",
       "       3.24304391e+27, 3.05548788e+27, 3.03320644e+27, 2.70407940e+27,\n",
       "       2.71607877e+27, 2.00322911e+27, 2.22604275e+27, 2.02744423e+27,\n",
       "       1.96934511e+27, 1.90325749e+27, 2.04049197e+27, 1.79852909e+27,\n",
       "       1.86319905e+27, 2.11194973e+27, 1.81647899e+27, 2.01226014e+27,\n",
       "       1.92338279e+27, 1.94855197e+27, 2.15168786e+27, 1.93899241e+27,\n",
       "       2.02206908e+27, 1.96264023e+27, 1.97503719e+27, 2.01842574e+27,\n",
       "       2.09336096e+27, 2.03105872e+27, 1.92713487e+27, 2.04933206e+27,\n",
       "       2.03907514e+27, 2.03076968e+27, 2.07906225e+27, 1.93408302e+27,\n",
       "       1.98467642e+27, 1.87750813e+27, 1.81658125e+27, 1.79300356e+27,\n",
       "       2.02226047e+27, 2.14382269e+27, 2.10731788e+27, 2.00553640e+27,\n",
       "       1.97152593e+27, 2.00177800e+27, 1.88813877e+27, 1.81361725e+27,\n",
       "       1.90664449e+27, 2.22091690e+27, 1.85579466e+27, 1.67805678e+27,\n",
       "       2.00668946e+27, 2.15052360e+27, 1.89720659e+27, 1.87121314e+27,\n",
       "       1.87470221e+27, 1.85336595e+27, 1.77023960e+27, 1.76931870e+27,\n",
       "       2.03575761e+27, 1.96780344e+27, 2.10820867e+27, 2.12443969e+27,\n",
       "       2.12560925e+27, 2.04168290e+27, 3.56986099e+27, 2.42652301e+27,\n",
       "       2.06447480e+27, 2.25023810e+27, 2.30583121e+27, 1.78655198e+27])"
      ]
     },
     "execution_count": 35,
     "metadata": {},
     "output_type": "execute_result"
    }
   ],
   "source": [
    "predictions"
   ]
  },
  {
   "cell_type": "markdown",
   "id": "ac477709",
   "metadata": {},
   "source": [
    "###### acquiring data (Dow Jones Industrial Average)"
   ]
  },
  {
   "cell_type": "code",
   "execution_count": 4,
   "id": "fa8032da",
   "metadata": {},
   "outputs": [],
   "source": [
    "import pandas as pd\n",
    "data_raw = pd.read_csv('D:/19880101_20191231.csv', index_col='Date')"
   ]
  },
  {
   "cell_type": "code",
   "execution_count": 5,
   "id": "b09c5785",
   "metadata": {},
   "outputs": [
    {
     "data": {
      "text/html": [
       "<div>\n",
       "<style scoped>\n",
       "    .dataframe tbody tr th:only-of-type {\n",
       "        vertical-align: middle;\n",
       "    }\n",
       "\n",
       "    .dataframe tbody tr th {\n",
       "        vertical-align: top;\n",
       "    }\n",
       "\n",
       "    .dataframe thead th {\n",
       "        text-align: right;\n",
       "    }\n",
       "</style>\n",
       "<table border=\"1\" class=\"dataframe\">\n",
       "  <thead>\n",
       "    <tr style=\"text-align: right;\">\n",
       "      <th></th>\n",
       "      <th>Open</th>\n",
       "      <th>High</th>\n",
       "      <th>Low</th>\n",
       "      <th>Close</th>\n",
       "      <th>Volume</th>\n",
       "    </tr>\n",
       "    <tr>\n",
       "      <th>Date</th>\n",
       "      <th></th>\n",
       "      <th></th>\n",
       "      <th></th>\n",
       "      <th></th>\n",
       "      <th></th>\n",
       "    </tr>\n",
       "  </thead>\n",
       "  <tbody>\n",
       "    <tr>\n",
       "      <th>1988-01-04</th>\n",
       "      <td>1950.8</td>\n",
       "      <td>2030.0</td>\n",
       "      <td>1950.8</td>\n",
       "      <td>2015.3</td>\n",
       "      <td>20877900</td>\n",
       "    </tr>\n",
       "    <tr>\n",
       "      <th>1988-01-05</th>\n",
       "      <td>2021.4</td>\n",
       "      <td>2075.3</td>\n",
       "      <td>2021.4</td>\n",
       "      <td>2031.5</td>\n",
       "      <td>27195361</td>\n",
       "    </tr>\n",
       "    <tr>\n",
       "      <th>1988-01-06</th>\n",
       "      <td>2031.5</td>\n",
       "      <td>2058.2</td>\n",
       "      <td>2012.8</td>\n",
       "      <td>2037.8</td>\n",
       "      <td>18790681</td>\n",
       "    </tr>\n",
       "    <tr>\n",
       "      <th>1988-01-07</th>\n",
       "      <td>2037.8</td>\n",
       "      <td>2061.5</td>\n",
       "      <td>2004.6</td>\n",
       "      <td>2051.9</td>\n",
       "      <td>21377283</td>\n",
       "    </tr>\n",
       "    <tr>\n",
       "      <th>1988-01-08</th>\n",
       "      <td>2051.9</td>\n",
       "      <td>2058.7</td>\n",
       "      <td>1898.0</td>\n",
       "      <td>1911.3</td>\n",
       "      <td>27445517</td>\n",
       "    </tr>\n",
       "  </tbody>\n",
       "</table>\n",
       "</div>"
      ],
      "text/plain": [
       "              Open    High     Low   Close    Volume\n",
       "Date                                                \n",
       "1988-01-04  1950.8  2030.0  1950.8  2015.3  20877900\n",
       "1988-01-05  2021.4  2075.3  2021.4  2031.5  27195361\n",
       "1988-01-06  2031.5  2058.2  2012.8  2037.8  18790681\n",
       "1988-01-07  2037.8  2061.5  2004.6  2051.9  21377283\n",
       "1988-01-08  2051.9  2058.7  1898.0  1911.3  27445517"
      ]
     },
     "execution_count": 5,
     "metadata": {},
     "output_type": "execute_result"
    }
   ],
   "source": [
    "data_raw.head()"
   ]
  },
  {
   "cell_type": "markdown",
   "id": "c0458c7b",
   "metadata": {},
   "source": [
    "###### generating features"
   ]
  },
  {
   "cell_type": "markdown",
   "id": "f6acc0b3",
   "metadata": {},
   "source": [
    "###### sub function that creates features directly from the original six features"
   ]
  },
  {
   "cell_type": "code",
   "execution_count": 6,
   "id": "452647af",
   "metadata": {},
   "outputs": [],
   "source": [
    "def add_original_features(df, df_new):\n",
    "    df_new['open'] = df['Open']\n",
    "    df_new['open_1'] = df['Open'].shift(1)\n",
    "    df_new['close_1'] = df['Close'].shift(1)\n",
    "    df_new['high_1'] = df['High'].shift(1)\n",
    "    df_new['low_1'] = df['Low'].shift(1)\n",
    "    df_new['volume_1'] = df['Volume'].shift(1)    "
   ]
  },
  {
   "cell_type": "markdown",
   "id": "adf98802",
   "metadata": {},
   "source": [
    "###### sub function that generates six features related to average close prices"
   ]
  },
  {
   "cell_type": "code",
   "execution_count": 7,
   "id": "f238371b",
   "metadata": {},
   "outputs": [],
   "source": [
    "def add_avg_price(df, df_new):\n",
    "    df_new['avg_price_5'] = df['Close'].rolling(5).mean().shift(1) # 5 trading days in a week\n",
    "    df_new['avg_price_30'] = df['Close'].rolling(21).mean().shift(1) # 21 trading days in a month\n",
    "    df_new['avg_price_365'] = df['Close'].rolling(252).mean().shift(1) # 252 trading days in a year\n",
    "    df_new['ratio_avg_price_5_30'] = df_new['avg_price_5'] / df_new['avg_price_30']\n",
    "    df_new['ratio_avg_price_5_365'] = df_new['avg_price_5'] / df_new['avg_price_365']\n",
    "    df_new['ratio_avg_price_30_365'] = df_new['avg_price_30'] / df_new['avg_price_365']"
   ]
  },
  {
   "cell_type": "markdown",
   "id": "9c49629f",
   "metadata": {},
   "source": [
    "###### sub function that generates six features related to average volumes "
   ]
  },
  {
   "cell_type": "code",
   "execution_count": 8,
   "id": "e510c332",
   "metadata": {},
   "outputs": [],
   "source": [
    "def add_avg_volume(df, df_new):\n",
    "    df_new['avg_volume_5'] = df['Volume'].rolling(5).mean().shift(1)\n",
    "    df_new['avg_volume_30'] = df['Volume'].rolling(21).mean().shift(1)\n",
    "    df_new['avg_volume_365'] = df['Volume'].rolling(252).mean().shift(1)\n",
    "    df_new['ratio_avg_volume_5_30'] = df_new['avg_volume_5'] / df_new['avg_volume_30']\n",
    "    df_new['ratio_avg_volume_5_365'] = df_new['avg_volume_5'] / df_new['avg_volume_365']\n",
    "    df_new['ratio_avg_volume_30_365'] = df_new['avg_volume_30'] / df_new['avg_volume_365']"
   ]
  },
  {
   "cell_type": "markdown",
   "id": "30d91b29",
   "metadata": {},
   "source": [
    "###### Stock volatility: degree of variation of prices of a stock over time (standard deviation of close prices)"
   ]
  },
  {
   "cell_type": "code",
   "execution_count": 9,
   "id": "6f7b529b",
   "metadata": {},
   "outputs": [],
   "source": [
    "def add_std_price(df, df_new):\n",
    "    df_new['std_price_5'] = df['Close'].rolling(5).std().shift(1)\n",
    "    df_new['std_price_30'] = df['Close'].rolling(21).std().shift(1)\n",
    "    df_new['std_price_365'] = df['Close'].rolling(252).std().shift(1)\n",
    "    df_new['ratio_std_price_5_30'] = df_new['std_price_5'] / df_new['std_price_30']\n",
    "    df_new['ratio_std_price_5_365'] = df_new['std_price_5'] / df_new['std_price_365']\n",
    "    df_new['ratio_std_price_30_365'] = df_new['std_price_30'] / df_new['std_price_365']"
   ]
  },
  {
   "cell_type": "markdown",
   "id": "50dc2e6a",
   "metadata": {},
   "source": [
    "###### ratios of std of volumes traded over time"
   ]
  },
  {
   "cell_type": "code",
   "execution_count": 10,
   "id": "b5809cfd",
   "metadata": {},
   "outputs": [],
   "source": [
    "def add_std_volume(df, df_new):\n",
    "    df_new['std_volume_5'] = df['Volume'].rolling(5).std().shift(1)\n",
    "    df_new['std_volume_30'] = df['Volume'].rolling(21).std().shift(1)\n",
    "    df_new['std_volume_365'] = df['Volume'].rolling(252).std().shift(1)\n",
    "    df_new['ratio_std_volume_5_30'] = df_new['std_volume_5'] / df_new['std_volume_30']\n",
    "    df_new['ratio_std_volume_5_365'] = df_new['std_volume_5'] / df_new['std_volume_365']\n",
    "    df_new['ratio_std_volume_30_365'] = df_new['std_volume_30'] / df_new['std_volume_365']"
   ]
  },
  {
   "cell_type": "markdown",
   "id": "e389f4d0",
   "metadata": {},
   "source": [
    "###### Return: percentage of gain/loss for a stock over a period"
   ]
  },
  {
   "cell_type": "code",
   "execution_count": 11,
   "id": "71cd8be6",
   "metadata": {},
   "outputs": [],
   "source": [
    "def add_return_feature(df, df_new):\n",
    "    df_new['return_1'] = ((df['Close'] - df['Close'].shift(1)) / df['Close'].shift(1)).shift(1)\n",
    "    df_new['return_5'] = ((df['Close'] - df['Close'].shift(5)) / df['Close'].shift(5)).shift(1)\n",
    "    df_new['return_30'] = ((df['Close'] - df['Close'].shift(21)) / df['Close'].shift(21)).shift(1)\n",
    "    df_new['return_365'] = ((df['Close'] - df['Close'].shift(252)) / df['Close'].shift(252)).shift(1)\n",
    "    df_new['moving_avg_5'] = df_new['return_1'].rolling(5).mean().shift(1)\n",
    "    df_new['moving_avg_30'] = df_new['return_1'].rolling(21).mean().shift(1)\n",
    "    df_new['moving_avg_365'] = df_new['return_1'].rolling(252).mean().shift(1)"
   ]
  },
  {
   "cell_type": "code",
   "execution_count": 12,
   "id": "1bd5f346",
   "metadata": {},
   "outputs": [],
   "source": [
    "def generate_features(df):\n",
    "    df_new = pd.DataFrame()\n",
    "    # 6 original features\n",
    "    add_original_features(df, df_new)\n",
    "    # 31 generated features\n",
    "    add_avg_price(df, df_new)\n",
    "    add_avg_volume(df, df_new)\n",
    "    add_std_price(df, df_new) \n",
    "    add_std_volume(df, df_new)\n",
    "    add_return_feature(df, df_new)\n",
    "    # the target\n",
    "    df_new['close'] = df['Close']\n",
    "    df_new = df_new.dropna(axis=0)\n",
    "    return df_new"
   ]
  },
  {
   "cell_type": "markdown",
   "id": "e2566b11",
   "metadata": {},
   "source": [
    "###### apply avobe feature engineering strategy on downloaded DJIA data "
   ]
  },
  {
   "cell_type": "code",
   "execution_count": 13,
   "id": "6c8c551b",
   "metadata": {},
   "outputs": [],
   "source": [
    "data = generate_features(data_raw) "
   ]
  },
  {
   "cell_type": "code",
   "execution_count": 14,
   "id": "a3427c4a",
   "metadata": {},
   "outputs": [
    {
     "data": {
      "text/html": [
       "<div>\n",
       "<style scoped>\n",
       "    .dataframe tbody tr th:only-of-type {\n",
       "        vertical-align: middle;\n",
       "    }\n",
       "\n",
       "    .dataframe tbody tr th {\n",
       "        vertical-align: top;\n",
       "    }\n",
       "\n",
       "    .dataframe thead th {\n",
       "        text-align: right;\n",
       "    }\n",
       "</style>\n",
       "<table border=\"1\" class=\"dataframe\">\n",
       "  <thead>\n",
       "    <tr style=\"text-align: right;\">\n",
       "      <th></th>\n",
       "      <th>open</th>\n",
       "      <th>open_1</th>\n",
       "      <th>close_1</th>\n",
       "      <th>high_1</th>\n",
       "      <th>low_1</th>\n",
       "      <th>volume_1</th>\n",
       "      <th>avg_price_5</th>\n",
       "      <th>avg_price_30</th>\n",
       "      <th>avg_price_365</th>\n",
       "      <th>ratio_avg_price_5_30</th>\n",
       "      <th>...</th>\n",
       "      <th>ratio_std_volume_5_365</th>\n",
       "      <th>ratio_std_volume_30_365</th>\n",
       "      <th>return_1</th>\n",
       "      <th>return_5</th>\n",
       "      <th>return_30</th>\n",
       "      <th>return_365</th>\n",
       "      <th>moving_avg_5</th>\n",
       "      <th>moving_avg_30</th>\n",
       "      <th>moving_avg_365</th>\n",
       "      <th>close</th>\n",
       "    </tr>\n",
       "    <tr>\n",
       "      <th>Date</th>\n",
       "      <th></th>\n",
       "      <th></th>\n",
       "      <th></th>\n",
       "      <th></th>\n",
       "      <th></th>\n",
       "      <th></th>\n",
       "      <th></th>\n",
       "      <th></th>\n",
       "      <th></th>\n",
       "      <th></th>\n",
       "      <th></th>\n",
       "      <th></th>\n",
       "      <th></th>\n",
       "      <th></th>\n",
       "      <th></th>\n",
       "      <th></th>\n",
       "      <th></th>\n",
       "      <th></th>\n",
       "      <th></th>\n",
       "      <th></th>\n",
       "      <th></th>\n",
       "    </tr>\n",
       "  </thead>\n",
       "  <tbody>\n",
       "    <tr>\n",
       "      <th>1989-01-04</th>\n",
       "      <td>2146.6</td>\n",
       "      <td>2168.4</td>\n",
       "      <td>2144.6</td>\n",
       "      <td>2168.4</td>\n",
       "      <td>2127.1</td>\n",
       "      <td>17302883.0</td>\n",
       "      <td>2165.00</td>\n",
       "      <td>2150.624</td>\n",
       "      <td>2062.113</td>\n",
       "      <td>1.007</td>\n",
       "      <td>...</td>\n",
       "      <td>0.563</td>\n",
       "      <td>0.723</td>\n",
       "      <td>-0.011</td>\n",
       "      <td>-0.011</td>\n",
       "      <td>0.020</td>\n",
       "      <td>0.056</td>\n",
       "      <td>0.001</td>\n",
       "      <td>0.001</td>\n",
       "      <td>0.000</td>\n",
       "      <td>2177.7</td>\n",
       "    </tr>\n",
       "    <tr>\n",
       "      <th>1989-01-05</th>\n",
       "      <td>2177.7</td>\n",
       "      <td>2146.6</td>\n",
       "      <td>2177.7</td>\n",
       "      <td>2183.4</td>\n",
       "      <td>2146.6</td>\n",
       "      <td>15714720.0</td>\n",
       "      <td>2168.00</td>\n",
       "      <td>2154.690</td>\n",
       "      <td>2062.668</td>\n",
       "      <td>1.006</td>\n",
       "      <td>...</td>\n",
       "      <td>0.474</td>\n",
       "      <td>0.724</td>\n",
       "      <td>0.015</td>\n",
       "      <td>0.007</td>\n",
       "      <td>0.041</td>\n",
       "      <td>0.069</td>\n",
       "      <td>-0.002</td>\n",
       "      <td>0.001</td>\n",
       "      <td>0.000</td>\n",
       "      <td>2190.5</td>\n",
       "    </tr>\n",
       "    <tr>\n",
       "      <th>1989-01-06</th>\n",
       "      <td>2190.5</td>\n",
       "      <td>2177.7</td>\n",
       "      <td>2190.5</td>\n",
       "      <td>2205.2</td>\n",
       "      <td>2173.0</td>\n",
       "      <td>20303094.0</td>\n",
       "      <td>2172.82</td>\n",
       "      <td>2157.867</td>\n",
       "      <td>2063.218</td>\n",
       "      <td>1.007</td>\n",
       "      <td>...</td>\n",
       "      <td>0.580</td>\n",
       "      <td>0.748</td>\n",
       "      <td>0.006</td>\n",
       "      <td>0.011</td>\n",
       "      <td>0.031</td>\n",
       "      <td>0.068</td>\n",
       "      <td>0.001</td>\n",
       "      <td>0.002</td>\n",
       "      <td>0.000</td>\n",
       "      <td>2194.3</td>\n",
       "    </tr>\n",
       "    <tr>\n",
       "      <th>1989-01-09</th>\n",
       "      <td>2194.3</td>\n",
       "      <td>2190.5</td>\n",
       "      <td>2194.3</td>\n",
       "      <td>2213.8</td>\n",
       "      <td>2182.3</td>\n",
       "      <td>16494441.0</td>\n",
       "      <td>2175.14</td>\n",
       "      <td>2160.005</td>\n",
       "      <td>2064.341</td>\n",
       "      <td>1.007</td>\n",
       "      <td>...</td>\n",
       "      <td>0.516</td>\n",
       "      <td>0.746</td>\n",
       "      <td>0.002</td>\n",
       "      <td>0.005</td>\n",
       "      <td>0.021</td>\n",
       "      <td>0.148</td>\n",
       "      <td>0.002</td>\n",
       "      <td>0.001</td>\n",
       "      <td>0.000</td>\n",
       "      <td>2199.5</td>\n",
       "    </tr>\n",
       "    <tr>\n",
       "      <th>1989-01-10</th>\n",
       "      <td>2199.5</td>\n",
       "      <td>2194.3</td>\n",
       "      <td>2199.5</td>\n",
       "      <td>2209.1</td>\n",
       "      <td>2185.0</td>\n",
       "      <td>18410324.0</td>\n",
       "      <td>2181.32</td>\n",
       "      <td>2162.190</td>\n",
       "      <td>2065.351</td>\n",
       "      <td>1.009</td>\n",
       "      <td>...</td>\n",
       "      <td>0.279</td>\n",
       "      <td>0.742</td>\n",
       "      <td>0.002</td>\n",
       "      <td>0.014</td>\n",
       "      <td>0.021</td>\n",
       "      <td>0.131</td>\n",
       "      <td>0.001</td>\n",
       "      <td>0.001</td>\n",
       "      <td>0.001</td>\n",
       "      <td>2193.2</td>\n",
       "    </tr>\n",
       "  </tbody>\n",
       "</table>\n",
       "<p>5 rows × 38 columns</p>\n",
       "</div>"
      ],
      "text/plain": [
       "              open  open_1  close_1  high_1   low_1    volume_1  avg_price_5  \\\n",
       "Date                                                                           \n",
       "1989-01-04  2146.6  2168.4   2144.6  2168.4  2127.1  17302883.0      2165.00   \n",
       "1989-01-05  2177.7  2146.6   2177.7  2183.4  2146.6  15714720.0      2168.00   \n",
       "1989-01-06  2190.5  2177.7   2190.5  2205.2  2173.0  20303094.0      2172.82   \n",
       "1989-01-09  2194.3  2190.5   2194.3  2213.8  2182.3  16494441.0      2175.14   \n",
       "1989-01-10  2199.5  2194.3   2199.5  2209.1  2185.0  18410324.0      2181.32   \n",
       "\n",
       "            avg_price_30  avg_price_365  ratio_avg_price_5_30  ...  \\\n",
       "Date                                                           ...   \n",
       "1989-01-04      2150.624       2062.113                 1.007  ...   \n",
       "1989-01-05      2154.690       2062.668                 1.006  ...   \n",
       "1989-01-06      2157.867       2063.218                 1.007  ...   \n",
       "1989-01-09      2160.005       2064.341                 1.007  ...   \n",
       "1989-01-10      2162.190       2065.351                 1.009  ...   \n",
       "\n",
       "            ratio_std_volume_5_365  ratio_std_volume_30_365  return_1  \\\n",
       "Date                                                                    \n",
       "1989-01-04                   0.563                    0.723    -0.011   \n",
       "1989-01-05                   0.474                    0.724     0.015   \n",
       "1989-01-06                   0.580                    0.748     0.006   \n",
       "1989-01-09                   0.516                    0.746     0.002   \n",
       "1989-01-10                   0.279                    0.742     0.002   \n",
       "\n",
       "            return_5  return_30  return_365  moving_avg_5  moving_avg_30  \\\n",
       "Date                                                                       \n",
       "1989-01-04    -0.011      0.020       0.056         0.001          0.001   \n",
       "1989-01-05     0.007      0.041       0.069        -0.002          0.001   \n",
       "1989-01-06     0.011      0.031       0.068         0.001          0.002   \n",
       "1989-01-09     0.005      0.021       0.148         0.002          0.001   \n",
       "1989-01-10     0.014      0.021       0.131         0.001          0.001   \n",
       "\n",
       "            moving_avg_365   close  \n",
       "Date                                \n",
       "1989-01-04           0.000  2177.7  \n",
       "1989-01-05           0.000  2190.5  \n",
       "1989-01-06           0.000  2194.3  \n",
       "1989-01-09           0.000  2199.5  \n",
       "1989-01-10           0.001  2193.2  \n",
       "\n",
       "[5 rows x 38 columns]"
      ]
     },
     "execution_count": 14,
     "metadata": {},
     "output_type": "execute_result"
    }
   ],
   "source": [
    "data.round(decimals=3).head(5)"
   ]
  },
  {
   "cell_type": "markdown",
   "id": "6f0dccde",
   "metadata": {},
   "source": [
    "###### training set = 1988 to 2018, testing set = 2019"
   ]
  },
  {
   "cell_type": "code",
   "execution_count": 15,
   "id": "65777608",
   "metadata": {},
   "outputs": [
    {
     "data": {
      "text/plain": [
       "(7558, 37)"
      ]
     },
     "execution_count": 15,
     "metadata": {},
     "output_type": "execute_result"
    }
   ],
   "source": [
    "start_train = '1988-01-01'\n",
    "end_train = '2018-12-31'\n",
    "start_test = '2019-01-01'\n",
    "end_test = '2019-12-31'\n",
    "data_train = data.loc[start_train : end_train]\n",
    "X_train = data_train.drop('close', axis=1).values\n",
    "y_train = data_train['close'].values\n",
    "X_train.shape"
   ]
  },
  {
   "cell_type": "code",
   "execution_count": 16,
   "id": "7c4be379",
   "metadata": {},
   "outputs": [
    {
     "data": {
      "text/plain": [
       "(7558,)"
      ]
     },
     "execution_count": 16,
     "metadata": {},
     "output_type": "execute_result"
    }
   ],
   "source": [
    "y_train.shape"
   ]
  },
  {
   "cell_type": "code",
   "execution_count": 17,
   "id": "053ff142",
   "metadata": {},
   "outputs": [],
   "source": [
    "data_test = data.loc[start_test : end_test]"
   ]
  },
  {
   "cell_type": "code",
   "execution_count": 18,
   "id": "9164191b",
   "metadata": {},
   "outputs": [
    {
     "data": {
      "text/plain": [
       "(252, 37)"
      ]
     },
     "execution_count": 18,
     "metadata": {},
     "output_type": "execute_result"
    }
   ],
   "source": [
    "X_test = data_test.drop('close', axis=1).values\n",
    "X_test.shape"
   ]
  },
  {
   "cell_type": "code",
   "execution_count": 19,
   "id": "713a1b1e",
   "metadata": {},
   "outputs": [
    {
     "data": {
      "text/plain": [
       "(252,)"
      ]
     },
     "execution_count": 19,
     "metadata": {},
     "output_type": "execute_result"
    }
   ],
   "source": [
    "y_test = data_test['close'].values\n",
    "y_test.shape"
   ]
  },
  {
   "cell_type": "markdown",
   "id": "b35e69fc",
   "metadata": {},
   "source": [
    "###### normalize features"
   ]
  },
  {
   "cell_type": "code",
   "execution_count": 20,
   "id": "5224e317",
   "metadata": {},
   "outputs": [],
   "source": [
    "from sklearn.preprocessing import StandardScaler\n",
    "scaler = StandardScaler()"
   ]
  },
  {
   "cell_type": "code",
   "execution_count": 21,
   "id": "7c688372",
   "metadata": {},
   "outputs": [],
   "source": [
    "X_scaled_train = scaler.fit_transform(X_train)\n",
    "X_scaled_test = scaler.transform(X_test)"
   ]
  },
  {
   "cell_type": "markdown",
   "id": "6600f346",
   "metadata": {},
   "source": [
    "###### SGD-based linear regression with optimal parameters. alpha: regularization term parameter, eta0: initial learning rate"
   ]
  },
  {
   "cell_type": "code",
   "execution_count": 22,
   "id": "6d5b1384",
   "metadata": {},
   "outputs": [],
   "source": [
    "from sklearn.model_selection import GridSearchCV"
   ]
  },
  {
   "cell_type": "code",
   "execution_count": 23,
   "id": "d43120fb",
   "metadata": {},
   "outputs": [
    {
     "data": {
      "text/plain": [
       "GridSearchCV(cv=5, estimator=SGDRegressor(random_state=42),\n",
       "             param_grid={'alpha': [0.0001, 0.0003, 0.001],\n",
       "                         'eta0': [0.01, 0.03, 0.1]},\n",
       "             scoring='r2')"
      ]
     },
     "execution_count": 23,
     "metadata": {},
     "output_type": "execute_result"
    }
   ],
   "source": [
    "param_grid = {\n",
    "    \"alpha\": [1e-4, 3e-4, 1e-3],\n",
    "    \"eta0\": [0.01, 0.03, 0.1]\n",
    "}\n",
    "lr = SGDRegressor(penalty='l2', max_iter=1000, random_state=42)\n",
    "\n",
    "grid_search = GridSearchCV(lr, param_grid, cv=5, scoring='r2')\n",
    "grid_search.fit(X_scaled_train, y_train)"
   ]
  },
  {
   "cell_type": "markdown",
   "id": "ef4f993c",
   "metadata": {},
   "source": [
    "###### select best linear regression model and predictions of testing samples"
   ]
  },
  {
   "cell_type": "code",
   "execution_count": 24,
   "id": "914c1e51",
   "metadata": {},
   "outputs": [
    {
     "data": {
      "text/plain": [
       "{'alpha': 0.0001, 'eta0': 0.03}"
      ]
     },
     "execution_count": 24,
     "metadata": {},
     "output_type": "execute_result"
    }
   ],
   "source": [
    "grid_search.best_params_"
   ]
  },
  {
   "cell_type": "code",
   "execution_count": 25,
   "id": "2cb71e1b",
   "metadata": {},
   "outputs": [],
   "source": [
    "lr_best = grid_search.best_estimator_"
   ]
  },
  {
   "cell_type": "code",
   "execution_count": 26,
   "id": "c4f4f722",
   "metadata": {},
   "outputs": [],
   "source": [
    "predictions_lr = lr_best.predict(X_scaled_test)"
   ]
  },
  {
   "cell_type": "code",
   "execution_count": 27,
   "id": "311ca2fa",
   "metadata": {},
   "outputs": [],
   "source": [
    "from sklearn.metrics import mean_squared_error\n",
    "from sklearn.metrics import mean_absolute_error\n",
    "from sklearn.metrics import r2_score"
   ]
  },
  {
   "cell_type": "code",
   "execution_count": 28,
   "id": "c6df4c2b",
   "metadata": {},
   "outputs": [
    {
     "name": "stdout",
     "output_type": "stream",
     "text": [
      "MSE: 41422.205\n",
      "MAE: 154.561\n",
      "R^2: 0.964\n"
     ]
    }
   ],
   "source": [
    "print(f'MSE: {mean_squared_error(y_test, predictions_lr):.3f}')\n",
    "print(f'MAE: {mean_absolute_error(y_test, predictions_lr):.3f}')\n",
    "print(f'R^2: {r2_score(y_test, predictions_lr):.3f}')"
   ]
  },
  {
   "cell_type": "markdown",
   "id": "b16c2c78",
   "metadata": {},
   "source": [
    "### Support vector regressor ('linear' and 'rbf' kernel)"
   ]
  },
  {
   "cell_type": "code",
   "execution_count": 29,
   "id": "8a78c03e",
   "metadata": {},
   "outputs": [],
   "source": [
    "from sklearn.svm import SVR"
   ]
  },
  {
   "cell_type": "code",
   "execution_count": 30,
   "id": "c29220cb",
   "metadata": {},
   "outputs": [],
   "source": [
    "svr = SVR()"
   ]
  },
  {
   "cell_type": "code",
   "execution_count": 37,
   "id": "20621df9",
   "metadata": {},
   "outputs": [],
   "source": [
    "param_grid = [\n",
    "    {'kernel': ['linear'], 'C': [100, 300, 500], 'epsilon': [0.00003, 0.0001]},\n",
    "    {'kernel': ['rbf'], 'gamma': [1e-3, 1e-4], 'C': [10, 100, 1000], 'epsilon': [0.00003, 0.0001]},    \n",
    "]"
   ]
  },
  {
   "cell_type": "markdown",
   "id": "d750e6d2",
   "metadata": {},
   "source": [
    "###### Rescaled data is needed for SVR, otherwise performance is not well"
   ]
  },
  {
   "cell_type": "code",
   "execution_count": 38,
   "id": "edbf402d",
   "metadata": {},
   "outputs": [
    {
     "data": {
      "text/plain": [
       "GridSearchCV(cv=5, estimator=SVR(),\n",
       "             param_grid=[{'C': [100, 300, 500], 'epsilon': [3e-05, 0.0001],\n",
       "                          'kernel': ['linear']},\n",
       "                         {'C': [10, 100, 1000], 'epsilon': [3e-05, 0.0001],\n",
       "                          'gamma': [0.001, 0.0001], 'kernel': ['rbf']}],\n",
       "             scoring='r2')"
      ]
     },
     "execution_count": 38,
     "metadata": {},
     "output_type": "execute_result"
    }
   ],
   "source": [
    "grid_search = GridSearchCV(svr, param_grid, cv=5, scoring='r2')\n",
    "grid_search.fit(X_scaled_train, y_train)"
   ]
  },
  {
   "cell_type": "markdown",
   "id": "9d8defae",
   "metadata": {},
   "source": [
    "###### select best SVR model and make predictions"
   ]
  },
  {
   "cell_type": "code",
   "execution_count": 39,
   "id": "48a8cc0e",
   "metadata": {},
   "outputs": [
    {
     "data": {
      "text/plain": [
       "{'C': 500, 'epsilon': 0.0001, 'kernel': 'linear'}"
      ]
     },
     "execution_count": 39,
     "metadata": {},
     "output_type": "execute_result"
    }
   ],
   "source": [
    "grid_search.best_params_"
   ]
  },
  {
   "cell_type": "code",
   "execution_count": 40,
   "id": "907d0732",
   "metadata": {},
   "outputs": [],
   "source": [
    "svr_best = grid_search.best_estimator_"
   ]
  },
  {
   "cell_type": "code",
   "execution_count": 41,
   "id": "38cd9e8c",
   "metadata": {},
   "outputs": [],
   "source": [
    "predictions_svr = svr_best.predict(X_scaled_test)"
   ]
  },
  {
   "cell_type": "markdown",
   "id": "1f246607",
   "metadata": {},
   "source": [
    "###### error rates"
   ]
  },
  {
   "cell_type": "code",
   "execution_count": 42,
   "id": "de25aaaa",
   "metadata": {},
   "outputs": [
    {
     "name": "stdout",
     "output_type": "stream",
     "text": [
      "MSE: 29184.614\n",
      "MAE: 121.746\n",
      "R^2: 0.975\n"
     ]
    }
   ],
   "source": [
    "print(f'MSE: {mean_squared_error(y_test, predictions_svr):.3f}')\n",
    "print(f'MAE: {mean_absolute_error(y_test, predictions_svr):.3f}')\n",
    "print(f'R^2: {r2_score(y_test, predictions_svr):.3f}')"
   ]
  },
  {
   "cell_type": "markdown",
   "id": "b4c71ae6",
   "metadata": {},
   "source": [
    "### Random forest"
   ]
  },
  {
   "cell_type": "code",
   "execution_count": 31,
   "id": "c9a50ec7",
   "metadata": {},
   "outputs": [
    {
     "data": {
      "text/plain": [
       "GridSearchCV(cv=5, estimator=RandomForestRegressor(n_jobs=-1, random_state=42),\n",
       "             n_jobs=-1,\n",
       "             param_grid={'max_depth': [30, 50], 'min_samples_leaf': [3, 5],\n",
       "                         'min_samples_split': [2, 5, 10]},\n",
       "             scoring='r2')"
      ]
     },
     "execution_count": 31,
     "metadata": {},
     "output_type": "execute_result"
    }
   ],
   "source": [
    "from sklearn.ensemble import RandomForestRegressor\n",
    "\n",
    "param_grid = {\n",
    "    'max_depth': [30, 50],\n",
    "    'min_samples_split': [2, 5, 10],\n",
    "    'min_samples_leaf': [3, 5]\n",
    "}\n",
    "\n",
    "rf = RandomForestRegressor(n_estimators=100, n_jobs=-1, max_features='auto', random_state=42)\n",
    "grid_search = GridSearchCV(rf, param_grid, cv=5, scoring='r2', n_jobs=-1)\n",
    "grid_search.fit(X_train, y_train)"
   ]
  },
  {
   "cell_type": "code",
   "execution_count": 32,
   "id": "8d2debe6",
   "metadata": {},
   "outputs": [
    {
     "data": {
      "text/plain": [
       "{'max_depth': 50, 'min_samples_leaf': 3, 'min_samples_split': 10}"
      ]
     },
     "execution_count": 32,
     "metadata": {},
     "output_type": "execute_result"
    }
   ],
   "source": [
    "grid_search.best_params_"
   ]
  },
  {
   "cell_type": "code",
   "execution_count": 33,
   "id": "ae61434d",
   "metadata": {},
   "outputs": [],
   "source": [
    "rf_best = grid_search.best_estimator_"
   ]
  },
  {
   "cell_type": "code",
   "execution_count": 34,
   "id": "994c7e81",
   "metadata": {},
   "outputs": [],
   "source": [
    "predictions_rf = rf_best.predict(X_test)"
   ]
  },
  {
   "cell_type": "code",
   "execution_count": 35,
   "id": "873091ec",
   "metadata": {},
   "outputs": [
    {
     "name": "stdout",
     "output_type": "stream",
     "text": [
      "MSE: 416616.916\n",
      "MAE: 420.185\n",
      "R^2: 0.641\n"
     ]
    }
   ],
   "source": [
    "print(f'MSE: {mean_squared_error(y_test, predictions_rf):.3f}')\n",
    "print(f'MAE: {mean_absolute_error(y_test, predictions_rf):.3f}')\n",
    "print(f'R^2: {r2_score(y_test, predictions_rf):.3f}')"
   ]
  },
  {
   "cell_type": "markdown",
   "id": "f1c0fab2",
   "metadata": {},
   "source": [
    "#### Plot the predictions generated by each of the 3 algorithms, along with ground truth"
   ]
  },
  {
   "cell_type": "code",
   "execution_count": 43,
   "id": "24d6068d",
   "metadata": {},
   "outputs": [
    {
     "data": {
      "image/png": "[encoded data removed]",
      "text/plain": [
       "<Figure size 432x288 with 1 Axes>"
      ]
     },
     "metadata": {
      "needs_background": "light"
     },
     "output_type": "display_data"
    }
   ],
   "source": [
    "import matplotlib.pyplot as plt\n",
    "\n",
    "plt.plot(data_test.index, y_test, c='r')\n",
    "plt.plot(data_test.index, predictions_lr, c='b')\n",
    "plt.plot(data_test.index, predictions_svr, c='g')\n",
    "plt.plot(data_test.index, predictions_rf, c='k')\n",
    "plt.xticks(range(0, 252, 10), rotation=60)\n",
    "plt.xlabel('Date')\n",
    "plt.ylabel('Close price')\n",
    "plt.legend(['Truth', 'Linear regression', 'SVR', 'Random Forest'])\n",
    "plt.show()"
   ]
  },
  {
   "cell_type": "code",
   "execution_count": null,
   "id": "ae4cc1fd",
   "metadata": {},
   "outputs": [],
   "source": []
  }
 ],
 "metadata": {
  "kernelspec": {
   "display_name": "Python (hands-on-ml)",
   "language": "python",
   "name": "hands-on-ml"
  },
  "language_info": {
   "codemirror_mode": {
    "name": "ipython",
    "version": 3
   },
   "file_extension": ".py",
   "mimetype": "text/x-python",
   "name": "python",
   "nbconvert_exporter": "python",
   "pygments_lexer": "ipython3",
   "version": "3.8.8"
  }
 },
 "nbformat": 4,
 "nbformat_minor": 5
}
